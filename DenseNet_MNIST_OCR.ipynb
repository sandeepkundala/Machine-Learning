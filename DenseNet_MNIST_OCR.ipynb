{
 "cells": [
  {
   "cell_type": "code",
   "execution_count": 1,
   "metadata": {},
   "outputs": [],
   "source": [
    "# importing all necessary packages\n",
    "import gluonbook as gb\n",
    "import mxnet as mx\n",
    "from mxnet import gluon, init, nd, autograd\n",
    "from mxnet.gluon import nn\n"
   ]
  },
  {
   "cell_type": "code",
   "execution_count": 2,
   "metadata": {},
   "outputs": [],
   "source": [
    "def convBlock(nChannels):\n",
    "    denseNet = nn.Sequential()\n",
    "    #print(\"denseNet in convBlock: \", denseNet)\n",
    "    denseNet.add(nn.BatchNorm(),nn.Activation('relu'),nn.Conv2D(nChannels, kernel_size=3, padding=1))\n",
    "    return denseNet"
   ]
  },
  {
   "cell_type": "code",
   "execution_count": 3,
   "metadata": {},
   "outputs": [],
   "source": [
    "class DenseBlock(nn.Block):\n",
    "    def __init__(self, nConvs, nChannels, **kwargs):\n",
    "        super(DenseBlock, self).__init__(**kwargs)\n",
    "        self.net = nn.Sequential()\n",
    "        \n",
    "        for _ in range(nConvs):\n",
    "            self.net.add(convBlock(nChannels))\n",
    "            #print(\"Self net:\", self.net)\n",
    "    def forward(self, X):\n",
    "        for block in self.net:\n",
    "            Y = block(X)\n",
    "            X = nd.concat(X, Y, dim=1) # Concatenate the input and output of each block on the channel dimension.\n",
    "        return X"
   ]
  },
  {
   "cell_type": "code",
   "execution_count": 4,
   "metadata": {},
   "outputs": [],
   "source": [
    "# transition layer - used to control the complexity of the model. \n",
    "#                  - Reduces the number of channels by using the 1x1 convolutional layer and halves the height \n",
    "#                    and width of the average pooling layer with a stride of 2\n",
    "def transBlock(nChannels):\n",
    "    transblk = nn.Sequential()\n",
    "    transblk.add(nn.BatchNorm(), nn.Activation('relu'),\n",
    "            nn.Conv2D(nChannels, kernel_size=1),\n",
    "            nn.AvgPool2D(pool_size=2, strides=2))\n",
    "    return transblk\n",
    "\n"
   ]
  },
  {
   "cell_type": "code",
   "execution_count": 5,
   "metadata": {},
   "outputs": [],
   "source": [
    "def data_xform(data):\n",
    "    \"\"\"Move channel axis to the beginning, cast to float32, and normalize to [0, 1].\"\"\"\n",
    "    return nd.moveaxis(data, 2, 0).astype('float32') / 255"
   ]
  },
  {
   "cell_type": "code",
   "execution_count": 6,
   "metadata": {},
   "outputs": [],
   "source": [
    "def build_denseNet(denseblk):\n",
    "    denseblk = DenseBlock(2, 10)\n",
    "    denseblk.initialize()\n",
    "    denseblk = transBlock(10)\n",
    "    denseblk.initialize()\n",
    "    denseblk = nn.Sequential()\n",
    "    denseblk.add(nn.Conv2D(64, kernel_size=5, strides=2, padding=3),\n",
    "        nn.BatchNorm(), nn.Activation('relu'),\n",
    "        nn.MaxPool2D(pool_size=3, strides=2, padding=1))\n",
    "    num_channels, growth_rate = 64, 32\n",
    "    num_convs_in_dense_blocks = [4, 4, 4, 4]\n",
    "    \n",
    "    for i, num_convs in enumerate(num_convs_in_dense_blocks):\n",
    "        denseblk.add(DenseBlock(num_convs, growth_rate))\n",
    "        # This is the number of output channels in the previous dense block\n",
    "        num_channels += num_convs * growth_rate\n",
    "        # A transition layer that halves the number of channels is added between the dense blocks\n",
    "        if i != len(num_convs_in_dense_blocks) - 1:\n",
    "            denseblk.add(transBlock(num_channels // 2))\n",
    "    denseblk.add(nn.BatchNorm(),nn.Activation('relu'),nn.GlobalAvgPool2D(), nn.Dense(10))\n",
    "    return(denseblk)"
   ]
  },
  {
   "cell_type": "code",
   "execution_count": 7,
   "metadata": {},
   "outputs": [
    {
     "name": "stdout",
     "output_type": "stream",
     "text": [
      "training on cpu(0)\n",
      "epoch 1, loss 0.1257, train acc 0.962, test acc 0.981, time 322.4 sec\n",
      "epoch 2, loss 0.0336, train acc 0.990, test acc 0.977, time 329.3 sec\n",
      "epoch 3, loss 0.0224, train acc 0.993, test acc 0.988, time 321.1 sec\n",
      "epoch 4, loss 0.0154, train acc 0.996, test acc 0.991, time 323.9 sec\n",
      "epoch 5, loss 0.0102, train acc 0.997, test acc 0.990, time 325.3 sec\n"
     ]
    }
   ],
   "source": [
    "denseblk = build_denseNet(gluon.nn.Sequential())\n",
    "\n",
    "train_data = mx.gluon.data.vision.MNIST(train=True).transform_first(data_xform)\n",
    "val_data = mx.gluon.data.vision.MNIST(train=False).transform_first(data_xform)\n",
    "\n",
    "batch_size = 256\n",
    "train_iter = mx.gluon.data.DataLoader(train_data, shuffle=True, batch_size=batch_size)\n",
    "test_iter = mx.gluon.data.DataLoader(val_data, shuffle=False, batch_size=batch_size)\n",
    "\n",
    "lr, num_epochs, ctx = 0.1, 5, gb.try_gpu()\n",
    "denseblk.initialize(ctx=ctx, init=init.Xavier())\n",
    "trainer = gluon.Trainer(denseblk.collect_params(), 'sgd', {'learning_rate': lr})\n",
    "gb.train_ch5(denseblk, train_iter, test_iter, batch_size, trainer, ctx, num_epochs)"
   ]
  },
  {
   "cell_type": "code",
   "execution_count": 9,
   "metadata": {},
   "outputs": [],
   "source": [
    "file_name = \"densenet_mnist.params\"\n",
    "denseblk.save_parameters(file_name)"
   ]
  },
  {
   "cell_type": "code",
   "execution_count": 10,
   "metadata": {},
   "outputs": [],
   "source": [
    "new_net = build_denseNet(gluon.nn.Sequential())\n",
    "new_net.load_parameters(file_name, ctx=ctx)"
   ]
  },
  {
   "cell_type": "code",
   "execution_count": 13,
   "metadata": {},
   "outputs": [
    {
     "data": {
      "image/png": "[encoded data removed]",
      "text/plain": [
       "<Figure size 432x288 with 1 Axes>"
      ]
     },
     "metadata": {
      "needs_background": "light"
     },
     "output_type": "display_data"
    },
    {
     "name": "stdout",
     "output_type": "stream",
     "text": [
      "Model predictions:  [4. 5. 3. 8. 8. 2. 7. 6. 5. 3.]\n"
     ]
    }
   ],
   "source": [
    "import matplotlib.pyplot as plt\n",
    "import numpy as np\n",
    "\n",
    "def verify_loaded_model(net):\n",
    "    \"\"\"Run inference using ten random images.\n",
    "    Print both input and output of the model\"\"\"\n",
    "\n",
    "    def transform(data, label):\n",
    "        return data.astype(np.float32)/255, label.astype(np.float32)\n",
    "\n",
    "    # Load ten random images from the test dataset\n",
    "    sample_data = mx.gluon.data.DataLoader(mx.gluon.data.vision.MNIST(train=False, transform=transform),\n",
    "                                  10, shuffle=True)\n",
    "\n",
    "    for data, label in sample_data:\n",
    "\n",
    "        # Display the images\n",
    "        img = nd.transpose(data, (1,0,2,3))\n",
    "        img = nd.reshape(img, (28,10*28,1))\n",
    "        imtiles = nd.tile(img, (1,1,3))\n",
    "        plt.imshow(imtiles.asnumpy())\n",
    "        plt.show()\n",
    "\n",
    "        # Display the predictions\n",
    "        data = nd.transpose(data, (0, 3, 1, 2))\n",
    "        out = net(data.as_in_context(ctx))\n",
    "        predictions = nd.argmax(out, axis=1)\n",
    "        print('Model predictions: ', predictions.asnumpy())\n",
    "\n",
    "        break\n",
    "\n",
    "verify_loaded_model(new_net)"
   ]
  },
  {
   "cell_type": "code",
   "execution_count": null,
   "metadata": {},
   "outputs": [],
   "source": []
  }
 ],
 "metadata": {
  "kernelspec": {
   "display_name": "Python 3",
   "language": "python",
   "name": "python3"
  },
  "language_info": {
   "codemirror_mode": {
    "name": "ipython",
    "version": 3
   },
   "file_extension": ".py",
   "mimetype": "text/x-python",
   "name": "python",
   "nbconvert_exporter": "python",
   "pygments_lexer": "ipython3",
   "version": "3.7.3"
  }
 },
 "nbformat": 4,
 "nbformat_minor": 2
}
