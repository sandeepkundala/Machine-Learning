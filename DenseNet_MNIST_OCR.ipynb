{
 "cells": [
  {
   "cell_type": "code",
   "execution_count": 1,
   "metadata": {},
   "outputs": [],
   "source": [
    "# importing all necessary packages\n",
    "import gluonbook as gb\n",
    "import mxnet as mx\n",
    "from mxnet import gluon, init, nd, autograd\n",
    "from mxnet.gluon import nn\n"
   ]
  },
  {
   "cell_type": "code",
   "execution_count": 2,
   "metadata": {},
   "outputs": [],
   "source": [
    "# Implementation of modified ResNet - batch nomalization, activation and convolution\n",
    "def convBlock(nChannels):\n",
    "    denseNet = nn.Sequential()\n",
    "    #print(\"denseNet in convBlock: \", denseNet)\n",
    "    denseNet.add(nn.BatchNorm(),nn.Activation('relu'),nn.Conv2D(nChannels, kernel_size=3, padding=1))\n",
    "    return denseNet\n"
   ]
  },
  {
   "cell_type": "code",
   "execution_count": 3,
   "metadata": {},
   "outputs": [],
   "source": [
    "class DenseBlock(nn.Block):\n",
    "    def __init__(self, nConvs, nChannels, **kwargs):\n",
    "        super(DenseBlock, self).__init__(**kwargs)\n",
    "        self.net = nn.Sequential()\n",
    "        \n",
    "        for _ in range(nConvs):\n",
    "            self.net.add(convBlock(nChannels))\n",
    "            #print(\"Self net:\", self.net)\n",
    "    def forward(self, X):\n",
    "        for block in self.net:\n",
    "            Y = block(X)\n",
    "            X = nd.concat(X, Y, dim=1) # Concatenate the input and output of each block on the channel dimension.\n",
    "        return X\n",
    "    "
   ]
  },
  {
   "cell_type": "code",
   "execution_count": 4,
   "metadata": {},
   "outputs": [
    {
     "data": {
      "text/plain": [
       "(4, 25, 8, 8)"
      ]
     },
     "execution_count": 4,
     "metadata": {},
     "output_type": "execute_result"
    }
   ],
   "source": [
    "denseblk = DenseBlock(2, 10)\n",
    "denseblk.initialize()\n",
    "#print(\"Dense Block:\", denseblk)\n",
    "X = nd.random.uniform(shape=(4, 5, 8, 8))\n",
    "Y = denseblk(X)\n",
    "Y.shape\n"
   ]
  },
  {
   "cell_type": "code",
   "execution_count": 5,
   "metadata": {},
   "outputs": [],
   "source": [
    "# transition layer - used to control the complexity of the model. \n",
    "#                  - Reduces the number of channels by using the 1x1 convolutional layer and halves the height \n",
    "#                    and width of the average pooling layer with a stride of 2\n",
    "def transBlock(nChannels):\n",
    "    transblk = nn.Sequential()\n",
    "    transblk.add(nn.BatchNorm(), nn.Activation('relu'),\n",
    "            nn.Conv2D(nChannels, kernel_size=1),\n",
    "            nn.AvgPool2D(pool_size=2, strides=2))\n",
    "    return transblk\n"
   ]
  },
  {
   "cell_type": "code",
   "execution_count": 6,
   "metadata": {},
   "outputs": [
    {
     "data": {
      "text/plain": [
       "(4, 10, 4, 4)"
      ]
     },
     "execution_count": 6,
     "metadata": {},
     "output_type": "execute_result"
    }
   ],
   "source": [
    "denseblk = transBlock(10)\n",
    "denseblk.initialize()\n",
    "#print(\"Dense Block\", denseblk)\n",
    "denseblk(Y).shape\n"
   ]
  },
  {
   "cell_type": "code",
   "execution_count": 7,
   "metadata": {},
   "outputs": [],
   "source": [
    "denseblk = nn.Sequential()\n",
    "denseblk.add(nn.Conv2D(64, kernel_size=5, strides=2, padding=3),\n",
    "        nn.BatchNorm(), nn.Activation('relu'),\n",
    "        nn.MaxPool2D(pool_size=3, strides=2, padding=1))\n",
    "#print(denseblk)\n"
   ]
  },
  {
   "cell_type": "code",
   "execution_count": 8,
   "metadata": {},
   "outputs": [],
   "source": [
    "num_channels, growth_rate = 64, 32\n",
    "num_convs_in_dense_blocks = [4, 4, 4, 4]\n",
    "\n",
    "for i, num_convs in enumerate(num_convs_in_dense_blocks):\n",
    "    denseblk.add(DenseBlock(num_convs, growth_rate))\n",
    "    # This is the number of output channels in the previous dense block\n",
    "    num_channels += num_convs * growth_rate\n",
    "    # A transition layer that halves the number of channels is added between\n",
    "    # the dense blocks\n",
    "    if i != len(num_convs_in_dense_blocks) - 1:\n",
    "        denseblk.add(transBlock(num_channels // 2))\n",
    "        \n",
    "        "
   ]
  },
  {
   "cell_type": "code",
   "execution_count": 9,
   "metadata": {},
   "outputs": [],
   "source": [
    "denseblk.add(nn.BatchNorm(),nn.Activation('relu'),nn.GlobalAvgPool2D(), nn.Dense(10))\n",
    "\n",
    "\n"
   ]
  },
  {
   "cell_type": "code",
   "execution_count": 10,
   "metadata": {},
   "outputs": [
    {
     "name": "stdout",
     "output_type": "stream",
     "text": [
      "training on cpu(0)\n",
      "epoch 1, loss 0.1237, train acc 0.963, test acc 0.971, time 320.0 sec\n",
      "epoch 2, loss 0.0352, train acc 0.989, test acc 0.988, time 321.3 sec\n",
      "epoch 3, loss 0.0226, train acc 0.993, test acc 0.989, time 319.3 sec\n",
      "epoch 4, loss 0.0161, train acc 0.995, test acc 0.986, time 320.3 sec\n",
      "epoch 5, loss 0.0093, train acc 0.998, test acc 0.990, time 319.0 sec\n"
     ]
    }
   ],
   "source": [
    "def data_xform(data):\n",
    "    \"\"\"Move channel axis to the beginning, cast to float32, and normalize to [0, 1].\"\"\"\n",
    "    return nd.moveaxis(data, 2, 0).astype('float32') / 255\n",
    "\n",
    "train_data = mx.gluon.data.vision.MNIST(train=True).transform_first(data_xform)\n",
    "val_data = mx.gluon.data.vision.MNIST(train=False).transform_first(data_xform)\n",
    "\n",
    "batch_size = 256\n",
    "train_iter = mx.gluon.data.DataLoader(train_data, shuffle=True, batch_size=batch_size)\n",
    "test_iter = mx.gluon.data.DataLoader(val_data, shuffle=False, batch_size=batch_size)\n",
    "\n",
    "lr, num_epochs, ctx = 0.1, 5, gb.try_gpu()\n",
    "denseblk.initialize(ctx=ctx, init=init.Xavier())\n",
    "trainer = gluon.Trainer(denseblk.collect_params(), 'sgd', {'learning_rate': lr})\n",
    "gb.train_ch5(denseblk, train_iter, test_iter, batch_size, trainer, ctx, num_epochs)\n"
   ]
  },
  {
   "cell_type": "code",
   "execution_count": 13,
   "metadata": {},
   "outputs": [
    {
     "data": {
      "text/plain": [
       "<mxnet.gluon.data.dataloader.DataLoader at 0x119ccbb38>"
      ]
     },
     "execution_count": 13,
     "metadata": {},
     "output_type": "execute_result"
    }
   ],
   "source": []
  },
  {
   "cell_type": "code",
   "execution_count": null,
   "metadata": {},
   "outputs": [],
   "source": [
    "\n",
    "\n"
   ]
  },
  {
   "cell_type": "code",
   "execution_count": null,
   "metadata": {},
   "outputs": [],
   "source": []
  }
 ],
 "metadata": {
  "kernelspec": {
   "display_name": "Python 3",
   "language": "python",
   "name": "python3"
  },
  "language_info": {
   "codemirror_mode": {
    "name": "ipython",
    "version": 3
   },
   "file_extension": ".py",
   "mimetype": "text/x-python",
   "name": "python",
   "nbconvert_exporter": "python",
   "pygments_lexer": "ipython3",
   "version": "3.7.3"
  }
 },
 "nbformat": 4,
 "nbformat_minor": 2
}
