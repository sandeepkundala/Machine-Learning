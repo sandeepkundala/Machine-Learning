{
 "cells": [
  {
   "cell_type": "code",
   "execution_count": 1,
   "metadata": {},
   "outputs": [],
   "source": [
    "import sys\n",
    "!{sys.executable} -m pip install matplotlib\n",
    "!{sys.executable} -m pip install pandas\n",
    "!{sys.executable} -m pip install opencv-python\n",
    "!{sys.executable} -m pip install numpy\n",
    "\n",
    "import cv2\n",
    "import numpy as np\n",
    "#import image\n",
    "image = cv2.imread('A_.jpg')\n",
    "#cv2.imshow('orig',image)\n",
    "#cv2.waitKey(0)\n",
    "\n",
    "#grayscale\n",
    "gray = cv2.cvtColor(image,cv2.COLOR_BGR2GRAY)\n",
    "cv2.imshow('gray',gray)\n",
    "cv2.waitKey(0)\n",
    "\n",
    "#binary\n",
    "ret,thresh = cv2.threshold(gray,127,255,cv2.THRESH_BINARY_INV)\n",
    "cv2.imshow('second',thresh)\n",
    "cv2.waitKey(0)\n",
    "\n",
    "#dilation\n",
    "kernel = np.ones((5,5), np.uint8)\n",
    "img_dilation = cv2.dilate(thresh, kernel, iterations=1)\n",
    "cv2.imshow('dilated',img_dilation)\n",
    "cv2.waitKey(0)\n",
    "\n",
    "#find contours\n",
    "im2,ctrs, hier = cv2.findContours(img_dilation.copy(), cv2.RETR_EXTERNAL, cv2.CHAIN_APPROX_SIMPLE)\n",
    "\n",
    "#sort contours\n",
    "sorted_ctrs = sorted(ctrs, key=lambda ctr: cv2.boundingRect(ctr)[0])\n",
    "\n",
    "for i, ctr in enumerate(sorted_ctrs):\n",
    "    # Get bounding box\n",
    "    x, y, w, h = cv2.boundingRect(ctr)\n",
    "\n",
    "    # Getting ROI\n",
    "    roi = image[y:y+h, x:x+w]\n",
    "\n",
    "    # show ROI\n",
    "    cv2.imshow('segment no:'+str(i),roi)\n",
    "    cv2.rectangle(image,(x,y),( x + w, y + h ),(90,0,255),2)\n",
    "    cv2.waitKey(0)\n",
    "\n",
    "cv2.imshow('marked areas',image)\n",
    "cv2.waitKey(0)"
   ]
  },
  {
   "cell_type": "code",
   "execution_count": 2,
   "metadata": {},
   "outputs": [],
   "source": []
  },
  {
   "cell_type": "code",
   "execution_count": 3,
   "metadata": {},
   "outputs": [],
   "source": [
    "\n",
    "\n"
   ]
  },
  {
   "cell_type": "code",
   "execution_count": null,
   "metadata": {},
   "outputs": [],
   "source": []
  },
  {
   "cell_type": "code",
   "execution_count": null,
   "metadata": {},
   "outputs": [],
   "source": []
  },
  {
   "cell_type": "code",
   "execution_count": null,
   "metadata": {},
   "outputs": [],
   "source": []
  }
 ],
 "metadata": {
  "kernelspec": {
   "display_name": "Python 3",
   "language": "python",
   "name": "python3"
  },
  "language_info": {
   "codemirror_mode": {
    "name": "ipython",
    "version": 3
   },
   "file_extension": ".py",
   "mimetype": "text/x-python",
   "name": "python",
   "nbconvert_exporter": "python",
   "pygments_lexer": "ipython3",
   "version": "3.7.3"
  }
 },
 "nbformat": 4,
 "nbformat_minor": 2
}
