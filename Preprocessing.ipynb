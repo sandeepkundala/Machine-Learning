{
 "cells": [
  {
   "cell_type": "code",
   "execution_count": null,
   "metadata": {},
   "outputs": [],
   "source": [
    "import sys\n",
    "!{sys.executable} -m pip install matplotlib\n",
    "!{sys.executable} -m pip install pandas\n",
    "!{sys.executable} -m pip install scikit-learn\n",
    "!{sys.executable} -m pip install ipcalc\n",
    "!{sys.executable} -m pip install graphviz\n",
    "!{sys.executable} -m pip install xgboost\n",
    "\n",
    "# import all necessary packages\n",
    "import matplotlib.pyplot as plt # plotting\n",
    "import pandas as pd # data processing, CSV file I/O (e.g. pd.read_csv)\n",
    "from sklearn.model_selection import train_test_split\n",
    "from sklearn import metrics\n",
    "from sklearn import preprocessing\n",
    "from sklearn.neighbors import KNeighborsClassifier\n",
    "import ipcalc"
   ]
  },
  {
   "cell_type": "code",
   "execution_count": null,
   "metadata": {},
   "outputs": [],
   "source": [
    "nRows = 10000\n",
    "#change the name according to your file\n",
    "data = pd.read_csv('newNIMS.csv', sep= ',', header= 0, nrows = nRows)\n",
    "\n",
    "# remove the columns which have no unique elements\n",
    "data = data[[col for col in data if data[col].nunique() > 1]]"
   ]
  },
  {
   "cell_type": "code",
   "execution_count": null,
   "metadata": {},
   "outputs": [],
   "source": [
    "data.columns.values\n",
    "data.head()"
   ]
  },
  {
   "cell_type": "code",
   "execution_count": null,
   "metadata": {},
   "outputs": [],
   "source": [
    "x=['class','min_fpktl', 'mean_fpktl', 'max_fpktl', 'std_fpktl', 'min_bpktl',\n",
    "       'mean_bpktl', 'max_bpktl', 'std_bpktl', 'min_fiat', 'mean_fiat',\n",
    "       'max_fiat', 'std_fiat', 'min_biat', 'mean_biat', 'max_biat',\n",
    "       'std_biat', 'duration', 'proto', 'total_fpackets', 'total_fvolume',\n",
    "       'total_bpackets', 'total_bvolume']\n",
    "\n",
    "X=data.reindex(columns=x[1:])\n",
    "X =  X[[col for col in X if X[col].nunique() > 1]]\n",
    "#print(X.head(5))\n",
    "\n",
    "# Preprocess the data to normalize the dataset\n",
    "def normalize(df):\n",
    "    result = df.copy()\n",
    "    for feature_name in df.columns:\n",
    "        max_value = df[feature_name].max()\n",
    "        min_value = df[feature_name].min()\n",
    "        result[feature_name] = (df[feature_name] - min_value) / (max_value - min_value)\n",
    "    return result\n",
    "X = normalize(X)\n",
    "#print(X.head(5))\n",
    "#print(data.head())\n",
    "\n",
    "#Y = data['class']\n",
    "Y = pd.DataFrame(columns=['class_factor'])\n",
    "#print(Y)\n",
    "Y['class_factor']=data['class']\n",
    "Y['class_factor']=Y['class_factor'].factorize()[0]\n",
    "print(Y['class_factor'])\n",
    "print(Y.columns.values)\n",
    "#Check correlation between the target column and other columns\n",
    "z = X\n",
    "z_colnames = z.columns.values.tolist()\n",
    "z_colnames.append('class_factor')\n",
    "z = z.reindex(columns=z_colnames)\n",
    "#print(z)\n",
    "z['class_factor'] = Y\n",
    "#print(z)\n",
    "corr_matrix = abs(z.corr(method='pearson'))\n",
    "#print(corr_matrix)\n",
    "y=corr_matrix['class_factor'].sort_values(ascending=False)\n",
    "print('Correlation between column X and column \\'class_factor\\'\\n',y)\n",
    "print(X.head())"
   ]
  }
 ],
 "metadata": {
  "kernelspec": {
   "display_name": "Python 3",
   "language": "python",
   "name": "python3"
  },
  "language_info": {
   "codemirror_mode": {
    "name": "ipython",
    "version": 3
   },
   "file_extension": ".py",
   "mimetype": "text/x-python",
   "name": "python",
   "nbconvert_exporter": "python",
   "pygments_lexer": "ipython3",
   "version": "3.6.8"
  }
 },
 "nbformat": 4,
 "nbformat_minor": 2
}
