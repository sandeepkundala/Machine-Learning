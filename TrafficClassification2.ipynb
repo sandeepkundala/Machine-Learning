{
  "nbformat": 4,
  "nbformat_minor": 0,
  "metadata": {
    "colab": {
      "name": "Preprocessing.ipynb",
      "version": "0.3.2",
      "provenance": []
    },
    "kernelspec": {
      "display_name": "Python 3",
      "language": "python",
      "name": "python3"
    },
    "language_info": {
      "codemirror_mode": {
        "name": "ipython",
        "version": 3
      },
      "file_extension": ".py",
      "mimetype": "text/x-python",
      "name": "python",
      "nbconvert_exporter": "python",
      "pygments_lexer": "ipython3",
      "version": "3.7.1"
    }
  },
  "cells": [
    {
      "cell_type": "markdown",
      "metadata": {
        "id": "kx2EUKKBQ8NV",
        "colab_type": "text"
      },
      "source": [
        "**Traffic Classification using Machine Learning**\n",
        "\n",
        "\n",
        "by Sandeep Kundala (@skundal), Lalima Sharda (@lmsharda), Nita Radhakrishnan (@nradhak2)\n",
        "\n",
        "\n",
        "Machine learning has been one of the hot and trending fields in computer science for quite some time. This programming paradigm is different from the classic progrommaing paradigm. How exactly is that? What makes Machine Learning so special that it is one of the most important skills any one should have who wants a career in technological world?\n",
        "\n",
        "\n",
        "The answer is simple, machine learning is quite similar to human learning. Instead of designing solution using rules and problem, we train the machine with problems and solution. The machine learns and builds its own rules for classification or regression.\n",
        "\n",
        "For long time, Machine Learning was only applied for automation and data analysis. But now, it can be applied for any application. Be it Google's self driving cars or voice assistants in our smart phones. AI-ML is everywhere. The only limitation to technlogy is only one factor and that is human imagination.\n",
        "\n",
        "In this problem statement, we present the scenario on how machine learning can be used in classifying traffic which can be used for providing quality of service depending upon the type of traffic i.e., routing the packets depending upon its type.\n"
      ]
    },
    {
      "cell_type": "markdown",
      "metadata": {
        "id": "yVO2aDpdVXuy",
        "colab_type": "text"
      },
      "source": [
        "***Step 1:***Import all necessary packages. Incase you are using online platforms like Google Colab."
      ]
    },
    {
      "cell_type": "code",
      "metadata": {
        "colab_type": "code",
        "id": "EJRpXpb0ciet",
        "outputId": "d84cecca-0e47-40ac-845b-395e3bcb82fb",
        "colab": {
          "base_uri": "https://localhost:8080/",
          "height": 405
        }
      },
      "source": [
        "import sys\n",
        "!{sys.executable} -m pip install matplotlib\n",
        "!{sys.executable} -m pip install pandas\n",
        "!{sys.executable} -m pip install scikit-learn\n",
        "!{sys.executable} -m pip install graphviz\n",
        "!{sys.executable} -m pip install xgboost\n",
        "\n",
        "# import all necessary packages\n",
        "import matplotlib.pyplot as plt # plotting\n",
        "import pandas as pd # data processing, CSV file I/O (e.g. pd.read_csv)\n",
        "from sklearn.model_selection import train_test_split\n",
        "from sklearn import metrics\n",
        "\n"
      ],
      "execution_count": 1,
      "outputs": [
        {
          "output_type": "stream",
          "text": [
            "Requirement already satisfied: matplotlib in /usr/local/lib/python3.6/dist-packages (3.0.3)\n",
            "Requirement already satisfied: python-dateutil>=2.1 in /usr/local/lib/python3.6/dist-packages (from matplotlib) (2.5.3)\n",
            "Requirement already satisfied: cycler>=0.10 in /usr/local/lib/python3.6/dist-packages (from matplotlib) (0.10.0)\n",
            "Requirement already satisfied: pyparsing!=2.0.4,!=2.1.2,!=2.1.6,>=2.0.1 in /usr/local/lib/python3.6/dist-packages (from matplotlib) (2.4.2)\n",
            "Requirement already satisfied: kiwisolver>=1.0.1 in /usr/local/lib/python3.6/dist-packages (from matplotlib) (1.1.0)\n",
            "Requirement already satisfied: numpy>=1.10.0 in /usr/local/lib/python3.6/dist-packages (from matplotlib) (1.16.4)\n",
            "Requirement already satisfied: six>=1.5 in /usr/local/lib/python3.6/dist-packages (from python-dateutil>=2.1->matplotlib) (1.12.0)\n",
            "Requirement already satisfied: setuptools in /usr/local/lib/python3.6/dist-packages (from kiwisolver>=1.0.1->matplotlib) (41.0.1)\n",
            "Requirement already satisfied: pandas in /usr/local/lib/python3.6/dist-packages (0.24.2)\n",
            "Requirement already satisfied: python-dateutil>=2.5.0 in /usr/local/lib/python3.6/dist-packages (from pandas) (2.5.3)\n",
            "Requirement already satisfied: numpy>=1.12.0 in /usr/local/lib/python3.6/dist-packages (from pandas) (1.16.4)\n",
            "Requirement already satisfied: pytz>=2011k in /usr/local/lib/python3.6/dist-packages (from pandas) (2018.9)\n",
            "Requirement already satisfied: six>=1.5 in /usr/local/lib/python3.6/dist-packages (from python-dateutil>=2.5.0->pandas) (1.12.0)\n",
            "Requirement already satisfied: scikit-learn in /usr/local/lib/python3.6/dist-packages (0.21.3)\n",
            "Requirement already satisfied: numpy>=1.11.0 in /usr/local/lib/python3.6/dist-packages (from scikit-learn) (1.16.4)\n",
            "Requirement already satisfied: joblib>=0.11 in /usr/local/lib/python3.6/dist-packages (from scikit-learn) (0.13.2)\n",
            "Requirement already satisfied: scipy>=0.17.0 in /usr/local/lib/python3.6/dist-packages (from scikit-learn) (1.3.0)\n",
            "Requirement already satisfied: graphviz in /usr/local/lib/python3.6/dist-packages (0.10.1)\n",
            "Requirement already satisfied: xgboost in /usr/local/lib/python3.6/dist-packages (0.90)\n",
            "Requirement already satisfied: scipy in /usr/local/lib/python3.6/dist-packages (from xgboost) (1.3.0)\n",
            "Requirement already satisfied: numpy in /usr/local/lib/python3.6/dist-packages (from xgboost) (1.16.4)\n"
          ],
          "name": "stdout"
        }
      ]
    },
    {
      "cell_type": "markdown",
      "metadata": {
        "id": "9s4NZn7PWmgl",
        "colab_type": "text"
      },
      "source": [
        "***Step2:*** Provide credentials for your google account by clicking the link and copy the ID and paste in the text field."
      ]
    },
    {
      "cell_type": "code",
      "metadata": {
        "colab_type": "code",
        "id": "bDkcaC7GdEIL",
        "colab": {}
      },
      "source": [
        "!pip install -U -q PyDrive\n",
        "from pydrive.auth import GoogleAuth\n",
        "from pydrive.drive import GoogleDrive\n",
        "from google.colab import auth\n",
        "from oauth2client.client import GoogleCredentials\n",
        "\n",
        "# Authenticate and create the PyDrive client.\n",
        "auth.authenticate_user()\n",
        "gauth = GoogleAuth()\n",
        "gauth.credentials = GoogleCredentials.get_application_default()\n",
        "drive = GoogleDrive(gauth)"
      ],
      "execution_count": 0,
      "outputs": []
    },
    {
      "cell_type": "markdown",
      "metadata": {
        "id": "AuaY4m6AXOWf",
        "colab_type": "text"
      },
      "source": [
        "***Step3:*** The below is the link of the dataset. Get the dataset and load first 50000 rows. We are not working with the entire dataset for this example is because this code is being executed on the laptop and there might be severe performance impacts. If you are using any cloud services like GCP or AWS, download the dataset and work with the entire dataset."
      ]
    },
    {
      "cell_type": "code",
      "metadata": {
        "colab_type": "code",
        "id": "BGwYrGAXdzTQ",
        "outputId": "c9d38809-13a4-44ca-beeb-ac67f890e402",
        "colab": {
          "base_uri": "https://localhost:8080/",
          "height": 35
        }
      },
      "source": [
        "link = 'https://drive.google.com/open?id=1ts1QJMNy6vuuVAu-Lq-n_lAcVzFb93FN'\n",
        "fluff, id = link.split('=')\n",
        "print(id)"
      ],
      "execution_count": 3,
      "outputs": [
        {
          "output_type": "stream",
          "text": [
            "1ts1QJMNy6vuuVAu-Lq-n_lAcVzFb93FN\n"
          ],
          "name": "stdout"
        }
      ]
    },
    {
      "cell_type": "code",
      "metadata": {
        "colab_type": "code",
        "id": "dLa1chi0eDoT",
        "colab": {}
      },
      "source": [
        "downloaded = drive.CreateFile({'id':id}) \n",
        "downloaded.GetContentFile('NIMS-normalized.arff') "
      ],
      "execution_count": 0,
      "outputs": []
    },
    {
      "cell_type": "code",
      "metadata": {
        "colab_type": "code",
        "id": "SA-Wu26Kcie_",
        "colab": {}
      },
      "source": [
        "from scipy.io import arff\n",
        "\n",
        "data = arff.loadarff('NIMS-normalized.arff')\n",
        "df = pd.DataFrame(data[0])\n"
      ],
      "execution_count": 0,
      "outputs": []
    },
    {
      "cell_type": "code",
      "metadata": {
        "colab_type": "code",
        "id": "028elz1scifJ",
        "outputId": "4cf3f46a-93c6-4b9c-adcb-ed36bcfcf4bf",
        "colab": {
          "base_uri": "https://localhost:8080/",
          "height": 226
        }
      },
      "source": [
        "df = df[:50000]\n",
        "labels = []\n",
        "for i in df['class'].unique().tolist():\n",
        "    labels.append(str(i))\n",
        "df.drop(['class'], axis = 1)\n",
        "df['Class_Factor'] = df['class'].factorize()[0]\n",
        "df.head()"
      ],
      "execution_count": 6,
      "outputs": [
        {
          "output_type": "execute_result",
          "data": {
            "text/html": [
              "<div>\n",
              "<style scoped>\n",
              "    .dataframe tbody tr th:only-of-type {\n",
              "        vertical-align: middle;\n",
              "    }\n",
              "\n",
              "    .dataframe tbody tr th {\n",
              "        vertical-align: top;\n",
              "    }\n",
              "\n",
              "    .dataframe thead th {\n",
              "        text-align: right;\n",
              "    }\n",
              "</style>\n",
              "<table border=\"1\" class=\"dataframe\">\n",
              "  <thead>\n",
              "    <tr style=\"text-align: right;\">\n",
              "      <th></th>\n",
              "      <th>min_fpktl</th>\n",
              "      <th>mean_fpktl</th>\n",
              "      <th>max_fpktl</th>\n",
              "      <th>std_fpktl</th>\n",
              "      <th>min_bpktl</th>\n",
              "      <th>mean_bpktl</th>\n",
              "      <th>max_bpktl</th>\n",
              "      <th>std_bpktl</th>\n",
              "      <th>min_fiat</th>\n",
              "      <th>mean_fiat</th>\n",
              "      <th>max_fiat</th>\n",
              "      <th>std_fiat</th>\n",
              "      <th>min_biat</th>\n",
              "      <th>mean_biat</th>\n",
              "      <th>max_biat</th>\n",
              "      <th>std_biat</th>\n",
              "      <th>duration</th>\n",
              "      <th>proto</th>\n",
              "      <th>total_fpackets</th>\n",
              "      <th>total_fvolume</th>\n",
              "      <th>total_bpackets</th>\n",
              "      <th>total_bvolume</th>\n",
              "      <th>class</th>\n",
              "      <th>Class_Factor</th>\n",
              "    </tr>\n",
              "  </thead>\n",
              "  <tbody>\n",
              "    <tr>\n",
              "      <th>0</th>\n",
              "      <td>0.000000</td>\n",
              "      <td>0.000593</td>\n",
              "      <td>0.000122</td>\n",
              "      <td>0.000367</td>\n",
              "      <td>0.064062</td>\n",
              "      <td>0.032667</td>\n",
              "      <td>0.045582</td>\n",
              "      <td>0.018614</td>\n",
              "      <td>0.000212</td>\n",
              "      <td>0.022841</td>\n",
              "      <td>0.024289</td>\n",
              "      <td>0.034299</td>\n",
              "      <td>0.000106</td>\n",
              "      <td>0.011792</td>\n",
              "      <td>0.002833</td>\n",
              "      <td>0.011884</td>\n",
              "      <td>0.002152</td>\n",
              "      <td>0.0</td>\n",
              "      <td>0.000012</td>\n",
              "      <td>0.000000</td>\n",
              "      <td>0.000032</td>\n",
              "      <td>0.000002</td>\n",
              "      <td>b'TELNET'</td>\n",
              "      <td>0</td>\n",
              "    </tr>\n",
              "    <tr>\n",
              "      <th>1</th>\n",
              "      <td>0.000000</td>\n",
              "      <td>0.000711</td>\n",
              "      <td>0.000488</td>\n",
              "      <td>0.000490</td>\n",
              "      <td>0.064062</td>\n",
              "      <td>0.040667</td>\n",
              "      <td>0.039584</td>\n",
              "      <td>0.017580</td>\n",
              "      <td>0.000191</td>\n",
              "      <td>0.012860</td>\n",
              "      <td>0.021976</td>\n",
              "      <td>0.032089</td>\n",
              "      <td>0.000124</td>\n",
              "      <td>0.009288</td>\n",
              "      <td>0.006224</td>\n",
              "      <td>0.019656</td>\n",
              "      <td>0.000071</td>\n",
              "      <td>0.0</td>\n",
              "      <td>0.000012</td>\n",
              "      <td>0.000000</td>\n",
              "      <td>0.000034</td>\n",
              "      <td>0.000003</td>\n",
              "      <td>b'FTP'</td>\n",
              "      <td>1</td>\n",
              "    </tr>\n",
              "    <tr>\n",
              "      <th>2</th>\n",
              "      <td>0.020202</td>\n",
              "      <td>0.022048</td>\n",
              "      <td>0.025140</td>\n",
              "      <td>0.025340</td>\n",
              "      <td>0.082812</td>\n",
              "      <td>0.594000</td>\n",
              "      <td>0.600160</td>\n",
              "      <td>0.627715</td>\n",
              "      <td>0.000089</td>\n",
              "      <td>0.010255</td>\n",
              "      <td>0.015281</td>\n",
              "      <td>0.022949</td>\n",
              "      <td>0.000347</td>\n",
              "      <td>0.009130</td>\n",
              "      <td>0.004354</td>\n",
              "      <td>0.016111</td>\n",
              "      <td>0.002042</td>\n",
              "      <td>0.0</td>\n",
              "      <td>0.000015</td>\n",
              "      <td>0.000002</td>\n",
              "      <td>0.000030</td>\n",
              "      <td>0.000039</td>\n",
              "      <td>b'HTTP'</td>\n",
              "      <td>2</td>\n",
              "    </tr>\n",
              "    <tr>\n",
              "      <th>3</th>\n",
              "      <td>0.026936</td>\n",
              "      <td>0.002608</td>\n",
              "      <td>0.000976</td>\n",
              "      <td>0.000490</td>\n",
              "      <td>0.120313</td>\n",
              "      <td>0.114000</td>\n",
              "      <td>0.085566</td>\n",
              "      <td>0.066184</td>\n",
              "      <td>0.138378</td>\n",
              "      <td>0.138378</td>\n",
              "      <td>0.038563</td>\n",
              "      <td>0.000000</td>\n",
              "      <td>0.003322</td>\n",
              "      <td>0.003322</td>\n",
              "      <td>0.000276</td>\n",
              "      <td>0.000000</td>\n",
              "      <td>0.023441</td>\n",
              "      <td>1.0</td>\n",
              "      <td>0.000003</td>\n",
              "      <td>0.000000</td>\n",
              "      <td>0.000009</td>\n",
              "      <td>0.000002</td>\n",
              "      <td>b'DNS'</td>\n",
              "      <td>3</td>\n",
              "    </tr>\n",
              "    <tr>\n",
              "      <th>4</th>\n",
              "      <td>0.102694</td>\n",
              "      <td>0.007231</td>\n",
              "      <td>0.003234</td>\n",
              "      <td>0.000000</td>\n",
              "      <td>0.306250</td>\n",
              "      <td>0.275333</td>\n",
              "      <td>0.253898</td>\n",
              "      <td>0.118925</td>\n",
              "      <td>0.000899</td>\n",
              "      <td>0.038567</td>\n",
              "      <td>0.070267</td>\n",
              "      <td>0.126904</td>\n",
              "      <td>0.001102</td>\n",
              "      <td>0.037950</td>\n",
              "      <td>0.020662</td>\n",
              "      <td>0.093575</td>\n",
              "      <td>0.078102</td>\n",
              "      <td>1.0</td>\n",
              "      <td>0.000022</td>\n",
              "      <td>0.000002</td>\n",
              "      <td>0.000045</td>\n",
              "      <td>0.000027</td>\n",
              "      <td>b'lime'</td>\n",
              "      <td>4</td>\n",
              "    </tr>\n",
              "  </tbody>\n",
              "</table>\n",
              "</div>"
            ],
            "text/plain": [
              "   min_fpktl  mean_fpktl  max_fpktl  ...  total_bvolume      class  Class_Factor\n",
              "0   0.000000    0.000593   0.000122  ...       0.000002  b'TELNET'             0\n",
              "1   0.000000    0.000711   0.000488  ...       0.000003     b'FTP'             1\n",
              "2   0.020202    0.022048   0.025140  ...       0.000039    b'HTTP'             2\n",
              "3   0.026936    0.002608   0.000976  ...       0.000002     b'DNS'             3\n",
              "4   0.102694    0.007231   0.003234  ...       0.000027    b'lime'             4\n",
              "\n",
              "[5 rows x 24 columns]"
            ]
          },
          "metadata": {
            "tags": []
          },
          "execution_count": 6
        }
      ]
    },
    {
      "cell_type": "markdown",
      "metadata": {
        "id": "v10exhaBX_Ee",
        "colab_type": "text"
      },
      "source": [
        "***Step 4:*** Check correlation between the target column with all other columns to check if there are any column which issimilar to the target column. Also, this correlation can be useful to take out few columns for consideration in training the models. Here, since the number of columns are less in number, we have not omitted any columns. However, if you would like to remove less correlated columns from being considered, you can create a list of column names you would like to consider for the training and then reindex the dataframe."
      ]
    },
    {
      "cell_type": "code",
      "metadata": {
        "colab_type": "code",
        "id": "moWJRGLocifQ",
        "outputId": "6fd7a340-6443-4516-f5b8-b7a001337c7e",
        "colab": {
          "base_uri": "https://localhost:8080/",
          "height": 479
        }
      },
      "source": [
        "corr_matrix = abs(df.corr(method='pearson'))\n",
        "y=corr_matrix['Class_Factor'].sort_values(ascending=False)\n",
        "print('Correlation between column X and column \\'Class Factor\\'\\n',y)"
      ],
      "execution_count": 7,
      "outputs": [
        {
          "output_type": "stream",
          "text": [
            "Correlation between column X and column 'Class Factor'\n",
            " Class_Factor      1.000000\n",
            "max_fpktl         0.874487\n",
            "std_fpktl         0.874335\n",
            "mean_fpktl        0.874326\n",
            "total_fvolume     0.680311\n",
            "duration          0.553554\n",
            "proto             0.498867\n",
            "max_biat          0.460839\n",
            "total_bpackets    0.449449\n",
            "std_biat          0.369923\n",
            "max_fiat          0.353472\n",
            "total_fpackets    0.352143\n",
            "total_bvolume     0.301724\n",
            "max_bpktl         0.291694\n",
            "std_fiat          0.263235\n",
            "min_fpktl         0.150464\n",
            "mean_biat         0.130406\n",
            "mean_bpktl        0.072702\n",
            "min_biat          0.065878\n",
            "std_bpktl         0.041545\n",
            "min_fiat          0.031310\n",
            "min_bpktl         0.023323\n",
            "mean_fiat         0.001940\n",
            "Name: Class_Factor, dtype: float64\n"
          ],
          "name": "stdout"
        }
      ]
    },
    {
      "cell_type": "markdown",
      "metadata": {
        "id": "RPATduoxZy5E",
        "colab_type": "text"
      },
      "source": [
        "***Step 5:*** Split the dataset into training and testing. Usually it is considered good to follow 80:20 rule i.e., 80% training and 20% testing."
      ]
    },
    {
      "cell_type": "code",
      "metadata": {
        "colab_type": "code",
        "id": "55owSyM5eskw",
        "outputId": "c030d067-c201-4ed9-8529-1cda52edbd84",
        "colab": {
          "base_uri": "https://localhost:8080/",
          "height": 54
        }
      },
      "source": [
        "colNames = df.columns.values\n",
        "X = df.reindex(columns=colNames[:22])\n",
        "Y = df['Class_Factor']\n",
        "X_train, X_test, y_train, y_test, indices_train, indices_test = train_test_split(X, Y, df.index, test_size=0.2, random_state=0)\n",
        "print('Data size of training set:',len(X_train))\n",
        "print('Data size of testing set:',len(X_test))"
      ],
      "execution_count": 8,
      "outputs": [
        {
          "output_type": "stream",
          "text": [
            "Data size of training set: 40000\n",
            "Data size of testing set: 10000\n"
          ],
          "name": "stdout"
        }
      ]
    },
    {
      "cell_type": "markdown",
      "metadata": {
        "id": "C7OhlnOdaPly",
        "colab_type": "text"
      },
      "source": [
        "***Step 6:*** Train the dataset on different models and get the accuracy. The one which would have the highest accuracy can be treated as the champion model and can be used to deploy it on the routing devices."
      ]
    },
    {
      "cell_type": "code",
      "metadata": {
        "colab_type": "code",
        "id": "s1Tc4F-8eyN2",
        "outputId": "4e365b60-4fe0-4c2d-de3c-3a718395864b",
        "colab": {
          "base_uri": "https://localhost:8080/",
          "height": 35
        }
      },
      "source": [
        "from sklearn.svm import LinearSVC\n",
        "#Linear SVC\n",
        "lsvc = LinearSVC()\n",
        "y_pred_LSVC = lsvc.fit(X_train, y_train).predict(X_test)\n",
        "best_model = lsvc.fit(X_train, y_train)\n",
        "lsvc_accr = metrics.accuracy_score(y_test,y_pred_LSVC)*100\n",
        "best_accr = lsvc_accr\n",
        "print(\"Accuracy of SVC: \", lsvc_accr)"
      ],
      "execution_count": 9,
      "outputs": [
        {
          "output_type": "stream",
          "text": [
            "Accuracy of SVC:  98.27\n"
          ],
          "name": "stdout"
        }
      ]
    },
    {
      "cell_type": "code",
      "metadata": {
        "id": "eQNu2KbgQYC-",
        "colab_type": "code",
        "colab": {
          "base_uri": "https://localhost:8080/",
          "height": 35
        },
        "outputId": "ea7238a4-732a-4ced-91ee-eb8a0b357be0"
      },
      "source": [
        "#KNN\n",
        "from sklearn.neighbors import KNeighborsClassifier\n",
        "knn = KNeighborsClassifier()\n",
        "y_pred_knn = knn.fit(X_train, y_train).predict(X_test)\n",
        "knn_accr = metrics.accuracy_score(y_test, y_pred_knn)*100\n",
        "print(\"Accuracy of KNN:\", knn_accr)\n"
      ],
      "execution_count": 10,
      "outputs": [
        {
          "output_type": "stream",
          "text": [
            "Accuracy of KNN: 99.99\n"
          ],
          "name": "stdout"
        }
      ]
    },
    {
      "cell_type": "code",
      "metadata": {
        "id": "QkMpN3QLQYde",
        "colab_type": "code",
        "colab": {
          "base_uri": "https://localhost:8080/",
          "height": 54
        },
        "outputId": "d56aeebe-4ec8-4fe1-982b-10862cdc0a0f"
      },
      "source": [
        "#DTC\n",
        "from sklearn.tree import DecisionTreeClassifier\n",
        "clf_gini = DecisionTreeClassifier(criterion = \"gini\", random_state = 0)\n",
        "clf_entropy = DecisionTreeClassifier(criterion = \"entropy\", random_state = 0)\n",
        "y_pred_DTC_gini = clf_gini.fit(X_train, y_train).predict(X_test)\n",
        "y_pred_DTC_entropy = clf_entropy.fit(X_train, y_train).predict(X_test)\n",
        "dtc_gini_accr = metrics.accuracy_score(y_test,y_pred_DTC_gini)*100\n",
        "dtc_entropy_accr = metrics.accuracy_score(y_test,y_pred_DTC_entropy)*100\n",
        "print(\"Accuracy of DTC (gini): \", dtc_gini_accr)\n",
        "print(\"Accuracy of DTC (entropy):\", dtc_entropy_accr)\n"
      ],
      "execution_count": 11,
      "outputs": [
        {
          "output_type": "stream",
          "text": [
            "Accuracy of DTC (gini):  99.97\n",
            "Accuracy of DTC (entropy): 99.98\n"
          ],
          "name": "stdout"
        }
      ]
    },
    {
      "cell_type": "code",
      "metadata": {
        "id": "Fe0HPuezQY-V",
        "colab_type": "code",
        "colab": {
          "base_uri": "https://localhost:8080/",
          "height": 72
        },
        "outputId": "e241565e-ffa9-4cc5-ed51-993cbf7ab07b"
      },
      "source": [
        "#Multinomial NB\n",
        "from sklearn.naive_bayes import MultinomialNB\n",
        "mnb_model=MultinomialNB()\n",
        "y_pred_mnb=mnb_model.fit(X_train,y_train).predict(X_test)\n",
        "mnb_accr = metrics.accuracy_score(y_test,y_pred_mnb)*100\n",
        "print(\"Accuracy of Multinomial Naive Bayes:\",mnb_accr)\n",
        "\n",
        "\n",
        "#Bernoulli NB\n",
        "from sklearn.naive_bayes import BernoulliNB\n",
        "bnb_model=BernoulliNB()\n",
        "y_pred_bnb=bnb_model.fit(X_train,y_train).predict(X_test)\n",
        "bnb_accr = metrics.accuracy_score(y_test,y_pred_bnb)*100\n",
        "print(\"Accuracy of Bernoulli Naive Bayes:\",bnb_accr)\n",
        "\n",
        "#Gaussian NB\n",
        "from sklearn.naive_bayes import GaussianNB\n",
        "gnb_model=GaussianNB()\n",
        "y_pred_gnb=gnb_model.fit(X_train,y_train).predict(X_test)\n",
        "gnb_accr = metrics.accuracy_score(y_test,y_pred_gnb)*100\n",
        "print(\"Accuracy of Gaussian Naive Bayes:\",gnb_accr)"
      ],
      "execution_count": 13,
      "outputs": [
        {
          "output_type": "stream",
          "text": [
            "Accuracy of Multinomial Naive Bayes: 97.78999999999999\n",
            "Accuracy of Bernoulli Naive Bayes: 84.83000000000001\n",
            "Accuracy of Gaussian Naive Bayes: 86.22\n"
          ],
          "name": "stdout"
        }
      ]
    },
    {
      "cell_type": "code",
      "metadata": {
        "id": "pf-VaNftQZTL",
        "colab_type": "code",
        "colab": {
          "base_uri": "https://localhost:8080/",
          "height": 35
        },
        "outputId": "c100b1e0-74d9-45c1-e1fc-6085ed8a9b69"
      },
      "source": [
        "#ADB\n",
        "from sklearn.ensemble import AdaBoostClassifier\n",
        "adb = AdaBoostClassifier(n_estimators=200, learning_rate=1)\n",
        "#Train Adaboost Classifer\n",
        "y_pred_ada = adb.fit(X_train, y_train).predict(X_test)\n",
        "adb_accr = metrics.accuracy_score(y_test, y_pred_ada)*100\n",
        "print(\"Accuracy of AdaBoost Classifer:\",adb_accr)"
      ],
      "execution_count": 14,
      "outputs": [
        {
          "output_type": "stream",
          "text": [
            "Accuracy of AdaBoost Classifer: 97.78\n"
          ],
          "name": "stdout"
        }
      ]
    },
    {
      "cell_type": "code",
      "metadata": {
        "colab_type": "code",
        "id": "VZ1iqd6ce2NM",
        "outputId": "5b6f593d-9e12-43d2-e010-d684526e1670",
        "colab": {
          "base_uri": "https://localhost:8080/",
          "height": 35
        }
      },
      "source": [
        "#XGB\n",
        "from xgboost import XGBClassifier\n",
        "xgb = XGBClassifier()\n",
        "y_pred_xgb = xgb.fit(X_train, y_train).predict(X_test)\n",
        "xgb_accr = metrics.accuracy_score(y_test, y_pred_xgb)*100\n",
        "print(\"Accuracy of XGBoost Classifer:\",xgb_accr)"
      ],
      "execution_count": 15,
      "outputs": [
        {
          "output_type": "stream",
          "text": [
            "Accuracy of XGBoost Classifer: 99.98\n"
          ],
          "name": "stdout"
        }
      ]
    },
    {
      "cell_type": "code",
      "metadata": {
        "colab_type": "code",
        "id": "8ZBptDJ0e_2P",
        "colab": {
          "base_uri": "https://localhost:8080/",
          "height": 35
        },
        "outputId": "3df37a6d-6527-446d-a3bb-5dfebe367f8f"
      },
      "source": [
        "#Random Forest Classifier \n",
        "from sklearn.ensemble import RandomForestClassifier\n",
        "rfc=RandomForestClassifier(n_estimators=100)\n",
        "y_pred_rfc=rfc.fit(X_train,y_train).predict(X_test)\n",
        "rfc_accr = metrics.accuracy_score(y_test, y_pred_rfc)*100\n",
        "print(\"Accuracy of Random Forest Classifier:\",rfc_accr)"
      ],
      "execution_count": 16,
      "outputs": [
        {
          "output_type": "stream",
          "text": [
            "Accuracy of Random Forest Classifier: 99.99\n"
          ],
          "name": "stdout"
        }
      ]
    },
    {
      "cell_type": "code",
      "metadata": {
        "id": "KKyKxcSofgsV",
        "colab_type": "code",
        "colab": {
          "base_uri": "https://localhost:8080/",
          "height": 109
        },
        "outputId": "bb04c45f-fa60-4b41-d56b-dcc7abd6664b"
      },
      "source": [
        "if(best_accr<knn_accr):\n",
        "  best_accr = knn_accr\n",
        "  best_model = knn.fit(X_train, y_train)\n",
        "if(best_accr<dtc_gini_accr):\n",
        "  best_accr = dtc_gini_accr\n",
        "  best_model = clf_gini.fit(X_train, y_train)\n",
        "elif(best_accr<dtc_entropy_accr):\n",
        "  best_accr = dtc_entropy_accr\n",
        "  best_model = clf_entropy.fit(X_train, y_train)\n",
        "elif(best_accr<mnb_accr):\n",
        "  best_accr = mnb_accr\n",
        "  best_model = mnb_model.fit(X_train, y_train)\n",
        "elif(best_accr<bnb_accr):\n",
        "  best_accr = bnb_accr\n",
        "  best_model = bnb_model.fit(X_train, y_train)\n",
        "elif(best_accr<gnb_accr):\n",
        "  best_accr = gnb_accr\n",
        "  best_model = gnb_model.fit(X_train, y_train)\n",
        "elif(best_accr<adb_accr):\n",
        "  best_accr = mnb_accr\n",
        "  best_model = mnb_model.fit(X_train, y_train)\n",
        "elif(best_accr<xgb_accr):\n",
        "  best_accr = xgb_accr\n",
        "  best_model = xgb_model.fit(X_train, y_train)\n",
        "elif(best_accr<rfc_accr):\n",
        "  best_accr = rfc_accr\n",
        "  best_model = rfc_model.fit(X_train, y_train)\n",
        "print(\"Best Model: \", best_model,\"\\nAccuracy: \",best_accr)\n",
        "\n",
        "import joblib\n",
        "filename = 'finalized_model.sav'\n",
        "joblib.dump(best_model, filename)"
      ],
      "execution_count": 20,
      "outputs": [
        {
          "output_type": "stream",
          "text": [
            "Best Model:  KNeighborsClassifier(algorithm='auto', leaf_size=30, metric='minkowski',\n",
            "                     metric_params=None, n_jobs=None, n_neighbors=5, p=2,\n",
            "                     weights='uniform') \n",
            "Accuracy:  99.99\n"
          ],
          "name": "stdout"
        },
        {
          "output_type": "execute_result",
          "data": {
            "text/plain": [
              "['finalized_model.sav']"
            ]
          },
          "metadata": {
            "tags": []
          },
          "execution_count": 20
        }
      ]
    },
    {
      "cell_type": "code",
      "metadata": {
        "colab_type": "code",
        "id": "hm5dTKw_e4-O",
        "outputId": "ee1803d1-27f7-4845-ef81-ec0c7ee41013",
        "colab": {
          "base_uri": "https://localhost:8080/",
          "height": 1000
        }
      },
      "source": [
        "# DTC Gini Visualization\n",
        "plt.rcParams['figure.figsize'] = [20,20]\n",
        "from sklearn.tree import export_graphviz\n",
        "from sklearn import tree\n",
        "from IPython.display import SVG\n",
        "from graphviz import Source\n",
        "from IPython.display import display\n",
        "graph = Source(tree.export_graphviz(clf_gini.fit(X_train, y_train), out_file=None, filled = True, class_names=labels))\n",
        "display(SVG(graph.pipe(format='svg')))"
      ],
      "execution_count": 21,
      "outputs": [
        {
          "output_type": "display_data",
          "data": {
            "text/plain": [
              "<IPython.core.display.SVG object>"
            ],
            "image/svg+xml": "<svg height=\"1861pt\" viewBox=\"0.00 0.00 3344.50 1861.00\" width=\"3345pt\" xmlns=\"http://www.w3.org/2000/svg\" xmlns:xlink=\"http://www.w3.org/1999/xlink\">\n<g class=\"graph\" id=\"graph0\" transform=\"scale(1 1) rotate(0) translate(4 1857)\">\n<title>Tree</title>\n<polygon fill=\"#ffffff\" points=\"-4,4 -4,-1857 3340.5,-1857 3340.5,4 -4,4\" stroke=\"transparent\"/>\n<!-- 0 -->\n<g class=\"node\" id=\"node1\">\n<title>0</title>\n<polygon fill=\"#47e7a4\" points=\"2300,-1853 1966,-1853 1966,-1770 2300,-1770 2300,-1853\" stroke=\"#000000\"/>\n<text fill=\"#000000\" font-family=\"Times,serif\" font-size=\"14.00\" text-anchor=\"middle\" x=\"2133\" y=\"-1837.8\">X[1] &lt;= 0.171</text>\n<text fill=\"#000000\" font-family=\"Times,serif\" font-size=\"14.00\" text-anchor=\"middle\" x=\"2133\" y=\"-1822.8\">gini = 0.13</text>\n<text fill=\"#000000\" font-family=\"Times,serif\" font-size=\"14.00\" text-anchor=\"middle\" x=\"2133\" y=\"-1807.8\">samples = 40000</text>\n<text fill=\"#000000\" font-family=\"Times,serif\" font-size=\"14.00\" text-anchor=\"middle\" x=\"2133\" y=\"-1792.8\">value = [1, 105, 114, 497, 37264, 71, 1944, 1, 1, 1, 1]</text>\n<text fill=\"#000000\" font-family=\"Times,serif\" font-size=\"14.00\" text-anchor=\"middle\" x=\"2133\" y=\"-1777.8\">class = b'lime'</text>\n</g>\n<!-- 1 -->\n<g class=\"node\" id=\"node2\">\n<title>1</title>\n<polygon fill=\"#3de69f\" points=\"2136.5,-1734 1825.5,-1734 1825.5,-1651 2136.5,-1651 2136.5,-1734\" stroke=\"#000000\"/>\n<text fill=\"#000000\" font-family=\"Times,serif\" font-size=\"14.00\" text-anchor=\"middle\" x=\"1981\" y=\"-1718.8\">X[0] &lt;= 0.058</text>\n<text fill=\"#000000\" font-family=\"Times,serif\" font-size=\"14.00\" text-anchor=\"middle\" x=\"1981\" y=\"-1703.8\">gini = 0.04</text>\n<text fill=\"#000000\" font-family=\"Times,serif\" font-size=\"14.00\" text-anchor=\"middle\" x=\"1981\" y=\"-1688.8\">samples = 38027</text>\n<text fill=\"#000000\" font-family=\"Times,serif\" font-size=\"14.00\" text-anchor=\"middle\" x=\"1981\" y=\"-1673.8\">value = [1, 105, 114, 497, 37264, 1, 41, 1, 1, 1, 1]</text>\n<text fill=\"#000000\" font-family=\"Times,serif\" font-size=\"14.00\" text-anchor=\"middle\" x=\"1981\" y=\"-1658.8\">class = b'lime'</text>\n</g>\n<!-- 0&#45;&gt;1 -->\n<g class=\"edge\" id=\"edge1\">\n<title>0-&gt;1</title>\n<path d=\"M2079.8378,-1769.8796C2067.6885,-1760.368 2054.6808,-1750.1843 2042.224,-1740.432\" fill=\"none\" stroke=\"#000000\"/>\n<polygon fill=\"#000000\" points=\"2044.1638,-1737.5055 2034.1322,-1734.0969 2039.8486,-1743.0173 2044.1638,-1737.5055\" stroke=\"#000000\"/>\n<text fill=\"#000000\" font-family=\"Times,serif\" font-size=\"14.00\" text-anchor=\"middle\" x=\"2037.1542\" y=\"-1755.2136\">True</text>\n</g>\n<!-- 70 -->\n<g class=\"node\" id=\"node71\">\n<title>70</title>\n<polygon fill=\"#4074e6\" points=\"2415,-1734 2155,-1734 2155,-1651 2415,-1651 2415,-1734\" stroke=\"#000000\"/>\n<text fill=\"#000000\" font-family=\"Times,serif\" font-size=\"14.00\" text-anchor=\"middle\" x=\"2285\" y=\"-1718.8\">X[2] &lt;= 0.544</text>\n<text fill=\"#000000\" font-family=\"Times,serif\" font-size=\"14.00\" text-anchor=\"middle\" x=\"2285\" y=\"-1703.8\">gini = 0.068</text>\n<text fill=\"#000000\" font-family=\"Times,serif\" font-size=\"14.00\" text-anchor=\"middle\" x=\"2285\" y=\"-1688.8\">samples = 1973</text>\n<text fill=\"#000000\" font-family=\"Times,serif\" font-size=\"14.00\" text-anchor=\"middle\" x=\"2285\" y=\"-1673.8\">value = [0, 0, 0, 0, 0, 70, 1903, 0, 0, 0, 0]</text>\n<text fill=\"#000000\" font-family=\"Times,serif\" font-size=\"14.00\" text-anchor=\"middle\" x=\"2285\" y=\"-1658.8\">class = b'remoteForwarding'</text>\n</g>\n<!-- 0&#45;&gt;70 -->\n<g class=\"edge\" id=\"edge70\">\n<title>0-&gt;70</title>\n<path d=\"M2186.1622,-1769.8796C2198.3115,-1760.368 2211.3192,-1750.1843 2223.776,-1740.432\" fill=\"none\" stroke=\"#000000\"/>\n<polygon fill=\"#000000\" points=\"2226.1514,-1743.0173 2231.8678,-1734.0969 2221.8362,-1737.5055 2226.1514,-1743.0173\" stroke=\"#000000\"/>\n<text fill=\"#000000\" font-family=\"Times,serif\" font-size=\"14.00\" text-anchor=\"middle\" x=\"2228.8458\" y=\"-1755.2136\">False</text>\n</g>\n<!-- 2 -->\n<g class=\"node\" id=\"node3\">\n<title>2</title>\n<polygon fill=\"#52e8a9\" points=\"1843,-1615 1539,-1615 1539,-1532 1843,-1532 1843,-1615\" stroke=\"#000000\"/>\n<text fill=\"#000000\" font-family=\"Times,serif\" font-size=\"14.00\" text-anchor=\"middle\" x=\"1691\" y=\"-1599.8\">X[0] &lt;= 0.04</text>\n<text fill=\"#000000\" font-family=\"Times,serif\" font-size=\"14.00\" text-anchor=\"middle\" x=\"1691\" y=\"-1584.8\">gini = 0.213</text>\n<text fill=\"#000000\" font-family=\"Times,serif\" font-size=\"14.00\" text-anchor=\"middle\" x=\"1691\" y=\"-1569.8\">samples = 6539</text>\n<text fill=\"#000000\" font-family=\"Times,serif\" font-size=\"14.00\" text-anchor=\"middle\" x=\"1691\" y=\"-1554.8\">value = [1, 105, 114, 497, 5776, 1, 41, 1, 1, 1, 1]</text>\n<text fill=\"#000000\" font-family=\"Times,serif\" font-size=\"14.00\" text-anchor=\"middle\" x=\"1691\" y=\"-1539.8\">class = b'lime'</text>\n</g>\n<!-- 1&#45;&gt;2 -->\n<g class=\"edge\" id=\"edge2\">\n<title>1-&gt;2</title>\n<path d=\"M1879.5721,-1650.8796C1854.4057,-1640.5527 1827.3088,-1629.4336 1801.7225,-1618.9344\" fill=\"none\" stroke=\"#000000\"/>\n<polygon fill=\"#000000\" points=\"1802.9508,-1615.6553 1792.3707,-1615.0969 1800.2933,-1622.1312 1802.9508,-1615.6553\" stroke=\"#000000\"/>\n</g>\n<!-- 69 -->\n<g class=\"node\" id=\"node70\">\n<title>69</title>\n<polygon fill=\"#39e59d\" points=\"2121,-1607.5 1861,-1607.5 1861,-1539.5 2121,-1539.5 2121,-1607.5\" stroke=\"#000000\"/>\n<text fill=\"#000000\" font-family=\"Times,serif\" font-size=\"14.00\" text-anchor=\"middle\" x=\"1991\" y=\"-1592.3\">gini = 0.0</text>\n<text fill=\"#000000\" font-family=\"Times,serif\" font-size=\"14.00\" text-anchor=\"middle\" x=\"1991\" y=\"-1577.3\">samples = 31488</text>\n<text fill=\"#000000\" font-family=\"Times,serif\" font-size=\"14.00\" text-anchor=\"middle\" x=\"1991\" y=\"-1562.3\">value = [0, 0, 0, 0, 31488, 0, 0, 0, 0, 0, 0]</text>\n<text fill=\"#000000\" font-family=\"Times,serif\" font-size=\"14.00\" text-anchor=\"middle\" x=\"1991\" y=\"-1547.3\">class = b'lime'</text>\n</g>\n<!-- 1&#45;&gt;69 -->\n<g class=\"edge\" id=\"edge69\">\n<title>1-&gt;69</title>\n<path d=\"M1984.4975,-1650.8796C1985.3938,-1640.2134 1986.3612,-1628.7021 1987.2688,-1617.9015\" fill=\"none\" stroke=\"#000000\"/>\n<polygon fill=\"#000000\" points=\"1990.7666,-1618.0729 1988.1164,-1607.8149 1983.7912,-1617.4867 1990.7666,-1618.0729\" stroke=\"#000000\"/>\n</g>\n<!-- 3 -->\n<g class=\"node\" id=\"node4\">\n<title>3</title>\n<polygon fill=\"#4ae7a6\" points=\"1697,-1496 1393,-1496 1393,-1413 1697,-1413 1697,-1496\" stroke=\"#000000\"/>\n<text fill=\"#000000\" font-family=\"Times,serif\" font-size=\"14.00\" text-anchor=\"middle\" x=\"1545\" y=\"-1480.8\">X[12] &lt;= 0.0</text>\n<text fill=\"#000000\" font-family=\"Times,serif\" font-size=\"14.00\" text-anchor=\"middle\" x=\"1545\" y=\"-1465.8\">gini = 0.159</text>\n<text fill=\"#000000\" font-family=\"Times,serif\" font-size=\"14.00\" text-anchor=\"middle\" x=\"1545\" y=\"-1450.8\">samples = 6307</text>\n<text fill=\"#000000\" font-family=\"Times,serif\" font-size=\"14.00\" text-anchor=\"middle\" x=\"1545\" y=\"-1435.8\">value = [1, 105, 114, 265, 5776, 1, 41, 1, 1, 1, 1]</text>\n<text fill=\"#000000\" font-family=\"Times,serif\" font-size=\"14.00\" text-anchor=\"middle\" x=\"1545\" y=\"-1420.8\">class = b'lime'</text>\n</g>\n<!-- 2&#45;&gt;3 -->\n<g class=\"edge\" id=\"edge3\">\n<title>2-&gt;3</title>\n<path d=\"M1639.9363,-1531.8796C1628.4445,-1522.513 1616.1532,-1512.4948 1604.355,-1502.8784\" fill=\"none\" stroke=\"#000000\"/>\n<polygon fill=\"#000000\" points=\"1606.2444,-1499.903 1596.2817,-1496.2981 1601.8218,-1505.329 1606.2444,-1499.903\" stroke=\"#000000\"/>\n</g>\n<!-- 68 -->\n<g class=\"node\" id=\"node69\">\n<title>68</title>\n<polygon fill=\"#39e541\" points=\"1960.5,-1488.5 1715.5,-1488.5 1715.5,-1420.5 1960.5,-1420.5 1960.5,-1488.5\" stroke=\"#000000\"/>\n<text fill=\"#000000\" font-family=\"Times,serif\" font-size=\"14.00\" text-anchor=\"middle\" x=\"1838\" y=\"-1473.3\">gini = 0.0</text>\n<text fill=\"#000000\" font-family=\"Times,serif\" font-size=\"14.00\" text-anchor=\"middle\" x=\"1838\" y=\"-1458.3\">samples = 232</text>\n<text fill=\"#000000\" font-family=\"Times,serif\" font-size=\"14.00\" text-anchor=\"middle\" x=\"1838\" y=\"-1443.3\">value = [0, 0, 0, 232, 0, 0, 0, 0, 0, 0, 0]</text>\n<text fill=\"#000000\" font-family=\"Times,serif\" font-size=\"14.00\" text-anchor=\"middle\" x=\"1838\" y=\"-1428.3\">class = b'DNS'</text>\n</g>\n<!-- 2&#45;&gt;68 -->\n<g class=\"edge\" id=\"edge68\">\n<title>2-&gt;68</title>\n<path d=\"M1742.4135,-1531.8796C1757.0835,-1520.0038 1773.0477,-1507.0804 1787.6533,-1495.2568\" fill=\"none\" stroke=\"#000000\"/>\n<polygon fill=\"#000000\" points=\"1790.0407,-1497.8273 1795.611,-1488.8149 1785.6363,-1492.3866 1790.0407,-1497.8273\" stroke=\"#000000\"/>\n</g>\n<!-- 4 -->\n<g class=\"node\" id=\"node5\">\n<title>4</title>\n<polygon fill=\"#3de69f\" points=\"1422,-1377 1162,-1377 1162,-1294 1422,-1294 1422,-1377\" stroke=\"#000000\"/>\n<text fill=\"#000000\" font-family=\"Times,serif\" font-size=\"14.00\" text-anchor=\"middle\" x=\"1292\" y=\"-1361.8\">X[16] &lt;= 0.138</text>\n<text fill=\"#000000\" font-family=\"Times,serif\" font-size=\"14.00\" text-anchor=\"middle\" x=\"1292\" y=\"-1346.8\">gini = 0.04</text>\n<text fill=\"#000000\" font-family=\"Times,serif\" font-size=\"14.00\" text-anchor=\"middle\" x=\"1292\" y=\"-1331.8\">samples = 4941</text>\n<text fill=\"#000000\" font-family=\"Times,serif\" font-size=\"14.00\" text-anchor=\"middle\" x=\"1292\" y=\"-1316.8\">value = [0, 0, 3, 99, 4839, 0, 0, 0, 0, 0, 0]</text>\n<text fill=\"#000000\" font-family=\"Times,serif\" font-size=\"14.00\" text-anchor=\"middle\" x=\"1292\" y=\"-1301.8\">class = b'lime'</text>\n</g>\n<!-- 3&#45;&gt;4 -->\n<g class=\"edge\" id=\"edge4\">\n<title>3-&gt;4</title>\n<path d=\"M1456.5129,-1412.8796C1434.9426,-1402.7339 1411.7467,-1391.8235 1389.7719,-1381.4876\" fill=\"none\" stroke=\"#000000\"/>\n<polygon fill=\"#000000\" points=\"1390.9759,-1378.1861 1380.4372,-1377.0969 1387.9965,-1384.5204 1390.9759,-1378.1861\" stroke=\"#000000\"/>\n</g>\n<!-- 21 -->\n<g class=\"node\" id=\"node22\">\n<title>21</title>\n<polygon fill=\"#80eec0\" points=\"1841,-1377 1545,-1377 1545,-1294 1841,-1294 1841,-1377\" stroke=\"#000000\"/>\n<text fill=\"#000000\" font-family=\"Times,serif\" font-size=\"14.00\" text-anchor=\"middle\" x=\"1693\" y=\"-1361.8\">X[0] &lt;= 0.029</text>\n<text fill=\"#000000\" font-family=\"Times,serif\" font-size=\"14.00\" text-anchor=\"middle\" x=\"1693\" y=\"-1346.8\">gini = 0.501</text>\n<text fill=\"#000000\" font-family=\"Times,serif\" font-size=\"14.00\" text-anchor=\"middle\" x=\"1693\" y=\"-1331.8\">samples = 1366</text>\n<text fill=\"#000000\" font-family=\"Times,serif\" font-size=\"14.00\" text-anchor=\"middle\" x=\"1693\" y=\"-1316.8\">value = [1, 105, 111, 166, 937, 1, 41, 1, 1, 1, 1]</text>\n<text fill=\"#000000\" font-family=\"Times,serif\" font-size=\"14.00\" text-anchor=\"middle\" x=\"1693\" y=\"-1301.8\">class = b'lime'</text>\n</g>\n<!-- 3&#45;&gt;21 -->\n<g class=\"edge\" id=\"edge21\">\n<title>3-&gt;21</title>\n<path d=\"M1596.7632,-1412.8796C1608.5928,-1403.368 1621.2581,-1393.1843 1633.3871,-1383.432\" fill=\"none\" stroke=\"#000000\"/>\n<polygon fill=\"#000000\" points=\"1635.6659,-1386.0908 1641.266,-1377.0969 1631.2796,-1380.6355 1635.6659,-1386.0908\" stroke=\"#000000\"/>\n</g>\n<!-- 5 -->\n<g class=\"node\" id=\"node6\">\n<title>5</title>\n<polygon fill=\"#3be59e\" points=\"1046,-1258 786,-1258 786,-1175 1046,-1175 1046,-1258\" stroke=\"#000000\"/>\n<text fill=\"#000000\" font-family=\"Times,serif\" font-size=\"14.00\" text-anchor=\"middle\" x=\"916\" y=\"-1242.8\">X[16] &lt;= 0.04</text>\n<text fill=\"#000000\" font-family=\"Times,serif\" font-size=\"14.00\" text-anchor=\"middle\" x=\"916\" y=\"-1227.8\">gini = 0.021</text>\n<text fill=\"#000000\" font-family=\"Times,serif\" font-size=\"14.00\" text-anchor=\"middle\" x=\"916\" y=\"-1212.8\">samples = 4871</text>\n<text fill=\"#000000\" font-family=\"Times,serif\" font-size=\"14.00\" text-anchor=\"middle\" x=\"916\" y=\"-1197.8\">value = [0, 0, 3, 49, 4819, 0, 0, 0, 0, 0, 0]</text>\n<text fill=\"#000000\" font-family=\"Times,serif\" font-size=\"14.00\" text-anchor=\"middle\" x=\"916\" y=\"-1182.8\">class = b'lime'</text>\n</g>\n<!-- 4&#45;&gt;5 -->\n<g class=\"edge\" id=\"edge5\">\n<title>4-&gt;5</title>\n<path d=\"M1161.8122,-1294.2969C1127.5797,-1283.4627 1090.5142,-1271.7319 1055.7999,-1260.7452\" fill=\"none\" stroke=\"#000000\"/>\n<polygon fill=\"#000000\" points=\"1056.6654,-1257.348 1046.0754,-1257.6675 1054.5532,-1264.0218 1056.6654,-1257.348\" stroke=\"#000000\"/>\n</g>\n<!-- 18 -->\n<g class=\"node\" id=\"node19\">\n<title>18</title>\n<polygon fill=\"#88ef8d\" points=\"1414.5,-1258 1169.5,-1258 1169.5,-1175 1414.5,-1175 1414.5,-1258\" stroke=\"#000000\"/>\n<text fill=\"#000000\" font-family=\"Times,serif\" font-size=\"14.00\" text-anchor=\"middle\" x=\"1292\" y=\"-1242.8\">X[1] &lt;= 0.079</text>\n<text fill=\"#000000\" font-family=\"Times,serif\" font-size=\"14.00\" text-anchor=\"middle\" x=\"1292\" y=\"-1227.8\">gini = 0.408</text>\n<text fill=\"#000000\" font-family=\"Times,serif\" font-size=\"14.00\" text-anchor=\"middle\" x=\"1292\" y=\"-1212.8\">samples = 70</text>\n<text fill=\"#000000\" font-family=\"Times,serif\" font-size=\"14.00\" text-anchor=\"middle\" x=\"1292\" y=\"-1197.8\">value = [0, 0, 0, 50, 20, 0, 0, 0, 0, 0, 0]</text>\n<text fill=\"#000000\" font-family=\"Times,serif\" font-size=\"14.00\" text-anchor=\"middle\" x=\"1292\" y=\"-1182.8\">class = b'DNS'</text>\n</g>\n<!-- 4&#45;&gt;18 -->\n<g class=\"edge\" id=\"edge18\">\n<title>4-&gt;18</title>\n<path d=\"M1292,-1293.8796C1292,-1285.6838 1292,-1276.9891 1292,-1268.5013\" fill=\"none\" stroke=\"#000000\"/>\n<polygon fill=\"#000000\" points=\"1295.5001,-1268.298 1292,-1258.2981 1288.5001,-1268.2981 1295.5001,-1268.298\" stroke=\"#000000\"/>\n</g>\n<!-- 6 -->\n<g class=\"node\" id=\"node7\">\n<title>6</title>\n<polygon fill=\"#39e59d\" points=\"772,-1139 520,-1139 520,-1056 772,-1056 772,-1139\" stroke=\"#000000\"/>\n<text fill=\"#000000\" font-family=\"Times,serif\" font-size=\"14.00\" text-anchor=\"middle\" x=\"646\" y=\"-1123.8\">X[11] &lt;= 0.379</text>\n<text fill=\"#000000\" font-family=\"Times,serif\" font-size=\"14.00\" text-anchor=\"middle\" x=\"646\" y=\"-1108.8\">gini = 0.001</text>\n<text fill=\"#000000\" font-family=\"Times,serif\" font-size=\"14.00\" text-anchor=\"middle\" x=\"646\" y=\"-1093.8\">samples = 4046</text>\n<text fill=\"#000000\" font-family=\"Times,serif\" font-size=\"14.00\" text-anchor=\"middle\" x=\"646\" y=\"-1078.8\">value = [0, 0, 3, 0, 4043, 0, 0, 0, 0, 0, 0]</text>\n<text fill=\"#000000\" font-family=\"Times,serif\" font-size=\"14.00\" text-anchor=\"middle\" x=\"646\" y=\"-1063.8\">class = b'lime'</text>\n</g>\n<!-- 5&#45;&gt;6 -->\n<g class=\"edge\" id=\"edge6\">\n<title>5-&gt;6</title>\n<path d=\"M821.5671,-1174.8796C798.3419,-1164.6433 773.3507,-1153.6286 749.7137,-1143.2108\" fill=\"none\" stroke=\"#000000\"/>\n<polygon fill=\"#000000\" points=\"750.9418,-1139.9273 740.3796,-1139.0969 748.1186,-1146.3328 750.9418,-1139.9273\" stroke=\"#000000\"/>\n</g>\n<!-- 15 -->\n<g class=\"node\" id=\"node16\">\n<title>15</title>\n<polygon fill=\"#46e7a3\" points=\"1042,-1139 790,-1139 790,-1056 1042,-1056 1042,-1139\" stroke=\"#000000\"/>\n<text fill=\"#000000\" font-family=\"Times,serif\" font-size=\"14.00\" text-anchor=\"middle\" x=\"916\" y=\"-1123.8\">X[12] &lt;= 0.0</text>\n<text fill=\"#000000\" font-family=\"Times,serif\" font-size=\"14.00\" text-anchor=\"middle\" x=\"916\" y=\"-1108.8\">gini = 0.112</text>\n<text fill=\"#000000\" font-family=\"Times,serif\" font-size=\"14.00\" text-anchor=\"middle\" x=\"916\" y=\"-1093.8\">samples = 825</text>\n<text fill=\"#000000\" font-family=\"Times,serif\" font-size=\"14.00\" text-anchor=\"middle\" x=\"916\" y=\"-1078.8\">value = [0, 0, 0, 49, 776, 0, 0, 0, 0, 0, 0]</text>\n<text fill=\"#000000\" font-family=\"Times,serif\" font-size=\"14.00\" text-anchor=\"middle\" x=\"916\" y=\"-1063.8\">class = b'lime'</text>\n</g>\n<!-- 5&#45;&gt;15 -->\n<g class=\"edge\" id=\"edge15\">\n<title>5-&gt;15</title>\n<path d=\"M916,-1174.8796C916,-1166.6838 916,-1157.9891 916,-1149.5013\" fill=\"none\" stroke=\"#000000\"/>\n<polygon fill=\"#000000\" points=\"919.5001,-1149.298 916,-1139.2981 912.5001,-1149.2981 919.5001,-1149.298\" stroke=\"#000000\"/>\n</g>\n<!-- 7 -->\n<g class=\"node\" id=\"node8\">\n<title>7</title>\n<polygon fill=\"#39e59d\" points=\"518,-1020 266,-1020 266,-937 518,-937 518,-1020\" stroke=\"#000000\"/>\n<text fill=\"#000000\" font-family=\"Times,serif\" font-size=\"14.00\" text-anchor=\"middle\" x=\"392\" y=\"-1004.8\">X[3] &lt;= 0.038</text>\n<text fill=\"#000000\" font-family=\"Times,serif\" font-size=\"14.00\" text-anchor=\"middle\" x=\"392\" y=\"-989.8\">gini = 0.001</text>\n<text fill=\"#000000\" font-family=\"Times,serif\" font-size=\"14.00\" text-anchor=\"middle\" x=\"392\" y=\"-974.8\">samples = 4039</text>\n<text fill=\"#000000\" font-family=\"Times,serif\" font-size=\"14.00\" text-anchor=\"middle\" x=\"392\" y=\"-959.8\">value = [0, 0, 2, 0, 4037, 0, 0, 0, 0, 0, 0]</text>\n<text fill=\"#000000\" font-family=\"Times,serif\" font-size=\"14.00\" text-anchor=\"middle\" x=\"392\" y=\"-944.8\">class = b'lime'</text>\n</g>\n<!-- 6&#45;&gt;7 -->\n<g class=\"edge\" id=\"edge7\">\n<title>6-&gt;7</title>\n<path d=\"M557.1631,-1055.8796C535.4109,-1045.6886 512.012,-1034.7261 489.8629,-1024.3492\" fill=\"none\" stroke=\"#000000\"/>\n<polygon fill=\"#000000\" points=\"491.3271,-1021.1701 480.7867,-1020.0969 488.3573,-1027.5089 491.3271,-1021.1701\" stroke=\"#000000\"/>\n</g>\n<!-- 12 -->\n<g class=\"node\" id=\"node13\">\n<title>12</title>\n<polygon fill=\"#5ae9ad\" points=\"766,-1020 536,-1020 536,-937 766,-937 766,-1020\" stroke=\"#000000\"/>\n<text fill=\"#000000\" font-family=\"Times,serif\" font-size=\"14.00\" text-anchor=\"middle\" x=\"651\" y=\"-1004.8\">X[6] &lt;= 0.299</text>\n<text fill=\"#000000\" font-family=\"Times,serif\" font-size=\"14.00\" text-anchor=\"middle\" x=\"651\" y=\"-989.8\">gini = 0.245</text>\n<text fill=\"#000000\" font-family=\"Times,serif\" font-size=\"14.00\" text-anchor=\"middle\" x=\"651\" y=\"-974.8\">samples = 7</text>\n<text fill=\"#000000\" font-family=\"Times,serif\" font-size=\"14.00\" text-anchor=\"middle\" x=\"651\" y=\"-959.8\">value = [0, 0, 1, 0, 6, 0, 0, 0, 0, 0, 0]</text>\n<text fill=\"#000000\" font-family=\"Times,serif\" font-size=\"14.00\" text-anchor=\"middle\" x=\"651\" y=\"-944.8\">class = b'lime'</text>\n</g>\n<!-- 6&#45;&gt;12 -->\n<g class=\"edge\" id=\"edge12\">\n<title>6-&gt;12</title>\n<path d=\"M647.7488,-1055.8796C648.0931,-1047.6838 648.4584,-1038.9891 648.8151,-1030.5013\" fill=\"none\" stroke=\"#000000\"/>\n<polygon fill=\"#000000\" points=\"652.3208,-1030.4362 649.2438,-1020.2981 645.327,-1030.1423 652.3208,-1030.4362\" stroke=\"#000000\"/>\n</g>\n<!-- 8 -->\n<g class=\"node\" id=\"node9\">\n<title>8</title>\n<polygon fill=\"#39e59d\" points=\"252,-893.5 0,-893.5 0,-825.5 252,-825.5 252,-893.5\" stroke=\"#000000\"/>\n<text fill=\"#000000\" font-family=\"Times,serif\" font-size=\"14.00\" text-anchor=\"middle\" x=\"126\" y=\"-878.3\">gini = 0.0</text>\n<text fill=\"#000000\" font-family=\"Times,serif\" font-size=\"14.00\" text-anchor=\"middle\" x=\"126\" y=\"-863.3\">samples = 3838</text>\n<text fill=\"#000000\" font-family=\"Times,serif\" font-size=\"14.00\" text-anchor=\"middle\" x=\"126\" y=\"-848.3\">value = [0, 0, 0, 0, 3838, 0, 0, 0, 0, 0, 0]</text>\n<text fill=\"#000000\" font-family=\"Times,serif\" font-size=\"14.00\" text-anchor=\"middle\" x=\"126\" y=\"-833.3\">class = b'lime'</text>\n</g>\n<!-- 7&#45;&gt;8 -->\n<g class=\"edge\" id=\"edge8\">\n<title>7-&gt;8</title>\n<path d=\"M298.9661,-936.8796C270.5651,-924.1739 239.4837,-910.269 211.6001,-897.7948\" fill=\"none\" stroke=\"#000000\"/>\n<polygon fill=\"#000000\" points=\"212.8325,-894.5119 202.275,-893.623 209.9739,-900.9016 212.8325,-894.5119\" stroke=\"#000000\"/>\n</g>\n<!-- 9 -->\n<g class=\"node\" id=\"node10\">\n<title>9</title>\n<polygon fill=\"#3be59e\" points=\"515.5,-901 270.5,-901 270.5,-818 515.5,-818 515.5,-901\" stroke=\"#000000\"/>\n<text fill=\"#000000\" font-family=\"Times,serif\" font-size=\"14.00\" text-anchor=\"middle\" x=\"393\" y=\"-885.8\">X[16] &lt;= 0.0</text>\n<text fill=\"#000000\" font-family=\"Times,serif\" font-size=\"14.00\" text-anchor=\"middle\" x=\"393\" y=\"-870.8\">gini = 0.02</text>\n<text fill=\"#000000\" font-family=\"Times,serif\" font-size=\"14.00\" text-anchor=\"middle\" x=\"393\" y=\"-855.8\">samples = 201</text>\n<text fill=\"#000000\" font-family=\"Times,serif\" font-size=\"14.00\" text-anchor=\"middle\" x=\"393\" y=\"-840.8\">value = [0, 0, 2, 0, 199, 0, 0, 0, 0, 0, 0]</text>\n<text fill=\"#000000\" font-family=\"Times,serif\" font-size=\"14.00\" text-anchor=\"middle\" x=\"393\" y=\"-825.8\">class = b'lime'</text>\n</g>\n<!-- 7&#45;&gt;9 -->\n<g class=\"edge\" id=\"edge9\">\n<title>7-&gt;9</title>\n<path d=\"M392.3498,-936.8796C392.4186,-928.6838 392.4917,-919.9891 392.563,-911.5013\" fill=\"none\" stroke=\"#000000\"/>\n<polygon fill=\"#000000\" points=\"396.0645,-911.3272 392.6488,-901.2981 389.0648,-911.2683 396.0645,-911.3272\" stroke=\"#000000\"/>\n</g>\n<!-- 10 -->\n<g class=\"node\" id=\"node11\">\n<title>10</title>\n<polygon fill=\"#8fe539\" points=\"380,-774.5 150,-774.5 150,-706.5 380,-706.5 380,-774.5\" stroke=\"#000000\"/>\n<text fill=\"#000000\" font-family=\"Times,serif\" font-size=\"14.00\" text-anchor=\"middle\" x=\"265\" y=\"-759.3\">gini = 0.0</text>\n<text fill=\"#000000\" font-family=\"Times,serif\" font-size=\"14.00\" text-anchor=\"middle\" x=\"265\" y=\"-744.3\">samples = 2</text>\n<text fill=\"#000000\" font-family=\"Times,serif\" font-size=\"14.00\" text-anchor=\"middle\" x=\"265\" y=\"-729.3\">value = [0, 0, 2, 0, 0, 0, 0, 0, 0, 0, 0]</text>\n<text fill=\"#000000\" font-family=\"Times,serif\" font-size=\"14.00\" text-anchor=\"middle\" x=\"265\" y=\"-714.3\">class = b'HTTP'</text>\n</g>\n<!-- 9&#45;&gt;10 -->\n<g class=\"edge\" id=\"edge10\">\n<title>9-&gt;10</title>\n<path d=\"M348.2318,-817.8796C335.6944,-806.2237 322.0716,-793.5587 309.547,-781.9148\" fill=\"none\" stroke=\"#000000\"/>\n<polygon fill=\"#000000\" points=\"311.6172,-779.0605 301.9102,-774.8149 306.8509,-784.1872 311.6172,-779.0605\" stroke=\"#000000\"/>\n</g>\n<!-- 11 -->\n<g class=\"node\" id=\"node12\">\n<title>11</title>\n<polygon fill=\"#39e59d\" points=\"643.5,-774.5 398.5,-774.5 398.5,-706.5 643.5,-706.5 643.5,-774.5\" stroke=\"#000000\"/>\n<text fill=\"#000000\" font-family=\"Times,serif\" font-size=\"14.00\" text-anchor=\"middle\" x=\"521\" y=\"-759.3\">gini = 0.0</text>\n<text fill=\"#000000\" font-family=\"Times,serif\" font-size=\"14.00\" text-anchor=\"middle\" x=\"521\" y=\"-744.3\">samples = 199</text>\n<text fill=\"#000000\" font-family=\"Times,serif\" font-size=\"14.00\" text-anchor=\"middle\" x=\"521\" y=\"-729.3\">value = [0, 0, 0, 0, 199, 0, 0, 0, 0, 0, 0]</text>\n<text fill=\"#000000\" font-family=\"Times,serif\" font-size=\"14.00\" text-anchor=\"middle\" x=\"521\" y=\"-714.3\">class = b'lime'</text>\n</g>\n<!-- 9&#45;&gt;11 -->\n<g class=\"edge\" id=\"edge11\">\n<title>9-&gt;11</title>\n<path d=\"M437.7682,-817.8796C450.3056,-806.2237 463.9284,-793.5587 476.453,-781.9148\" fill=\"none\" stroke=\"#000000\"/>\n<polygon fill=\"#000000\" points=\"479.1491,-784.1872 484.0898,-774.8149 474.3828,-779.0605 479.1491,-784.1872\" stroke=\"#000000\"/>\n</g>\n<!-- 13 -->\n<g class=\"node\" id=\"node14\">\n<title>13</title>\n<polygon fill=\"#8fe539\" points=\"765,-893.5 535,-893.5 535,-825.5 765,-825.5 765,-893.5\" stroke=\"#000000\"/>\n<text fill=\"#000000\" font-family=\"Times,serif\" font-size=\"14.00\" text-anchor=\"middle\" x=\"650\" y=\"-878.3\">gini = 0.0</text>\n<text fill=\"#000000\" font-family=\"Times,serif\" font-size=\"14.00\" text-anchor=\"middle\" x=\"650\" y=\"-863.3\">samples = 1</text>\n<text fill=\"#000000\" font-family=\"Times,serif\" font-size=\"14.00\" text-anchor=\"middle\" x=\"650\" y=\"-848.3\">value = [0, 0, 1, 0, 0, 0, 0, 0, 0, 0, 0]</text>\n<text fill=\"#000000\" font-family=\"Times,serif\" font-size=\"14.00\" text-anchor=\"middle\" x=\"650\" y=\"-833.3\">class = b'HTTP'</text>\n</g>\n<!-- 12&#45;&gt;13 -->\n<g class=\"edge\" id=\"edge13\">\n<title>12-&gt;13</title>\n<path d=\"M650.6502,-936.8796C650.5606,-926.2134 650.4639,-914.7021 650.3731,-903.9015\" fill=\"none\" stroke=\"#000000\"/>\n<polygon fill=\"#000000\" points=\"653.8724,-903.7851 650.2884,-893.8149 646.8726,-903.844 653.8724,-903.7851\" stroke=\"#000000\"/>\n</g>\n<!-- 14 -->\n<g class=\"node\" id=\"node15\">\n<title>14</title>\n<polygon fill=\"#39e59d\" points=\"1013,-893.5 783,-893.5 783,-825.5 1013,-825.5 1013,-893.5\" stroke=\"#000000\"/>\n<text fill=\"#000000\" font-family=\"Times,serif\" font-size=\"14.00\" text-anchor=\"middle\" x=\"898\" y=\"-878.3\">gini = 0.0</text>\n<text fill=\"#000000\" font-family=\"Times,serif\" font-size=\"14.00\" text-anchor=\"middle\" x=\"898\" y=\"-863.3\">samples = 6</text>\n<text fill=\"#000000\" font-family=\"Times,serif\" font-size=\"14.00\" text-anchor=\"middle\" x=\"898\" y=\"-848.3\">value = [0, 0, 0, 0, 6, 0, 0, 0, 0, 0, 0]</text>\n<text fill=\"#000000\" font-family=\"Times,serif\" font-size=\"14.00\" text-anchor=\"middle\" x=\"898\" y=\"-833.3\">class = b'lime'</text>\n</g>\n<!-- 12&#45;&gt;14 -->\n<g class=\"edge\" id=\"edge14\">\n<title>12-&gt;14</title>\n<path d=\"M737.3886,-936.8796C763.5317,-924.2843 792.1206,-910.5107 817.8381,-898.1205\" fill=\"none\" stroke=\"#000000\"/>\n<polygon fill=\"#000000\" points=\"819.6834,-901.1166 827.1732,-893.623 816.6451,-894.8103 819.6834,-901.1166\" stroke=\"#000000\"/>\n</g>\n<!-- 16 -->\n<g class=\"node\" id=\"node17\">\n<title>16</title>\n<polygon fill=\"#39e541\" points=\"1030.5,-1012.5 793.5,-1012.5 793.5,-944.5 1030.5,-944.5 1030.5,-1012.5\" stroke=\"#000000\"/>\n<text fill=\"#000000\" font-family=\"Times,serif\" font-size=\"14.00\" text-anchor=\"middle\" x=\"912\" y=\"-997.3\">gini = 0.0</text>\n<text fill=\"#000000\" font-family=\"Times,serif\" font-size=\"14.00\" text-anchor=\"middle\" x=\"912\" y=\"-982.3\">samples = 49</text>\n<text fill=\"#000000\" font-family=\"Times,serif\" font-size=\"14.00\" text-anchor=\"middle\" x=\"912\" y=\"-967.3\">value = [0, 0, 0, 49, 0, 0, 0, 0, 0, 0, 0]</text>\n<text fill=\"#000000\" font-family=\"Times,serif\" font-size=\"14.00\" text-anchor=\"middle\" x=\"912\" y=\"-952.3\">class = b'DNS'</text>\n</g>\n<!-- 15&#45;&gt;16 -->\n<g class=\"edge\" id=\"edge16\">\n<title>15-&gt;16</title>\n<path d=\"M914.601,-1055.8796C914.2425,-1045.2134 913.8555,-1033.7021 913.4925,-1022.9015\" fill=\"none\" stroke=\"#000000\"/>\n<polygon fill=\"#000000\" points=\"916.9875,-1022.6917 913.1534,-1012.8149 909.9915,-1022.9269 916.9875,-1022.6917\" stroke=\"#000000\"/>\n</g>\n<!-- 17 -->\n<g class=\"node\" id=\"node18\">\n<title>17</title>\n<polygon fill=\"#39e59d\" points=\"1293.5,-1012.5 1048.5,-1012.5 1048.5,-944.5 1293.5,-944.5 1293.5,-1012.5\" stroke=\"#000000\"/>\n<text fill=\"#000000\" font-family=\"Times,serif\" font-size=\"14.00\" text-anchor=\"middle\" x=\"1171\" y=\"-997.3\">gini = 0.0</text>\n<text fill=\"#000000\" font-family=\"Times,serif\" font-size=\"14.00\" text-anchor=\"middle\" x=\"1171\" y=\"-982.3\">samples = 776</text>\n<text fill=\"#000000\" font-family=\"Times,serif\" font-size=\"14.00\" text-anchor=\"middle\" x=\"1171\" y=\"-967.3\">value = [0, 0, 0, 0, 776, 0, 0, 0, 0, 0, 0]</text>\n<text fill=\"#000000\" font-family=\"Times,serif\" font-size=\"14.00\" text-anchor=\"middle\" x=\"1171\" y=\"-952.3\">class = b'lime'</text>\n</g>\n<!-- 15&#45;&gt;17 -->\n<g class=\"edge\" id=\"edge17\">\n<title>15-&gt;17</title>\n<path d=\"M1005.1866,-1055.8796C1032.2948,-1043.2291 1061.9502,-1029.3899 1088.5909,-1016.9576\" fill=\"none\" stroke=\"#000000\"/>\n<polygon fill=\"#000000\" points=\"1090.2975,-1020.0236 1097.8792,-1012.623 1087.3373,-1013.6803 1090.2975,-1020.0236\" stroke=\"#000000\"/>\n</g>\n<!-- 19 -->\n<g class=\"node\" id=\"node20\">\n<title>19</title>\n<polygon fill=\"#39e541\" points=\"1297.5,-1131.5 1060.5,-1131.5 1060.5,-1063.5 1297.5,-1063.5 1297.5,-1131.5\" stroke=\"#000000\"/>\n<text fill=\"#000000\" font-family=\"Times,serif\" font-size=\"14.00\" text-anchor=\"middle\" x=\"1179\" y=\"-1116.3\">gini = 0.0</text>\n<text fill=\"#000000\" font-family=\"Times,serif\" font-size=\"14.00\" text-anchor=\"middle\" x=\"1179\" y=\"-1101.3\">samples = 50</text>\n<text fill=\"#000000\" font-family=\"Times,serif\" font-size=\"14.00\" text-anchor=\"middle\" x=\"1179\" y=\"-1086.3\">value = [0, 0, 0, 50, 0, 0, 0, 0, 0, 0, 0]</text>\n<text fill=\"#000000\" font-family=\"Times,serif\" font-size=\"14.00\" text-anchor=\"middle\" x=\"1179\" y=\"-1071.3\">class = b'DNS'</text>\n</g>\n<!-- 18&#45;&gt;19 -->\n<g class=\"edge\" id=\"edge19\">\n<title>18-&gt;19</title>\n<path d=\"M1252.4781,-1174.8796C1241.5143,-1163.3337 1229.6103,-1150.7976 1218.6399,-1139.2446\" fill=\"none\" stroke=\"#000000\"/>\n<polygon fill=\"#000000\" points=\"1221.0087,-1136.6564 1211.5848,-1131.8149 1215.9327,-1141.4766 1221.0087,-1136.6564\" stroke=\"#000000\"/>\n</g>\n<!-- 20 -->\n<g class=\"node\" id=\"node21\">\n<title>20</title>\n<polygon fill=\"#39e59d\" points=\"1552.5,-1131.5 1315.5,-1131.5 1315.5,-1063.5 1552.5,-1063.5 1552.5,-1131.5\" stroke=\"#000000\"/>\n<text fill=\"#000000\" font-family=\"Times,serif\" font-size=\"14.00\" text-anchor=\"middle\" x=\"1434\" y=\"-1116.3\">gini = 0.0</text>\n<text fill=\"#000000\" font-family=\"Times,serif\" font-size=\"14.00\" text-anchor=\"middle\" x=\"1434\" y=\"-1101.3\">samples = 20</text>\n<text fill=\"#000000\" font-family=\"Times,serif\" font-size=\"14.00\" text-anchor=\"middle\" x=\"1434\" y=\"-1086.3\">value = [0, 0, 0, 0, 20, 0, 0, 0, 0, 0, 0]</text>\n<text fill=\"#000000\" font-family=\"Times,serif\" font-size=\"14.00\" text-anchor=\"middle\" x=\"1434\" y=\"-1071.3\">class = b'lime'</text>\n</g>\n<!-- 18&#45;&gt;20 -->\n<g class=\"edge\" id=\"edge20\">\n<title>18-&gt;20</title>\n<path d=\"M1341.6647,-1174.8796C1355.8358,-1163.0038 1371.257,-1150.0804 1385.3658,-1138.2568\" fill=\"none\" stroke=\"#000000\"/>\n<polygon fill=\"#000000\" points=\"1387.6363,-1140.9206 1393.0528,-1131.8149 1383.1402,-1135.5554 1387.6363,-1140.9206\" stroke=\"#000000\"/>\n</g>\n<!-- 22 -->\n<g class=\"node\" id=\"node23\">\n<title>22</title>\n<polygon fill=\"#69ebb5\" points=\"1833.5,-1258 1552.5,-1258 1552.5,-1175 1833.5,-1175 1833.5,-1258\" stroke=\"#000000\"/>\n<text fill=\"#000000\" font-family=\"Times,serif\" font-size=\"14.00\" text-anchor=\"middle\" x=\"1693\" y=\"-1242.8\">X[1] &lt;= 0.001</text>\n<text fill=\"#000000\" font-family=\"Times,serif\" font-size=\"14.00\" text-anchor=\"middle\" x=\"1693\" y=\"-1227.8\">gini = 0.373</text>\n<text fill=\"#000000\" font-family=\"Times,serif\" font-size=\"14.00\" text-anchor=\"middle\" x=\"1693\" y=\"-1212.8\">samples = 1200</text>\n<text fill=\"#000000\" font-family=\"Times,serif\" font-size=\"14.00\" text-anchor=\"middle\" x=\"1693\" y=\"-1197.8\">value = [1, 105, 111, 0, 937, 1, 41, 1, 1, 1, 1]</text>\n<text fill=\"#000000\" font-family=\"Times,serif\" font-size=\"14.00\" text-anchor=\"middle\" x=\"1693\" y=\"-1182.8\">class = b'lime'</text>\n</g>\n<!-- 21&#45;&gt;22 -->\n<g class=\"edge\" id=\"edge22\">\n<title>21-&gt;22</title>\n<path d=\"M1693,-1293.8796C1693,-1285.6838 1693,-1276.9891 1693,-1268.5013\" fill=\"none\" stroke=\"#000000\"/>\n<polygon fill=\"#000000\" points=\"1696.5001,-1268.298 1693,-1258.2981 1689.5001,-1268.2981 1696.5001,-1268.298\" stroke=\"#000000\"/>\n</g>\n<!-- 67 -->\n<g class=\"node\" id=\"node68\">\n<title>67</title>\n<polygon fill=\"#39e541\" points=\"2096.5,-1250.5 1851.5,-1250.5 1851.5,-1182.5 2096.5,-1182.5 2096.5,-1250.5\" stroke=\"#000000\"/>\n<text fill=\"#000000\" font-family=\"Times,serif\" font-size=\"14.00\" text-anchor=\"middle\" x=\"1974\" y=\"-1235.3\">gini = 0.0</text>\n<text fill=\"#000000\" font-family=\"Times,serif\" font-size=\"14.00\" text-anchor=\"middle\" x=\"1974\" y=\"-1220.3\">samples = 166</text>\n<text fill=\"#000000\" font-family=\"Times,serif\" font-size=\"14.00\" text-anchor=\"middle\" x=\"1974\" y=\"-1205.3\">value = [0, 0, 0, 166, 0, 0, 0, 0, 0, 0, 0]</text>\n<text fill=\"#000000\" font-family=\"Times,serif\" font-size=\"14.00\" text-anchor=\"middle\" x=\"1974\" y=\"-1190.3\">class = b'DNS'</text>\n</g>\n<!-- 21&#45;&gt;67 -->\n<g class=\"edge\" id=\"edge67\">\n<title>21-&gt;67</title>\n<path d=\"M1791.2802,-1293.8796C1821.4132,-1281.1186 1854.4025,-1267.1481 1883.9568,-1254.6322\" fill=\"none\" stroke=\"#000000\"/>\n<polygon fill=\"#000000\" points=\"1885.5803,-1257.7456 1893.4238,-1250.623 1882.8506,-1251.2998 1885.5803,-1257.7456\" stroke=\"#000000\"/>\n</g>\n<!-- 23 -->\n<g class=\"node\" id=\"node24\">\n<title>23</title>\n<polygon fill=\"#e6de42\" points=\"1815.5,-1139 1570.5,-1139 1570.5,-1056 1815.5,-1056 1815.5,-1139\" stroke=\"#000000\"/>\n<text fill=\"#000000\" font-family=\"Times,serif\" font-size=\"14.00\" text-anchor=\"middle\" x=\"1693\" y=\"-1123.8\">X[5] &lt;= 0.037</text>\n<text fill=\"#000000\" font-family=\"Times,serif\" font-size=\"14.00\" text-anchor=\"middle\" x=\"1693\" y=\"-1108.8\">gini = 0.087</text>\n<text fill=\"#000000\" font-family=\"Times,serif\" font-size=\"14.00\" text-anchor=\"middle\" x=\"1693\" y=\"-1093.8\">samples = 110</text>\n<text fill=\"#000000\" font-family=\"Times,serif\" font-size=\"14.00\" text-anchor=\"middle\" x=\"1693\" y=\"-1078.8\">value = [1, 105, 0, 0, 4, 0, 0, 0, 0, 0, 0]</text>\n<text fill=\"#000000\" font-family=\"Times,serif\" font-size=\"14.00\" text-anchor=\"middle\" x=\"1693\" y=\"-1063.8\">class = b'FTP'</text>\n</g>\n<!-- 22&#45;&gt;23 -->\n<g class=\"edge\" id=\"edge23\">\n<title>22-&gt;23</title>\n<path d=\"M1693,-1174.8796C1693,-1166.6838 1693,-1157.9891 1693,-1149.5013\" fill=\"none\" stroke=\"#000000\"/>\n<polygon fill=\"#000000\" points=\"1696.5001,-1149.298 1693,-1139.2981 1689.5001,-1149.2981 1696.5001,-1149.298\" stroke=\"#000000\"/>\n</g>\n<!-- 28 -->\n<g class=\"node\" id=\"node29\">\n<title>28</title>\n<polygon fill=\"#59e9ad\" points=\"2100,-1139 1834,-1139 1834,-1056 2100,-1056 2100,-1139\" stroke=\"#000000\"/>\n<text fill=\"#000000\" font-family=\"Times,serif\" font-size=\"14.00\" text-anchor=\"middle\" x=\"1967\" y=\"-1123.8\">X[5] &lt;= 0.519</text>\n<text fill=\"#000000\" font-family=\"Times,serif\" font-size=\"14.00\" text-anchor=\"middle\" x=\"1967\" y=\"-1108.8\">gini = 0.256</text>\n<text fill=\"#000000\" font-family=\"Times,serif\" font-size=\"14.00\" text-anchor=\"middle\" x=\"1967\" y=\"-1093.8\">samples = 1090</text>\n<text fill=\"#000000\" font-family=\"Times,serif\" font-size=\"14.00\" text-anchor=\"middle\" x=\"1967\" y=\"-1078.8\">value = [0, 0, 111, 0, 933, 1, 41, 1, 1, 1, 1]</text>\n<text fill=\"#000000\" font-family=\"Times,serif\" font-size=\"14.00\" text-anchor=\"middle\" x=\"1967\" y=\"-1063.8\">class = b'lime'</text>\n</g>\n<!-- 22&#45;&gt;28 -->\n<g class=\"edge\" id=\"edge28\">\n<title>22-&gt;28</title>\n<path d=\"M1788.8319,-1174.8796C1812.4012,-1164.6433 1837.7626,-1153.6286 1861.7498,-1143.2108\" fill=\"none\" stroke=\"#000000\"/>\n<polygon fill=\"#000000\" points=\"1863.4442,-1146.2909 1871.2222,-1139.0969 1860.6556,-1139.8703 1863.4442,-1146.2909\" stroke=\"#000000\"/>\n</g>\n<!-- 24 -->\n<g class=\"node\" id=\"node25\">\n<title>24</title>\n<polygon fill=\"#6aecb6\" points=\"1553,-1020 1323,-1020 1323,-937 1553,-937 1553,-1020\" stroke=\"#000000\"/>\n<text fill=\"#000000\" font-family=\"Times,serif\" font-size=\"14.00\" text-anchor=\"middle\" x=\"1438\" y=\"-1004.8\">X[6] &lt;= 0.033</text>\n<text fill=\"#000000\" font-family=\"Times,serif\" font-size=\"14.00\" text-anchor=\"middle\" x=\"1438\" y=\"-989.8\">gini = 0.32</text>\n<text fill=\"#000000\" font-family=\"Times,serif\" font-size=\"14.00\" text-anchor=\"middle\" x=\"1438\" y=\"-974.8\">samples = 5</text>\n<text fill=\"#000000\" font-family=\"Times,serif\" font-size=\"14.00\" text-anchor=\"middle\" x=\"1438\" y=\"-959.8\">value = [1, 0, 0, 0, 4, 0, 0, 0, 0, 0, 0]</text>\n<text fill=\"#000000\" font-family=\"Times,serif\" font-size=\"14.00\" text-anchor=\"middle\" x=\"1438\" y=\"-944.8\">class = b'lime'</text>\n</g>\n<!-- 23&#45;&gt;24 -->\n<g class=\"edge\" id=\"edge24\">\n<title>23-&gt;24</title>\n<path d=\"M1603.8134,-1055.8796C1581.9755,-1045.6886 1558.4845,-1034.7261 1536.2482,-1024.3492\" fill=\"none\" stroke=\"#000000\"/>\n<polygon fill=\"#000000\" points=\"1537.6782,-1021.1542 1527.1363,-1020.0969 1534.718,-1027.4975 1537.6782,-1021.1542\" stroke=\"#000000\"/>\n</g>\n<!-- 27 -->\n<g class=\"node\" id=\"node28\">\n<title>27</title>\n<polygon fill=\"#e5dc39\" points=\"1816.5,-1012.5 1571.5,-1012.5 1571.5,-944.5 1816.5,-944.5 1816.5,-1012.5\" stroke=\"#000000\"/>\n<text fill=\"#000000\" font-family=\"Times,serif\" font-size=\"14.00\" text-anchor=\"middle\" x=\"1694\" y=\"-997.3\">gini = 0.0</text>\n<text fill=\"#000000\" font-family=\"Times,serif\" font-size=\"14.00\" text-anchor=\"middle\" x=\"1694\" y=\"-982.3\">samples = 105</text>\n<text fill=\"#000000\" font-family=\"Times,serif\" font-size=\"14.00\" text-anchor=\"middle\" x=\"1694\" y=\"-967.3\">value = [0, 105, 0, 0, 0, 0, 0, 0, 0, 0, 0]</text>\n<text fill=\"#000000\" font-family=\"Times,serif\" font-size=\"14.00\" text-anchor=\"middle\" x=\"1694\" y=\"-952.3\">class = b'FTP'</text>\n</g>\n<!-- 23&#45;&gt;27 -->\n<g class=\"edge\" id=\"edge27\">\n<title>23-&gt;27</title>\n<path d=\"M1693.3498,-1055.8796C1693.4394,-1045.2134 1693.5361,-1033.7021 1693.6269,-1022.9015\" fill=\"none\" stroke=\"#000000\"/>\n<polygon fill=\"#000000\" points=\"1697.1274,-1022.844 1693.7116,-1012.8149 1690.1276,-1022.7851 1697.1274,-1022.844\" stroke=\"#000000\"/>\n</g>\n<!-- 25 -->\n<g class=\"node\" id=\"node26\">\n<title>25</title>\n<polygon fill=\"#39e59d\" points=\"1311,-893.5 1081,-893.5 1081,-825.5 1311,-825.5 1311,-893.5\" stroke=\"#000000\"/>\n<text fill=\"#000000\" font-family=\"Times,serif\" font-size=\"14.00\" text-anchor=\"middle\" x=\"1196\" y=\"-878.3\">gini = 0.0</text>\n<text fill=\"#000000\" font-family=\"Times,serif\" font-size=\"14.00\" text-anchor=\"middle\" x=\"1196\" y=\"-863.3\">samples = 4</text>\n<text fill=\"#000000\" font-family=\"Times,serif\" font-size=\"14.00\" text-anchor=\"middle\" x=\"1196\" y=\"-848.3\">value = [0, 0, 0, 0, 4, 0, 0, 0, 0, 0, 0]</text>\n<text fill=\"#000000\" font-family=\"Times,serif\" font-size=\"14.00\" text-anchor=\"middle\" x=\"1196\" y=\"-833.3\">class = b'lime'</text>\n</g>\n<!-- 24&#45;&gt;25 -->\n<g class=\"edge\" id=\"edge25\">\n<title>24-&gt;25</title>\n<path d=\"M1353.3601,-936.8796C1327.7463,-924.2843 1299.7361,-910.5107 1274.5392,-898.1205\" fill=\"none\" stroke=\"#000000\"/>\n<polygon fill=\"#000000\" points=\"1275.9113,-894.895 1265.3931,-893.623 1272.8223,-901.1766 1275.9113,-894.895\" stroke=\"#000000\"/>\n</g>\n<!-- 26 -->\n<g class=\"node\" id=\"node27\">\n<title>26</title>\n<polygon fill=\"#e58139\" points=\"1559,-893.5 1329,-893.5 1329,-825.5 1559,-825.5 1559,-893.5\" stroke=\"#000000\"/>\n<text fill=\"#000000\" font-family=\"Times,serif\" font-size=\"14.00\" text-anchor=\"middle\" x=\"1444\" y=\"-878.3\">gini = 0.0</text>\n<text fill=\"#000000\" font-family=\"Times,serif\" font-size=\"14.00\" text-anchor=\"middle\" x=\"1444\" y=\"-863.3\">samples = 1</text>\n<text fill=\"#000000\" font-family=\"Times,serif\" font-size=\"14.00\" text-anchor=\"middle\" x=\"1444\" y=\"-848.3\">value = [1, 0, 0, 0, 0, 0, 0, 0, 0, 0, 0]</text>\n<text fill=\"#000000\" font-family=\"Times,serif\" font-size=\"14.00\" text-anchor=\"middle\" x=\"1444\" y=\"-833.3\">class = b'TELNET'</text>\n</g>\n<!-- 24&#45;&gt;26 -->\n<g class=\"edge\" id=\"edge26\">\n<title>24-&gt;26</title>\n<path d=\"M1440.0985,-936.8796C1440.6363,-926.2134 1441.2167,-914.7021 1441.7613,-903.9015\" fill=\"none\" stroke=\"#000000\"/>\n<polygon fill=\"#000000\" points=\"1445.2617,-903.9785 1442.2698,-893.8149 1438.2706,-903.626 1445.2617,-903.9785\" stroke=\"#000000\"/>\n</g>\n<!-- 29 -->\n<g class=\"node\" id=\"node30\">\n<title>29</title>\n<polygon fill=\"#4be7a6\" points=\"2096,-1020 1836,-1020 1836,-937 2096,-937 2096,-1020\" stroke=\"#000000\"/>\n<text fill=\"#000000\" font-family=\"Times,serif\" font-size=\"14.00\" text-anchor=\"middle\" x=\"1966\" y=\"-1004.8\">X[12] &lt;= 0.014</text>\n<text fill=\"#000000\" font-family=\"Times,serif\" font-size=\"14.00\" text-anchor=\"middle\" x=\"1966\" y=\"-989.8\">gini = 0.162</text>\n<text fill=\"#000000\" font-family=\"Times,serif\" font-size=\"14.00\" text-anchor=\"middle\" x=\"1966\" y=\"-974.8\">samples = 1020</text>\n<text fill=\"#000000\" font-family=\"Times,serif\" font-size=\"14.00\" text-anchor=\"middle\" x=\"1966\" y=\"-959.8\">value = [0, 0, 42, 0, 932, 1, 41, 1, 1, 1, 1]</text>\n<text fill=\"#000000\" font-family=\"Times,serif\" font-size=\"14.00\" text-anchor=\"middle\" x=\"1966\" y=\"-944.8\">class = b'lime'</text>\n</g>\n<!-- 28&#45;&gt;29 -->\n<g class=\"edge\" id=\"edge29\">\n<title>28-&gt;29</title>\n<path d=\"M1966.6502,-1055.8796C1966.5814,-1047.6838 1966.5083,-1038.9891 1966.437,-1030.5013\" fill=\"none\" stroke=\"#000000\"/>\n<polygon fill=\"#000000\" points=\"1969.9352,-1030.2683 1966.3512,-1020.2981 1962.9355,-1030.3272 1969.9352,-1030.2683\" stroke=\"#000000\"/>\n</g>\n<!-- 64 -->\n<g class=\"node\" id=\"node65\">\n<title>64</title>\n<polygon fill=\"#91e53c\" points=\"2351.5,-1020 2114.5,-1020 2114.5,-937 2351.5,-937 2351.5,-1020\" stroke=\"#000000\"/>\n<text fill=\"#000000\" font-family=\"Times,serif\" font-size=\"14.00\" text-anchor=\"middle\" x=\"2233\" y=\"-1004.8\">X[8] &lt;= 0.006</text>\n<text fill=\"#000000\" font-family=\"Times,serif\" font-size=\"14.00\" text-anchor=\"middle\" x=\"2233\" y=\"-989.8\">gini = 0.028</text>\n<text fill=\"#000000\" font-family=\"Times,serif\" font-size=\"14.00\" text-anchor=\"middle\" x=\"2233\" y=\"-974.8\">samples = 70</text>\n<text fill=\"#000000\" font-family=\"Times,serif\" font-size=\"14.00\" text-anchor=\"middle\" x=\"2233\" y=\"-959.8\">value = [0, 0, 69, 0, 1, 0, 0, 0, 0, 0, 0]</text>\n<text fill=\"#000000\" font-family=\"Times,serif\" font-size=\"14.00\" text-anchor=\"middle\" x=\"2233\" y=\"-944.8\">class = b'HTTP'</text>\n</g>\n<!-- 28&#45;&gt;64 -->\n<g class=\"edge\" id=\"edge64\">\n<title>28-&gt;64</title>\n<path d=\"M2060.0339,-1055.8796C2082.915,-1045.6433 2107.536,-1034.6286 2130.8228,-1024.2108\" fill=\"none\" stroke=\"#000000\"/>\n<polygon fill=\"#000000\" points=\"2132.3197,-1027.3755 2140.0186,-1020.0969 2129.4611,-1020.9858 2132.3197,-1027.3755\" stroke=\"#000000\"/>\n</g>\n<!-- 30 -->\n<g class=\"node\" id=\"node31\">\n<title>30</title>\n<polygon fill=\"#46e7a3\" points=\"1838,-901 1578,-901 1578,-818 1838,-818 1838,-901\" stroke=\"#000000\"/>\n<text fill=\"#000000\" font-family=\"Times,serif\" font-size=\"14.00\" text-anchor=\"middle\" x=\"1708\" y=\"-885.8\">X[8] &lt;= 0.0</text>\n<text fill=\"#000000\" font-family=\"Times,serif\" font-size=\"14.00\" text-anchor=\"middle\" x=\"1708\" y=\"-870.8\">gini = 0.116</text>\n<text fill=\"#000000\" font-family=\"Times,serif\" font-size=\"14.00\" text-anchor=\"middle\" x=\"1708\" y=\"-855.8\">samples = 990</text>\n<text fill=\"#000000\" font-family=\"Times,serif\" font-size=\"14.00\" text-anchor=\"middle\" x=\"1708\" y=\"-840.8\">value = [0, 0, 14, 0, 930, 1, 41, 1, 1, 1, 1]</text>\n<text fill=\"#000000\" font-family=\"Times,serif\" font-size=\"14.00\" text-anchor=\"middle\" x=\"1708\" y=\"-825.8\">class = b'lime'</text>\n</g>\n<!-- 29&#45;&gt;30 -->\n<g class=\"edge\" id=\"edge30\">\n<title>29-&gt;30</title>\n<path d=\"M1875.7641,-936.8796C1853.6693,-926.6886 1829.902,-915.7261 1807.4041,-905.3492\" fill=\"none\" stroke=\"#000000\"/>\n<polygon fill=\"#000000\" points=\"1808.7315,-902.1071 1798.1849,-901.0969 1805.7996,-908.4636 1808.7315,-902.1071\" stroke=\"#000000\"/>\n</g>\n<!-- 61 -->\n<g class=\"node\" id=\"node62\">\n<title>61</title>\n<polygon fill=\"#97e747\" points=\"2093.5,-901 1856.5,-901 1856.5,-818 2093.5,-818 2093.5,-901\" stroke=\"#000000\"/>\n<text fill=\"#000000\" font-family=\"Times,serif\" font-size=\"14.00\" text-anchor=\"middle\" x=\"1975\" y=\"-885.8\">X[8] &lt;= 0.006</text>\n<text fill=\"#000000\" font-family=\"Times,serif\" font-size=\"14.00\" text-anchor=\"middle\" x=\"1975\" y=\"-870.8\">gini = 0.124</text>\n<text fill=\"#000000\" font-family=\"Times,serif\" font-size=\"14.00\" text-anchor=\"middle\" x=\"1975\" y=\"-855.8\">samples = 30</text>\n<text fill=\"#000000\" font-family=\"Times,serif\" font-size=\"14.00\" text-anchor=\"middle\" x=\"1975\" y=\"-840.8\">value = [0, 0, 28, 0, 2, 0, 0, 0, 0, 0, 0]</text>\n<text fill=\"#000000\" font-family=\"Times,serif\" font-size=\"14.00\" text-anchor=\"middle\" x=\"1975\" y=\"-825.8\">class = b'HTTP'</text>\n</g>\n<!-- 29&#45;&gt;61 -->\n<g class=\"edge\" id=\"edge61\">\n<title>29-&gt;61</title>\n<path d=\"M1969.1478,-936.8796C1969.7676,-928.6838 1970.4252,-919.9891 1971.0671,-911.5013\" fill=\"none\" stroke=\"#000000\"/>\n<polygon fill=\"#000000\" points=\"1974.5746,-911.5336 1971.8388,-901.2981 1967.5945,-911.0056 1974.5746,-911.5336\" stroke=\"#000000\"/>\n</g>\n<!-- 31 -->\n<g class=\"node\" id=\"node32\">\n<title>31</title>\n<polygon fill=\"#f6fefb\" points=\"1444.5,-782 1199.5,-782 1199.5,-699 1444.5,-699 1444.5,-782\" stroke=\"#000000\"/>\n<text fill=\"#000000\" font-family=\"Times,serif\" font-size=\"14.00\" text-anchor=\"middle\" x=\"1322\" y=\"-766.8\">X[13] &lt;= 0.002</text>\n<text fill=\"#000000\" font-family=\"Times,serif\" font-size=\"14.00\" text-anchor=\"middle\" x=\"1322\" y=\"-751.8\">gini = 0.523</text>\n<text fill=\"#000000\" font-family=\"Times,serif\" font-size=\"14.00\" text-anchor=\"middle\" x=\"1322\" y=\"-736.8\">samples = 84</text>\n<text fill=\"#000000\" font-family=\"Times,serif\" font-size=\"14.00\" text-anchor=\"middle\" x=\"1322\" y=\"-721.8\">value = [0, 0, 0, 0, 42, 0, 40, 1, 1, 0, 0]</text>\n<text fill=\"#000000\" font-family=\"Times,serif\" font-size=\"14.00\" text-anchor=\"middle\" x=\"1322\" y=\"-706.8\">class = b'lime'</text>\n</g>\n<!-- 30&#45;&gt;31 -->\n<g class=\"edge\" id=\"edge31\">\n<title>30-&gt;31</title>\n<path d=\"M1577.8561,-819.3779C1538.1247,-807.1291 1494.4037,-793.6504 1454.5169,-781.3536\" fill=\"none\" stroke=\"#000000\"/>\n<polygon fill=\"#000000\" points=\"1455.3205,-777.9389 1444.7331,-778.3374 1453.2582,-784.6282 1455.3205,-777.9389\" stroke=\"#000000\"/>\n</g>\n<!-- 38 -->\n<g class=\"node\" id=\"node39\">\n<title>38</title>\n<polygon fill=\"#3de69f\" points=\"1835,-782 1583,-782 1583,-699 1835,-699 1835,-782\" stroke=\"#000000\"/>\n<text fill=\"#000000\" font-family=\"Times,serif\" font-size=\"14.00\" text-anchor=\"middle\" x=\"1709\" y=\"-766.8\">X[13] &lt;= 0.03</text>\n<text fill=\"#000000\" font-family=\"Times,serif\" font-size=\"14.00\" text-anchor=\"middle\" x=\"1709\" y=\"-751.8\">gini = 0.039</text>\n<text fill=\"#000000\" font-family=\"Times,serif\" font-size=\"14.00\" text-anchor=\"middle\" x=\"1709\" y=\"-736.8\">samples = 906</text>\n<text fill=\"#000000\" font-family=\"Times,serif\" font-size=\"14.00\" text-anchor=\"middle\" x=\"1709\" y=\"-721.8\">value = [0, 0, 14, 0, 888, 1, 1, 0, 0, 1, 1]</text>\n<text fill=\"#000000\" font-family=\"Times,serif\" font-size=\"14.00\" text-anchor=\"middle\" x=\"1709\" y=\"-706.8\">class = b'lime'</text>\n</g>\n<!-- 30&#45;&gt;38 -->\n<g class=\"edge\" id=\"edge38\">\n<title>30-&gt;38</title>\n<path d=\"M1708.3498,-817.8796C1708.4186,-809.6838 1708.4917,-800.9891 1708.563,-792.5013\" fill=\"none\" stroke=\"#000000\"/>\n<polygon fill=\"#000000\" points=\"1712.0645,-792.3272 1708.6488,-782.2981 1705.0648,-792.2683 1712.0645,-792.3272\" stroke=\"#000000\"/>\n</g>\n<!-- 32 -->\n<g class=\"node\" id=\"node33\">\n<title>32</title>\n<polygon fill=\"#39e59d\" points=\"1185.5,-655.5 948.5,-655.5 948.5,-587.5 1185.5,-587.5 1185.5,-655.5\" stroke=\"#000000\"/>\n<text fill=\"#000000\" font-family=\"Times,serif\" font-size=\"14.00\" text-anchor=\"middle\" x=\"1067\" y=\"-640.3\">gini = 0.0</text>\n<text fill=\"#000000\" font-family=\"Times,serif\" font-size=\"14.00\" text-anchor=\"middle\" x=\"1067\" y=\"-625.3\">samples = 42</text>\n<text fill=\"#000000\" font-family=\"Times,serif\" font-size=\"14.00\" text-anchor=\"middle\" x=\"1067\" y=\"-610.3\">value = [0, 0, 0, 0, 42, 0, 0, 0, 0, 0, 0]</text>\n<text fill=\"#000000\" font-family=\"Times,serif\" font-size=\"14.00\" text-anchor=\"middle\" x=\"1067\" y=\"-595.3\">class = b'lime'</text>\n</g>\n<!-- 31&#45;&gt;32 -->\n<g class=\"edge\" id=\"edge32\">\n<title>31-&gt;32</title>\n<path d=\"M1232.8134,-698.8796C1205.7052,-686.2291 1176.0498,-672.3899 1149.4091,-659.9576\" fill=\"none\" stroke=\"#000000\"/>\n<polygon fill=\"#000000\" points=\"1150.6627,-656.6803 1140.1208,-655.623 1147.7025,-663.0236 1150.6627,-656.6803\" stroke=\"#000000\"/>\n</g>\n<!-- 33 -->\n<g class=\"node\" id=\"node34\">\n<title>33</title>\n<polygon fill=\"#4376e6\" points=\"1440.5,-663 1203.5,-663 1203.5,-580 1440.5,-580 1440.5,-663\" stroke=\"#000000\"/>\n<text fill=\"#000000\" font-family=\"Times,serif\" font-size=\"14.00\" text-anchor=\"middle\" x=\"1322\" y=\"-647.8\">X[21] &lt;= 0.0</text>\n<text fill=\"#000000\" font-family=\"Times,serif\" font-size=\"14.00\" text-anchor=\"middle\" x=\"1322\" y=\"-632.8\">gini = 0.092</text>\n<text fill=\"#000000\" font-family=\"Times,serif\" font-size=\"14.00\" text-anchor=\"middle\" x=\"1322\" y=\"-617.8\">samples = 42</text>\n<text fill=\"#000000\" font-family=\"Times,serif\" font-size=\"14.00\" text-anchor=\"middle\" x=\"1322\" y=\"-602.8\">value = [0, 0, 0, 0, 0, 0, 40, 1, 1, 0, 0]</text>\n<text fill=\"#000000\" font-family=\"Times,serif\" font-size=\"14.00\" text-anchor=\"middle\" x=\"1322\" y=\"-587.8\">class = b'remoteForwarding'</text>\n</g>\n<!-- 31&#45;&gt;33 -->\n<g class=\"edge\" id=\"edge33\">\n<title>31-&gt;33</title>\n<path d=\"M1322,-698.8796C1322,-690.6838 1322,-681.9891 1322,-673.5013\" fill=\"none\" stroke=\"#000000\"/>\n<polygon fill=\"#000000\" points=\"1325.5001,-673.298 1322,-663.2981 1318.5001,-673.2981 1325.5001,-673.298\" stroke=\"#000000\"/>\n</g>\n<!-- 34 -->\n<g class=\"node\" id=\"node35\">\n<title>34</title>\n<polygon fill=\"#396fe5\" points=\"1188.5,-536.5 951.5,-536.5 951.5,-468.5 1188.5,-468.5 1188.5,-536.5\" stroke=\"#000000\"/>\n<text fill=\"#000000\" font-family=\"Times,serif\" font-size=\"14.00\" text-anchor=\"middle\" x=\"1070\" y=\"-521.3\">gini = 0.0</text>\n<text fill=\"#000000\" font-family=\"Times,serif\" font-size=\"14.00\" text-anchor=\"middle\" x=\"1070\" y=\"-506.3\">samples = 40</text>\n<text fill=\"#000000\" font-family=\"Times,serif\" font-size=\"14.00\" text-anchor=\"middle\" x=\"1070\" y=\"-491.3\">value = [0, 0, 0, 0, 0, 0, 40, 0, 0, 0, 0]</text>\n<text fill=\"#000000\" font-family=\"Times,serif\" font-size=\"14.00\" text-anchor=\"middle\" x=\"1070\" y=\"-476.3\">class = b'remoteForwarding'</text>\n</g>\n<!-- 33&#45;&gt;34 -->\n<g class=\"edge\" id=\"edge34\">\n<title>33-&gt;34</title>\n<path d=\"M1233.8626,-579.8796C1207.0734,-567.2291 1177.7668,-553.3899 1151.4396,-540.9576\" fill=\"none\" stroke=\"#000000\"/>\n<polygon fill=\"#000000\" points=\"1152.7976,-537.7283 1142.2605,-536.623 1149.8085,-544.058 1152.7976,-537.7283\" stroke=\"#000000\"/>\n</g>\n<!-- 35 -->\n<g class=\"node\" id=\"node36\">\n<title>35</title>\n<polygon fill=\"#ffffff\" points=\"1437,-544 1207,-544 1207,-461 1437,-461 1437,-544\" stroke=\"#000000\"/>\n<text fill=\"#000000\" font-family=\"Times,serif\" font-size=\"14.00\" text-anchor=\"middle\" x=\"1322\" y=\"-528.8\">X[12] &lt;= 0.0</text>\n<text fill=\"#000000\" font-family=\"Times,serif\" font-size=\"14.00\" text-anchor=\"middle\" x=\"1322\" y=\"-513.8\">gini = 0.5</text>\n<text fill=\"#000000\" font-family=\"Times,serif\" font-size=\"14.00\" text-anchor=\"middle\" x=\"1322\" y=\"-498.8\">samples = 2</text>\n<text fill=\"#000000\" font-family=\"Times,serif\" font-size=\"14.00\" text-anchor=\"middle\" x=\"1322\" y=\"-483.8\">value = [0, 0, 0, 0, 0, 0, 0, 1, 1, 0, 0]</text>\n<text fill=\"#000000\" font-family=\"Times,serif\" font-size=\"14.00\" text-anchor=\"middle\" x=\"1322\" y=\"-468.8\">class = b'scp'</text>\n</g>\n<!-- 33&#45;&gt;35 -->\n<g class=\"edge\" id=\"edge35\">\n<title>33-&gt;35</title>\n<path d=\"M1322,-579.8796C1322,-571.6838 1322,-562.9891 1322,-554.5013\" fill=\"none\" stroke=\"#000000\"/>\n<polygon fill=\"#000000\" points=\"1325.5001,-554.298 1322,-544.2981 1318.5001,-554.2981 1325.5001,-554.298\" stroke=\"#000000\"/>\n</g>\n<!-- 36 -->\n<g class=\"node\" id=\"node37\">\n<title>36</title>\n<polygon fill=\"#6139e5\" points=\"1192,-417.5 962,-417.5 962,-349.5 1192,-349.5 1192,-417.5\" stroke=\"#000000\"/>\n<text fill=\"#000000\" font-family=\"Times,serif\" font-size=\"14.00\" text-anchor=\"middle\" x=\"1077\" y=\"-402.3\">gini = 0.0</text>\n<text fill=\"#000000\" font-family=\"Times,serif\" font-size=\"14.00\" text-anchor=\"middle\" x=\"1077\" y=\"-387.3\">samples = 1</text>\n<text fill=\"#000000\" font-family=\"Times,serif\" font-size=\"14.00\" text-anchor=\"middle\" x=\"1077\" y=\"-372.3\">value = [0, 0, 0, 0, 0, 0, 0, 1, 0, 0, 0]</text>\n<text fill=\"#000000\" font-family=\"Times,serif\" font-size=\"14.00\" text-anchor=\"middle\" x=\"1077\" y=\"-357.3\">class = b'scp'</text>\n</g>\n<!-- 35&#45;&gt;36 -->\n<g class=\"edge\" id=\"edge36\">\n<title>35-&gt;36</title>\n<path d=\"M1236.3109,-460.8796C1210.3795,-448.2843 1182.0221,-434.5107 1156.5128,-422.1205\" fill=\"none\" stroke=\"#000000\"/>\n<polygon fill=\"#000000\" points=\"1157.7776,-418.8438 1147.2533,-417.623 1154.7192,-425.1404 1157.7776,-418.8438\" stroke=\"#000000\"/>\n</g>\n<!-- 37 -->\n<g class=\"node\" id=\"node38\">\n<title>37</title>\n<polygon fill=\"#bd39e5\" points=\"1440,-417.5 1210,-417.5 1210,-349.5 1440,-349.5 1440,-417.5\" stroke=\"#000000\"/>\n<text fill=\"#000000\" font-family=\"Times,serif\" font-size=\"14.00\" text-anchor=\"middle\" x=\"1325\" y=\"-402.3\">gini = 0.0</text>\n<text fill=\"#000000\" font-family=\"Times,serif\" font-size=\"14.00\" text-anchor=\"middle\" x=\"1325\" y=\"-387.3\">samples = 1</text>\n<text fill=\"#000000\" font-family=\"Times,serif\" font-size=\"14.00\" text-anchor=\"middle\" x=\"1325\" y=\"-372.3\">value = [0, 0, 0, 0, 0, 0, 0, 0, 1, 0, 0]</text>\n<text fill=\"#000000\" font-family=\"Times,serif\" font-size=\"14.00\" text-anchor=\"middle\" x=\"1325\" y=\"-357.3\">class = b'sftp'</text>\n</g>\n<!-- 35&#45;&gt;37 -->\n<g class=\"edge\" id=\"edge37\">\n<title>35-&gt;37</title>\n<path d=\"M1323.0493,-460.8796C1323.3182,-450.2134 1323.6084,-438.7021 1323.8806,-427.9015\" fill=\"none\" stroke=\"#000000\"/>\n<polygon fill=\"#000000\" points=\"1327.3817,-427.9 1324.1349,-417.8149 1320.3839,-427.7235 1327.3817,-427.9\" stroke=\"#000000\"/>\n</g>\n<!-- 39 -->\n<g class=\"node\" id=\"node40\">\n<title>39</title>\n<polygon fill=\"#f8fdf2\" points=\"1831.5,-663 1586.5,-663 1586.5,-580 1831.5,-580 1831.5,-663\" stroke=\"#000000\"/>\n<text fill=\"#000000\" font-family=\"Times,serif\" font-size=\"14.00\" text-anchor=\"middle\" x=\"1709\" y=\"-647.8\">X[10] &lt;= 0.016</text>\n<text fill=\"#000000\" font-family=\"Times,serif\" font-size=\"14.00\" text-anchor=\"middle\" x=\"1709\" y=\"-632.8\">gini = 0.533</text>\n<text fill=\"#000000\" font-family=\"Times,serif\" font-size=\"14.00\" text-anchor=\"middle\" x=\"1709\" y=\"-617.8\">samples = 28</text>\n<text fill=\"#000000\" font-family=\"Times,serif\" font-size=\"14.00\" text-anchor=\"middle\" x=\"1709\" y=\"-602.8\">value = [0, 0, 14, 0, 13, 1, 0, 0, 0, 0, 0]</text>\n<text fill=\"#000000\" font-family=\"Times,serif\" font-size=\"14.00\" text-anchor=\"middle\" x=\"1709\" y=\"-587.8\">class = b'HTTP'</text>\n</g>\n<!-- 38&#45;&gt;39 -->\n<g class=\"edge\" id=\"edge39\">\n<title>38-&gt;39</title>\n<path d=\"M1709,-698.8796C1709,-690.6838 1709,-681.9891 1709,-673.5013\" fill=\"none\" stroke=\"#000000\"/>\n<polygon fill=\"#000000\" points=\"1712.5001,-673.298 1709,-663.2981 1705.5001,-673.2981 1712.5001,-673.298\" stroke=\"#000000\"/>\n</g>\n<!-- 46 -->\n<g class=\"node\" id=\"node47\">\n<title>46</title>\n<polygon fill=\"#3ae59d\" points=\"2323.5,-663 2078.5,-663 2078.5,-580 2323.5,-580 2323.5,-663\" stroke=\"#000000\"/>\n<text fill=\"#000000\" font-family=\"Times,serif\" font-size=\"14.00\" text-anchor=\"middle\" x=\"2201\" y=\"-647.8\">X[6] &lt;= 0.031</text>\n<text fill=\"#000000\" font-family=\"Times,serif\" font-size=\"14.00\" text-anchor=\"middle\" x=\"2201\" y=\"-632.8\">gini = 0.007</text>\n<text fill=\"#000000\" font-family=\"Times,serif\" font-size=\"14.00\" text-anchor=\"middle\" x=\"2201\" y=\"-617.8\">samples = 878</text>\n<text fill=\"#000000\" font-family=\"Times,serif\" font-size=\"14.00\" text-anchor=\"middle\" x=\"2201\" y=\"-602.8\">value = [0, 0, 0, 0, 875, 0, 1, 0, 0, 1, 1]</text>\n<text fill=\"#000000\" font-family=\"Times,serif\" font-size=\"14.00\" text-anchor=\"middle\" x=\"2201\" y=\"-587.8\">class = b'lime'</text>\n</g>\n<!-- 38&#45;&gt;46 -->\n<g class=\"edge\" id=\"edge46\">\n<title>38-&gt;46</title>\n<path d=\"M1835.0522,-701.9064C1838.737,-700.9098 1842.3923,-699.9386 1846,-699 1919.023,-680.001 2001.3061,-661.8374 2068.2552,-647.876\" fill=\"none\" stroke=\"#000000\"/>\n<polygon fill=\"#000000\" points=\"2069.3622,-651.2208 2078.4411,-645.7596 2067.9381,-644.3672 2069.3622,-651.2208\" stroke=\"#000000\"/>\n</g>\n<!-- 40 -->\n<g class=\"node\" id=\"node41\">\n<title>40</title>\n<polygon fill=\"#39e59d\" points=\"1692.5,-536.5 1455.5,-536.5 1455.5,-468.5 1692.5,-468.5 1692.5,-536.5\" stroke=\"#000000\"/>\n<text fill=\"#000000\" font-family=\"Times,serif\" font-size=\"14.00\" text-anchor=\"middle\" x=\"1574\" y=\"-521.3\">gini = 0.0</text>\n<text fill=\"#000000\" font-family=\"Times,serif\" font-size=\"14.00\" text-anchor=\"middle\" x=\"1574\" y=\"-506.3\">samples = 12</text>\n<text fill=\"#000000\" font-family=\"Times,serif\" font-size=\"14.00\" text-anchor=\"middle\" x=\"1574\" y=\"-491.3\">value = [0, 0, 0, 0, 12, 0, 0, 0, 0, 0, 0]</text>\n<text fill=\"#000000\" font-family=\"Times,serif\" font-size=\"14.00\" text-anchor=\"middle\" x=\"1574\" y=\"-476.3\">class = b'lime'</text>\n</g>\n<!-- 39&#45;&gt;40 -->\n<g class=\"edge\" id=\"edge40\">\n<title>39-&gt;40</title>\n<path d=\"M1661.7836,-579.8796C1648.4358,-568.1138 1633.9215,-555.3197 1620.6096,-543.5855\" fill=\"none\" stroke=\"#000000\"/>\n<polygon fill=\"#000000\" points=\"1622.7448,-540.8019 1612.9287,-536.8149 1618.116,-546.0531 1622.7448,-540.8019\" stroke=\"#000000\"/>\n</g>\n<!-- 41 -->\n<g class=\"node\" id=\"node42\">\n<title>41</title>\n<polygon fill=\"#9ee853\" points=\"1947.5,-544 1710.5,-544 1710.5,-461 1947.5,-461 1947.5,-544\" stroke=\"#000000\"/>\n<text fill=\"#000000\" font-family=\"Times,serif\" font-size=\"14.00\" text-anchor=\"middle\" x=\"1829\" y=\"-528.8\">X[3] &lt;= 0.037</text>\n<text fill=\"#000000\" font-family=\"Times,serif\" font-size=\"14.00\" text-anchor=\"middle\" x=\"1829\" y=\"-513.8\">gini = 0.227</text>\n<text fill=\"#000000\" font-family=\"Times,serif\" font-size=\"14.00\" text-anchor=\"middle\" x=\"1829\" y=\"-498.8\">samples = 16</text>\n<text fill=\"#000000\" font-family=\"Times,serif\" font-size=\"14.00\" text-anchor=\"middle\" x=\"1829\" y=\"-483.8\">value = [0, 0, 14, 0, 1, 1, 0, 0, 0, 0, 0]</text>\n<text fill=\"#000000\" font-family=\"Times,serif\" font-size=\"14.00\" text-anchor=\"middle\" x=\"1829\" y=\"-468.8\">class = b'HTTP'</text>\n</g>\n<!-- 39&#45;&gt;41 -->\n<g class=\"edge\" id=\"edge41\">\n<title>39-&gt;41</title>\n<path d=\"M1750.9702,-579.8796C1760.2338,-570.6931 1770.1296,-560.8798 1779.6552,-551.4336\" fill=\"none\" stroke=\"#000000\"/>\n<polygon fill=\"#000000\" points=\"1782.2146,-553.8247 1786.8507,-544.2981 1777.2856,-548.8543 1782.2146,-553.8247\" stroke=\"#000000\"/>\n</g>\n<!-- 42 -->\n<g class=\"node\" id=\"node43\">\n<title>42</title>\n<polygon fill=\"#ffffff\" points=\"1692,-425 1462,-425 1462,-342 1692,-342 1692,-425\" stroke=\"#000000\"/>\n<text fill=\"#000000\" font-family=\"Times,serif\" font-size=\"14.00\" text-anchor=\"middle\" x=\"1577\" y=\"-409.8\">X[1] &lt;= 0.012</text>\n<text fill=\"#000000\" font-family=\"Times,serif\" font-size=\"14.00\" text-anchor=\"middle\" x=\"1577\" y=\"-394.8\">gini = 0.5</text>\n<text fill=\"#000000\" font-family=\"Times,serif\" font-size=\"14.00\" text-anchor=\"middle\" x=\"1577\" y=\"-379.8\">samples = 2</text>\n<text fill=\"#000000\" font-family=\"Times,serif\" font-size=\"14.00\" text-anchor=\"middle\" x=\"1577\" y=\"-364.8\">value = [0, 0, 0, 0, 1, 1, 0, 0, 0, 0, 0]</text>\n<text fill=\"#000000\" font-family=\"Times,serif\" font-size=\"14.00\" text-anchor=\"middle\" x=\"1577\" y=\"-349.8\">class = b'lime'</text>\n</g>\n<!-- 41&#45;&gt;42 -->\n<g class=\"edge\" id=\"edge42\">\n<title>41-&gt;42</title>\n<path d=\"M1740.8626,-460.8796C1719.3776,-450.7339 1696.2733,-439.8235 1674.3854,-429.4876\" fill=\"none\" stroke=\"#000000\"/>\n<polygon fill=\"#000000\" points=\"1675.6246,-426.2022 1665.0876,-425.0969 1672.6356,-432.5319 1675.6246,-426.2022\" stroke=\"#000000\"/>\n</g>\n<!-- 45 -->\n<g class=\"node\" id=\"node46\">\n<title>45</title>\n<polygon fill=\"#8fe539\" points=\"1947.5,-417.5 1710.5,-417.5 1710.5,-349.5 1947.5,-349.5 1947.5,-417.5\" stroke=\"#000000\"/>\n<text fill=\"#000000\" font-family=\"Times,serif\" font-size=\"14.00\" text-anchor=\"middle\" x=\"1829\" y=\"-402.3\">gini = 0.0</text>\n<text fill=\"#000000\" font-family=\"Times,serif\" font-size=\"14.00\" text-anchor=\"middle\" x=\"1829\" y=\"-387.3\">samples = 14</text>\n<text fill=\"#000000\" font-family=\"Times,serif\" font-size=\"14.00\" text-anchor=\"middle\" x=\"1829\" y=\"-372.3\">value = [0, 0, 14, 0, 0, 0, 0, 0, 0, 0, 0]</text>\n<text fill=\"#000000\" font-family=\"Times,serif\" font-size=\"14.00\" text-anchor=\"middle\" x=\"1829\" y=\"-357.3\">class = b'HTTP'</text>\n</g>\n<!-- 41&#45;&gt;45 -->\n<g class=\"edge\" id=\"edge45\">\n<title>41-&gt;45</title>\n<path d=\"M1829,-460.8796C1829,-450.2134 1829,-438.7021 1829,-427.9015\" fill=\"none\" stroke=\"#000000\"/>\n<polygon fill=\"#000000\" points=\"1832.5001,-427.8149 1829,-417.8149 1825.5001,-427.815 1832.5001,-427.8149\" stroke=\"#000000\"/>\n</g>\n<!-- 43 -->\n<g class=\"node\" id=\"node44\">\n<title>43</title>\n<polygon fill=\"#39e59d\" points=\"1568,-298.5 1338,-298.5 1338,-230.5 1568,-230.5 1568,-298.5\" stroke=\"#000000\"/>\n<text fill=\"#000000\" font-family=\"Times,serif\" font-size=\"14.00\" text-anchor=\"middle\" x=\"1453\" y=\"-283.3\">gini = 0.0</text>\n<text fill=\"#000000\" font-family=\"Times,serif\" font-size=\"14.00\" text-anchor=\"middle\" x=\"1453\" y=\"-268.3\">samples = 1</text>\n<text fill=\"#000000\" font-family=\"Times,serif\" font-size=\"14.00\" text-anchor=\"middle\" x=\"1453\" y=\"-253.3\">value = [0, 0, 0, 0, 1, 0, 0, 0, 0, 0, 0]</text>\n<text fill=\"#000000\" font-family=\"Times,serif\" font-size=\"14.00\" text-anchor=\"middle\" x=\"1453\" y=\"-238.3\">class = b'lime'</text>\n</g>\n<!-- 42&#45;&gt;43 -->\n<g class=\"edge\" id=\"edge43\">\n<title>42-&gt;43</title>\n<path d=\"M1533.6308,-341.8796C1521.4852,-330.2237 1508.2881,-317.5587 1496.1549,-305.9148\" fill=\"none\" stroke=\"#000000\"/>\n<polygon fill=\"#000000\" points=\"1498.3953,-303.2138 1488.7567,-298.8149 1493.5484,-308.2643 1498.3953,-303.2138\" stroke=\"#000000\"/>\n</g>\n<!-- 44 -->\n<g class=\"node\" id=\"node45\">\n<title>44</title>\n<polygon fill=\"#39cee5\" points=\"1816,-298.5 1586,-298.5 1586,-230.5 1816,-230.5 1816,-298.5\" stroke=\"#000000\"/>\n<text fill=\"#000000\" font-family=\"Times,serif\" font-size=\"14.00\" text-anchor=\"middle\" x=\"1701\" y=\"-283.3\">gini = 0.0</text>\n<text fill=\"#000000\" font-family=\"Times,serif\" font-size=\"14.00\" text-anchor=\"middle\" x=\"1701\" y=\"-268.3\">samples = 1</text>\n<text fill=\"#000000\" font-family=\"Times,serif\" font-size=\"14.00\" text-anchor=\"middle\" x=\"1701\" y=\"-253.3\">value = [0, 0, 0, 0, 0, 1, 0, 0, 0, 0, 0]</text>\n<text fill=\"#000000\" font-family=\"Times,serif\" font-size=\"14.00\" text-anchor=\"middle\" x=\"1701\" y=\"-238.3\">class = b'localForwarding'</text>\n</g>\n<!-- 42&#45;&gt;44 -->\n<g class=\"edge\" id=\"edge44\">\n<title>42-&gt;44</title>\n<path d=\"M1620.3692,-341.8796C1632.5148,-330.2237 1645.7119,-317.5587 1657.8451,-305.9148\" fill=\"none\" stroke=\"#000000\"/>\n<polygon fill=\"#000000\" points=\"1660.4516,-308.2643 1665.2433,-298.8149 1655.6047,-303.2138 1660.4516,-308.2643\" stroke=\"#000000\"/>\n</g>\n<!-- 47 -->\n<g class=\"node\" id=\"node48\">\n<title>47</title>\n<polygon fill=\"#9cf2ce\" points=\"2316,-544 2086,-544 2086,-461 2316,-461 2316,-544\" stroke=\"#000000\"/>\n<text fill=\"#000000\" font-family=\"Times,serif\" font-size=\"14.00\" text-anchor=\"middle\" x=\"2201\" y=\"-528.8\">X[10] &lt;= 0.064</text>\n<text fill=\"#000000\" font-family=\"Times,serif\" font-size=\"14.00\" text-anchor=\"middle\" x=\"2201\" y=\"-513.8\">gini = 0.444</text>\n<text fill=\"#000000\" font-family=\"Times,serif\" font-size=\"14.00\" text-anchor=\"middle\" x=\"2201\" y=\"-498.8\">samples = 3</text>\n<text fill=\"#000000\" font-family=\"Times,serif\" font-size=\"14.00\" text-anchor=\"middle\" x=\"2201\" y=\"-483.8\">value = [0, 0, 0, 0, 2, 0, 1, 0, 0, 0, 0]</text>\n<text fill=\"#000000\" font-family=\"Times,serif\" font-size=\"14.00\" text-anchor=\"middle\" x=\"2201\" y=\"-468.8\">class = b'lime'</text>\n</g>\n<!-- 46&#45;&gt;47 -->\n<g class=\"edge\" id=\"edge47\">\n<title>46-&gt;47</title>\n<path d=\"M2201,-579.8796C2201,-571.6838 2201,-562.9891 2201,-554.5013\" fill=\"none\" stroke=\"#000000\"/>\n<polygon fill=\"#000000\" points=\"2204.5001,-554.298 2201,-544.2981 2197.5001,-554.2981 2204.5001,-554.298\" stroke=\"#000000\"/>\n</g>\n<!-- 50 -->\n<g class=\"node\" id=\"node51\">\n<title>50</title>\n<polygon fill=\"#39e59d\" points=\"2699.5,-544 2454.5,-544 2454.5,-461 2699.5,-461 2699.5,-544\" stroke=\"#000000\"/>\n<text fill=\"#000000\" font-family=\"Times,serif\" font-size=\"14.00\" text-anchor=\"middle\" x=\"2577\" y=\"-528.8\">X[13] &lt;= 0.037</text>\n<text fill=\"#000000\" font-family=\"Times,serif\" font-size=\"14.00\" text-anchor=\"middle\" x=\"2577\" y=\"-513.8\">gini = 0.005</text>\n<text fill=\"#000000\" font-family=\"Times,serif\" font-size=\"14.00\" text-anchor=\"middle\" x=\"2577\" y=\"-498.8\">samples = 875</text>\n<text fill=\"#000000\" font-family=\"Times,serif\" font-size=\"14.00\" text-anchor=\"middle\" x=\"2577\" y=\"-483.8\">value = [0, 0, 0, 0, 873, 0, 0, 0, 0, 1, 1]</text>\n<text fill=\"#000000\" font-family=\"Times,serif\" font-size=\"14.00\" text-anchor=\"middle\" x=\"2577\" y=\"-468.8\">class = b'lime'</text>\n</g>\n<!-- 46&#45;&gt;50 -->\n<g class=\"edge\" id=\"edge50\">\n<title>46-&gt;50</title>\n<path d=\"M2323.5962,-582.6996C2362.2196,-570.4757 2405.0504,-556.9202 2444.3408,-544.4852\" fill=\"none\" stroke=\"#000000\"/>\n<polygon fill=\"#000000\" points=\"2445.7711,-547.7037 2454.2489,-541.3494 2443.6589,-541.03 2445.7711,-547.7037\" stroke=\"#000000\"/>\n</g>\n<!-- 48 -->\n<g class=\"node\" id=\"node49\">\n<title>48</title>\n<polygon fill=\"#39e59d\" points=\"2196,-417.5 1966,-417.5 1966,-349.5 2196,-349.5 2196,-417.5\" stroke=\"#000000\"/>\n<text fill=\"#000000\" font-family=\"Times,serif\" font-size=\"14.00\" text-anchor=\"middle\" x=\"2081\" y=\"-402.3\">gini = 0.0</text>\n<text fill=\"#000000\" font-family=\"Times,serif\" font-size=\"14.00\" text-anchor=\"middle\" x=\"2081\" y=\"-387.3\">samples = 2</text>\n<text fill=\"#000000\" font-family=\"Times,serif\" font-size=\"14.00\" text-anchor=\"middle\" x=\"2081\" y=\"-372.3\">value = [0, 0, 0, 0, 2, 0, 0, 0, 0, 0, 0]</text>\n<text fill=\"#000000\" font-family=\"Times,serif\" font-size=\"14.00\" text-anchor=\"middle\" x=\"2081\" y=\"-357.3\">class = b'lime'</text>\n</g>\n<!-- 47&#45;&gt;48 -->\n<g class=\"edge\" id=\"edge48\">\n<title>47-&gt;48</title>\n<path d=\"M2159.0298,-460.8796C2147.276,-449.2237 2134.5046,-436.5587 2122.7628,-424.9148\" fill=\"none\" stroke=\"#000000\"/>\n<polygon fill=\"#000000\" points=\"2125.1684,-422.3712 2115.6033,-417.8149 2120.2394,-427.3416 2125.1684,-422.3712\" stroke=\"#000000\"/>\n</g>\n<!-- 49 -->\n<g class=\"node\" id=\"node50\">\n<title>49</title>\n<polygon fill=\"#396fe5\" points=\"2444,-417.5 2214,-417.5 2214,-349.5 2444,-349.5 2444,-417.5\" stroke=\"#000000\"/>\n<text fill=\"#000000\" font-family=\"Times,serif\" font-size=\"14.00\" text-anchor=\"middle\" x=\"2329\" y=\"-402.3\">gini = 0.0</text>\n<text fill=\"#000000\" font-family=\"Times,serif\" font-size=\"14.00\" text-anchor=\"middle\" x=\"2329\" y=\"-387.3\">samples = 1</text>\n<text fill=\"#000000\" font-family=\"Times,serif\" font-size=\"14.00\" text-anchor=\"middle\" x=\"2329\" y=\"-372.3\">value = [0, 0, 0, 0, 0, 0, 1, 0, 0, 0, 0]</text>\n<text fill=\"#000000\" font-family=\"Times,serif\" font-size=\"14.00\" text-anchor=\"middle\" x=\"2329\" y=\"-357.3\">class = b'remoteForwarding'</text>\n</g>\n<!-- 47&#45;&gt;49 -->\n<g class=\"edge\" id=\"edge49\">\n<title>47-&gt;49</title>\n<path d=\"M2245.7682,-460.8796C2258.3056,-449.2237 2271.9284,-436.5587 2284.453,-424.9148\" fill=\"none\" stroke=\"#000000\"/>\n<polygon fill=\"#000000\" points=\"2287.1491,-427.1872 2292.0898,-417.8149 2282.3828,-422.0605 2287.1491,-427.1872\" stroke=\"#000000\"/>\n</g>\n<!-- 51 -->\n<g class=\"node\" id=\"node52\">\n<title>51</title>\n<polygon fill=\"#6aecb6\" points=\"2692,-425 2462,-425 2462,-342 2692,-342 2692,-425\" stroke=\"#000000\"/>\n<text fill=\"#000000\" font-family=\"Times,serif\" font-size=\"14.00\" text-anchor=\"middle\" x=\"2577\" y=\"-409.8\">X[6] &lt;= 0.443</text>\n<text fill=\"#000000\" font-family=\"Times,serif\" font-size=\"14.00\" text-anchor=\"middle\" x=\"2577\" y=\"-394.8\">gini = 0.32</text>\n<text fill=\"#000000\" font-family=\"Times,serif\" font-size=\"14.00\" text-anchor=\"middle\" x=\"2577\" y=\"-379.8\">samples = 5</text>\n<text fill=\"#000000\" font-family=\"Times,serif\" font-size=\"14.00\" text-anchor=\"middle\" x=\"2577\" y=\"-364.8\">value = [0, 0, 0, 0, 4, 0, 0, 0, 0, 0, 1]</text>\n<text fill=\"#000000\" font-family=\"Times,serif\" font-size=\"14.00\" text-anchor=\"middle\" x=\"2577\" y=\"-349.8\">class = b'lime'</text>\n</g>\n<!-- 50&#45;&gt;51 -->\n<g class=\"edge\" id=\"edge51\">\n<title>50-&gt;51</title>\n<path d=\"M2577,-460.8796C2577,-452.6838 2577,-443.9891 2577,-435.5013\" fill=\"none\" stroke=\"#000000\"/>\n<polygon fill=\"#000000\" points=\"2580.5001,-435.298 2577,-425.2981 2573.5001,-435.2981 2580.5001,-435.298\" stroke=\"#000000\"/>\n</g>\n<!-- 54 -->\n<g class=\"node\" id=\"node55\">\n<title>54</title>\n<polygon fill=\"#39e59d\" points=\"2955.5,-425 2710.5,-425 2710.5,-342 2955.5,-342 2955.5,-425\" stroke=\"#000000\"/>\n<text fill=\"#000000\" font-family=\"Times,serif\" font-size=\"14.00\" text-anchor=\"middle\" x=\"2833\" y=\"-409.8\">X[0] &lt;= 0.01</text>\n<text fill=\"#000000\" font-family=\"Times,serif\" font-size=\"14.00\" text-anchor=\"middle\" x=\"2833\" y=\"-394.8\">gini = 0.002</text>\n<text fill=\"#000000\" font-family=\"Times,serif\" font-size=\"14.00\" text-anchor=\"middle\" x=\"2833\" y=\"-379.8\">samples = 870</text>\n<text fill=\"#000000\" font-family=\"Times,serif\" font-size=\"14.00\" text-anchor=\"middle\" x=\"2833\" y=\"-364.8\">value = [0, 0, 0, 0, 869, 0, 0, 0, 0, 1, 0]</text>\n<text fill=\"#000000\" font-family=\"Times,serif\" font-size=\"14.00\" text-anchor=\"middle\" x=\"2833\" y=\"-349.8\">class = b'lime'</text>\n</g>\n<!-- 50&#45;&gt;54 -->\n<g class=\"edge\" id=\"edge54\">\n<title>50-&gt;54</title>\n<path d=\"M2666.5364,-460.8796C2688.4599,-450.6886 2712.043,-439.7261 2734.3665,-429.3492\" fill=\"none\" stroke=\"#000000\"/>\n<polygon fill=\"#000000\" points=\"2735.9214,-432.4861 2743.5142,-425.0969 2732.9706,-426.1384 2735.9214,-432.4861\" stroke=\"#000000\"/>\n</g>\n<!-- 52 -->\n<g class=\"node\" id=\"node53\">\n<title>52</title>\n<polygon fill=\"#e53950\" points=\"2444,-298.5 2214,-298.5 2214,-230.5 2444,-230.5 2444,-298.5\" stroke=\"#000000\"/>\n<text fill=\"#000000\" font-family=\"Times,serif\" font-size=\"14.00\" text-anchor=\"middle\" x=\"2329\" y=\"-283.3\">gini = 0.0</text>\n<text fill=\"#000000\" font-family=\"Times,serif\" font-size=\"14.00\" text-anchor=\"middle\" x=\"2329\" y=\"-268.3\">samples = 1</text>\n<text fill=\"#000000\" font-family=\"Times,serif\" font-size=\"14.00\" text-anchor=\"middle\" x=\"2329\" y=\"-253.3\">value = [0, 0, 0, 0, 0, 0, 0, 0, 0, 0, 1]</text>\n<text fill=\"#000000\" font-family=\"Times,serif\" font-size=\"14.00\" text-anchor=\"middle\" x=\"2329\" y=\"-238.3\">class = b'shell'</text>\n</g>\n<!-- 51&#45;&gt;52 -->\n<g class=\"edge\" id=\"edge52\">\n<title>51-&gt;52</title>\n<path d=\"M2490.2616,-341.8796C2463.8976,-329.2291 2435.0562,-315.3899 2409.1469,-302.9576\" fill=\"none\" stroke=\"#000000\"/>\n<polygon fill=\"#000000\" points=\"2410.6435,-299.7937 2400.1136,-298.623 2407.6152,-306.1048 2410.6435,-299.7937\" stroke=\"#000000\"/>\n</g>\n<!-- 53 -->\n<g class=\"node\" id=\"node54\">\n<title>53</title>\n<polygon fill=\"#39e59d\" points=\"2692,-298.5 2462,-298.5 2462,-230.5 2692,-230.5 2692,-298.5\" stroke=\"#000000\"/>\n<text fill=\"#000000\" font-family=\"Times,serif\" font-size=\"14.00\" text-anchor=\"middle\" x=\"2577\" y=\"-283.3\">gini = 0.0</text>\n<text fill=\"#000000\" font-family=\"Times,serif\" font-size=\"14.00\" text-anchor=\"middle\" x=\"2577\" y=\"-268.3\">samples = 4</text>\n<text fill=\"#000000\" font-family=\"Times,serif\" font-size=\"14.00\" text-anchor=\"middle\" x=\"2577\" y=\"-253.3\">value = [0, 0, 0, 0, 4, 0, 0, 0, 0, 0, 0]</text>\n<text fill=\"#000000\" font-family=\"Times,serif\" font-size=\"14.00\" text-anchor=\"middle\" x=\"2577\" y=\"-238.3\">class = b'lime'</text>\n</g>\n<!-- 51&#45;&gt;53 -->\n<g class=\"edge\" id=\"edge53\">\n<title>51-&gt;53</title>\n<path d=\"M2577,-341.8796C2577,-331.2134 2577,-319.7021 2577,-308.9015\" fill=\"none\" stroke=\"#000000\"/>\n<polygon fill=\"#000000\" points=\"2580.5001,-308.8149 2577,-298.8149 2573.5001,-308.815 2580.5001,-308.8149\" stroke=\"#000000\"/>\n</g>\n<!-- 55 -->\n<g class=\"node\" id=\"node56\">\n<title>55</title>\n<polygon fill=\"#39e59d\" points=\"2955.5,-298.5 2710.5,-298.5 2710.5,-230.5 2955.5,-230.5 2955.5,-298.5\" stroke=\"#000000\"/>\n<text fill=\"#000000\" font-family=\"Times,serif\" font-size=\"14.00\" text-anchor=\"middle\" x=\"2833\" y=\"-283.3\">gini = 0.0</text>\n<text fill=\"#000000\" font-family=\"Times,serif\" font-size=\"14.00\" text-anchor=\"middle\" x=\"2833\" y=\"-268.3\">samples = 843</text>\n<text fill=\"#000000\" font-family=\"Times,serif\" font-size=\"14.00\" text-anchor=\"middle\" x=\"2833\" y=\"-253.3\">value = [0, 0, 0, 0, 843, 0, 0, 0, 0, 0, 0]</text>\n<text fill=\"#000000\" font-family=\"Times,serif\" font-size=\"14.00\" text-anchor=\"middle\" x=\"2833\" y=\"-238.3\">class = b'lime'</text>\n</g>\n<!-- 54&#45;&gt;55 -->\n<g class=\"edge\" id=\"edge55\">\n<title>54-&gt;55</title>\n<path d=\"M2833,-341.8796C2833,-331.2134 2833,-319.7021 2833,-308.9015\" fill=\"none\" stroke=\"#000000\"/>\n<polygon fill=\"#000000\" points=\"2836.5001,-308.8149 2833,-298.8149 2829.5001,-308.815 2836.5001,-308.8149\" stroke=\"#000000\"/>\n</g>\n<!-- 56 -->\n<g class=\"node\" id=\"node57\">\n<title>56</title>\n<polygon fill=\"#41e6a1\" points=\"3210.5,-306 2973.5,-306 2973.5,-223 3210.5,-223 3210.5,-306\" stroke=\"#000000\"/>\n<text fill=\"#000000\" font-family=\"Times,serif\" font-size=\"14.00\" text-anchor=\"middle\" x=\"3092\" y=\"-290.8\">X[9] &lt;= 0.043</text>\n<text fill=\"#000000\" font-family=\"Times,serif\" font-size=\"14.00\" text-anchor=\"middle\" x=\"3092\" y=\"-275.8\">gini = 0.071</text>\n<text fill=\"#000000\" font-family=\"Times,serif\" font-size=\"14.00\" text-anchor=\"middle\" x=\"3092\" y=\"-260.8\">samples = 27</text>\n<text fill=\"#000000\" font-family=\"Times,serif\" font-size=\"14.00\" text-anchor=\"middle\" x=\"3092\" y=\"-245.8\">value = [0, 0, 0, 0, 26, 0, 0, 0, 0, 1, 0]</text>\n<text fill=\"#000000\" font-family=\"Times,serif\" font-size=\"14.00\" text-anchor=\"middle\" x=\"3092\" y=\"-230.8\">class = b'lime'</text>\n</g>\n<!-- 54&#45;&gt;56 -->\n<g class=\"edge\" id=\"edge56\">\n<title>54-&gt;56</title>\n<path d=\"M2923.5856,-341.8796C2945.7661,-331.6886 2969.6256,-320.7261 2992.2106,-310.3492\" fill=\"none\" stroke=\"#000000\"/>\n<polygon fill=\"#000000\" points=\"2993.84,-313.4524 3001.4655,-306.0969 2990.9175,-307.0916 2993.84,-313.4524\" stroke=\"#000000\"/>\n</g>\n<!-- 57 -->\n<g class=\"node\" id=\"node58\">\n<title>57</title>\n<polygon fill=\"#ffffff\" points=\"3081,-187 2851,-187 2851,-104 3081,-104 3081,-187\" stroke=\"#000000\"/>\n<text fill=\"#000000\" font-family=\"Times,serif\" font-size=\"14.00\" text-anchor=\"middle\" x=\"2966\" y=\"-171.8\">X[10] &lt;= 0.043</text>\n<text fill=\"#000000\" font-family=\"Times,serif\" font-size=\"14.00\" text-anchor=\"middle\" x=\"2966\" y=\"-156.8\">gini = 0.5</text>\n<text fill=\"#000000\" font-family=\"Times,serif\" font-size=\"14.00\" text-anchor=\"middle\" x=\"2966\" y=\"-141.8\">samples = 2</text>\n<text fill=\"#000000\" font-family=\"Times,serif\" font-size=\"14.00\" text-anchor=\"middle\" x=\"2966\" y=\"-126.8\">value = [0, 0, 0, 0, 1, 0, 0, 0, 0, 1, 0]</text>\n<text fill=\"#000000\" font-family=\"Times,serif\" font-size=\"14.00\" text-anchor=\"middle\" x=\"2966\" y=\"-111.8\">class = b'lime'</text>\n</g>\n<!-- 56&#45;&gt;57 -->\n<g class=\"edge\" id=\"edge57\">\n<title>56-&gt;57</title>\n<path d=\"M3047.9313,-222.8796C3038.2045,-213.6931 3027.8139,-203.8798 3017.8121,-194.4336\" fill=\"none\" stroke=\"#000000\"/>\n<polygon fill=\"#000000\" points=\"3019.9301,-191.6198 3010.2568,-187.2981 3015.1237,-196.7089 3019.9301,-191.6198\" stroke=\"#000000\"/>\n</g>\n<!-- 60 -->\n<g class=\"node\" id=\"node61\">\n<title>60</title>\n<polygon fill=\"#39e59d\" points=\"3336.5,-179.5 3099.5,-179.5 3099.5,-111.5 3336.5,-111.5 3336.5,-179.5\" stroke=\"#000000\"/>\n<text fill=\"#000000\" font-family=\"Times,serif\" font-size=\"14.00\" text-anchor=\"middle\" x=\"3218\" y=\"-164.3\">gini = 0.0</text>\n<text fill=\"#000000\" font-family=\"Times,serif\" font-size=\"14.00\" text-anchor=\"middle\" x=\"3218\" y=\"-149.3\">samples = 25</text>\n<text fill=\"#000000\" font-family=\"Times,serif\" font-size=\"14.00\" text-anchor=\"middle\" x=\"3218\" y=\"-134.3\">value = [0, 0, 0, 0, 25, 0, 0, 0, 0, 0, 0]</text>\n<text fill=\"#000000\" font-family=\"Times,serif\" font-size=\"14.00\" text-anchor=\"middle\" x=\"3218\" y=\"-119.3\">class = b'lime'</text>\n</g>\n<!-- 56&#45;&gt;60 -->\n<g class=\"edge\" id=\"edge60\">\n<title>56-&gt;60</title>\n<path d=\"M3136.0687,-222.8796C3148.4102,-211.2237 3161.8202,-198.5587 3174.149,-186.9148\" fill=\"none\" stroke=\"#000000\"/>\n<polygon fill=\"#000000\" points=\"3176.7996,-189.2258 3181.6665,-179.8149 3171.9932,-184.1366 3176.7996,-189.2258\" stroke=\"#000000\"/>\n</g>\n<!-- 58 -->\n<g class=\"node\" id=\"node59\">\n<title>58</title>\n<polygon fill=\"#39e59d\" points=\"2957,-68 2727,-68 2727,0 2957,0 2957,-68\" stroke=\"#000000\"/>\n<text fill=\"#000000\" font-family=\"Times,serif\" font-size=\"14.00\" text-anchor=\"middle\" x=\"2842\" y=\"-52.8\">gini = 0.0</text>\n<text fill=\"#000000\" font-family=\"Times,serif\" font-size=\"14.00\" text-anchor=\"middle\" x=\"2842\" y=\"-37.8\">samples = 1</text>\n<text fill=\"#000000\" font-family=\"Times,serif\" font-size=\"14.00\" text-anchor=\"middle\" x=\"2842\" y=\"-22.8\">value = [0, 0, 0, 0, 1, 0, 0, 0, 0, 0, 0]</text>\n<text fill=\"#000000\" font-family=\"Times,serif\" font-size=\"14.00\" text-anchor=\"middle\" x=\"2842\" y=\"-7.8\">class = b'lime'</text>\n</g>\n<!-- 57&#45;&gt;58 -->\n<g class=\"edge\" id=\"edge58\">\n<title>57-&gt;58</title>\n<path d=\"M2919.827,-103.9815C2909.2993,-94.5151 2898.1192,-84.462 2887.6151,-75.0168\" fill=\"none\" stroke=\"#000000\"/>\n<polygon fill=\"#000000\" points=\"2889.8811,-72.3475 2880.1049,-68.2637 2885.2006,-77.5526 2889.8811,-72.3475\" stroke=\"#000000\"/>\n</g>\n<!-- 59 -->\n<g class=\"node\" id=\"node60\">\n<title>59</title>\n<polygon fill=\"#e539ae\" points=\"3205,-68 2975,-68 2975,0 3205,0 3205,-68\" stroke=\"#000000\"/>\n<text fill=\"#000000\" font-family=\"Times,serif\" font-size=\"14.00\" text-anchor=\"middle\" x=\"3090\" y=\"-52.8\">gini = 0.0</text>\n<text fill=\"#000000\" font-family=\"Times,serif\" font-size=\"14.00\" text-anchor=\"middle\" x=\"3090\" y=\"-37.8\">samples = 1</text>\n<text fill=\"#000000\" font-family=\"Times,serif\" font-size=\"14.00\" text-anchor=\"middle\" x=\"3090\" y=\"-22.8\">value = [0, 0, 0, 0, 0, 0, 0, 0, 0, 1, 0]</text>\n<text fill=\"#000000\" font-family=\"Times,serif\" font-size=\"14.00\" text-anchor=\"middle\" x=\"3090\" y=\"-7.8\">class = b'x11'</text>\n</g>\n<!-- 57&#45;&gt;59 -->\n<g class=\"edge\" id=\"edge59\">\n<title>57-&gt;59</title>\n<path d=\"M3012.173,-103.9815C3022.7007,-94.5151 3033.8808,-84.462 3044.3849,-75.0168\" fill=\"none\" stroke=\"#000000\"/>\n<polygon fill=\"#000000\" points=\"3046.7994,-77.5526 3051.8951,-68.2637 3042.1189,-72.3475 3046.7994,-77.5526\" stroke=\"#000000\"/>\n</g>\n<!-- 62 -->\n<g class=\"node\" id=\"node63\">\n<title>62</title>\n<polygon fill=\"#8fe539\" points=\"2092.5,-774.5 1855.5,-774.5 1855.5,-706.5 2092.5,-706.5 2092.5,-774.5\" stroke=\"#000000\"/>\n<text fill=\"#000000\" font-family=\"Times,serif\" font-size=\"14.00\" text-anchor=\"middle\" x=\"1974\" y=\"-759.3\">gini = 0.0</text>\n<text fill=\"#000000\" font-family=\"Times,serif\" font-size=\"14.00\" text-anchor=\"middle\" x=\"1974\" y=\"-744.3\">samples = 28</text>\n<text fill=\"#000000\" font-family=\"Times,serif\" font-size=\"14.00\" text-anchor=\"middle\" x=\"1974\" y=\"-729.3\">value = [0, 0, 28, 0, 0, 0, 0, 0, 0, 0, 0]</text>\n<text fill=\"#000000\" font-family=\"Times,serif\" font-size=\"14.00\" text-anchor=\"middle\" x=\"1974\" y=\"-714.3\">class = b'HTTP'</text>\n</g>\n<!-- 61&#45;&gt;62 -->\n<g class=\"edge\" id=\"edge62\">\n<title>61-&gt;62</title>\n<path d=\"M1974.6502,-817.8796C1974.5606,-807.2134 1974.4639,-795.7021 1974.3731,-784.9015\" fill=\"none\" stroke=\"#000000\"/>\n<polygon fill=\"#000000\" points=\"1977.8724,-784.7851 1974.2884,-774.8149 1970.8726,-784.844 1977.8724,-784.7851\" stroke=\"#000000\"/>\n</g>\n<!-- 63 -->\n<g class=\"node\" id=\"node64\">\n<title>63</title>\n<polygon fill=\"#39e59d\" points=\"2341,-774.5 2111,-774.5 2111,-706.5 2341,-706.5 2341,-774.5\" stroke=\"#000000\"/>\n<text fill=\"#000000\" font-family=\"Times,serif\" font-size=\"14.00\" text-anchor=\"middle\" x=\"2226\" y=\"-759.3\">gini = 0.0</text>\n<text fill=\"#000000\" font-family=\"Times,serif\" font-size=\"14.00\" text-anchor=\"middle\" x=\"2226\" y=\"-744.3\">samples = 2</text>\n<text fill=\"#000000\" font-family=\"Times,serif\" font-size=\"14.00\" text-anchor=\"middle\" x=\"2226\" y=\"-729.3\">value = [0, 0, 0, 0, 2, 0, 0, 0, 0, 0, 0]</text>\n<text fill=\"#000000\" font-family=\"Times,serif\" font-size=\"14.00\" text-anchor=\"middle\" x=\"2226\" y=\"-714.3\">class = b'lime'</text>\n</g>\n<!-- 61&#45;&gt;63 -->\n<g class=\"edge\" id=\"edge63\">\n<title>61-&gt;63</title>\n<path d=\"M2062.7876,-817.8796C2089.4705,-805.2291 2118.6608,-791.3899 2144.8836,-778.9576\" fill=\"none\" stroke=\"#000000\"/>\n<polygon fill=\"#000000\" points=\"2146.4897,-782.0696 2154.0262,-774.623 2143.4909,-775.7445 2146.4897,-782.0696\" stroke=\"#000000\"/>\n</g>\n<!-- 65 -->\n<g class=\"node\" id=\"node66\">\n<title>65</title>\n<polygon fill=\"#8fe539\" points=\"2351.5,-893.5 2114.5,-893.5 2114.5,-825.5 2351.5,-825.5 2351.5,-893.5\" stroke=\"#000000\"/>\n<text fill=\"#000000\" font-family=\"Times,serif\" font-size=\"14.00\" text-anchor=\"middle\" x=\"2233\" y=\"-878.3\">gini = 0.0</text>\n<text fill=\"#000000\" font-family=\"Times,serif\" font-size=\"14.00\" text-anchor=\"middle\" x=\"2233\" y=\"-863.3\">samples = 69</text>\n<text fill=\"#000000\" font-family=\"Times,serif\" font-size=\"14.00\" text-anchor=\"middle\" x=\"2233\" y=\"-848.3\">value = [0, 0, 69, 0, 0, 0, 0, 0, 0, 0, 0]</text>\n<text fill=\"#000000\" font-family=\"Times,serif\" font-size=\"14.00\" text-anchor=\"middle\" x=\"2233\" y=\"-833.3\">class = b'HTTP'</text>\n</g>\n<!-- 64&#45;&gt;65 -->\n<g class=\"edge\" id=\"edge65\">\n<title>64-&gt;65</title>\n<path d=\"M2233,-936.8796C2233,-926.2134 2233,-914.7021 2233,-903.9015\" fill=\"none\" stroke=\"#000000\"/>\n<polygon fill=\"#000000\" points=\"2236.5001,-903.8149 2233,-893.8149 2229.5001,-903.815 2236.5001,-903.8149\" stroke=\"#000000\"/>\n</g>\n<!-- 66 -->\n<g class=\"node\" id=\"node67\">\n<title>66</title>\n<polygon fill=\"#39e59d\" points=\"2600,-893.5 2370,-893.5 2370,-825.5 2600,-825.5 2600,-893.5\" stroke=\"#000000\"/>\n<text fill=\"#000000\" font-family=\"Times,serif\" font-size=\"14.00\" text-anchor=\"middle\" x=\"2485\" y=\"-878.3\">gini = 0.0</text>\n<text fill=\"#000000\" font-family=\"Times,serif\" font-size=\"14.00\" text-anchor=\"middle\" x=\"2485\" y=\"-863.3\">samples = 1</text>\n<text fill=\"#000000\" font-family=\"Times,serif\" font-size=\"14.00\" text-anchor=\"middle\" x=\"2485\" y=\"-848.3\">value = [0, 0, 0, 0, 1, 0, 0, 0, 0, 0, 0]</text>\n<text fill=\"#000000\" font-family=\"Times,serif\" font-size=\"14.00\" text-anchor=\"middle\" x=\"2485\" y=\"-833.3\">class = b'lime'</text>\n</g>\n<!-- 64&#45;&gt;66 -->\n<g class=\"edge\" id=\"edge66\">\n<title>64-&gt;66</title>\n<path d=\"M2321.1374,-936.8796C2347.9266,-924.2291 2377.2332,-910.3899 2403.5604,-897.9576\" fill=\"none\" stroke=\"#000000\"/>\n<polygon fill=\"#000000\" points=\"2405.1915,-901.058 2412.7395,-893.623 2402.2024,-894.7283 2405.1915,-901.058\" stroke=\"#000000\"/>\n</g>\n<!-- 71 -->\n<g class=\"node\" id=\"node72\">\n<title>71</title>\n<polygon fill=\"#39cee5\" points=\"2394.5,-1607.5 2157.5,-1607.5 2157.5,-1539.5 2394.5,-1539.5 2394.5,-1607.5\" stroke=\"#000000\"/>\n<text fill=\"#000000\" font-family=\"Times,serif\" font-size=\"14.00\" text-anchor=\"middle\" x=\"2276\" y=\"-1592.3\">gini = 0.0</text>\n<text fill=\"#000000\" font-family=\"Times,serif\" font-size=\"14.00\" text-anchor=\"middle\" x=\"2276\" y=\"-1577.3\">samples = 70</text>\n<text fill=\"#000000\" font-family=\"Times,serif\" font-size=\"14.00\" text-anchor=\"middle\" x=\"2276\" y=\"-1562.3\">value = [0, 0, 0, 0, 0, 70, 0, 0, 0, 0, 0]</text>\n<text fill=\"#000000\" font-family=\"Times,serif\" font-size=\"14.00\" text-anchor=\"middle\" x=\"2276\" y=\"-1547.3\">class = b'localForwarding'</text>\n</g>\n<!-- 70&#45;&gt;71 -->\n<g class=\"edge\" id=\"edge71\">\n<title>70-&gt;71</title>\n<path d=\"M2281.8522,-1650.8796C2281.0455,-1640.2134 2280.1749,-1628.7021 2279.3581,-1617.9015\" fill=\"none\" stroke=\"#000000\"/>\n<polygon fill=\"#000000\" points=\"2282.8395,-1617.5225 2278.5952,-1607.8149 2275.8595,-1618.0504 2282.8395,-1617.5225\" stroke=\"#000000\"/>\n</g>\n<!-- 72 -->\n<g class=\"node\" id=\"node73\">\n<title>72</title>\n<polygon fill=\"#396fe5\" points=\"2665,-1607.5 2413,-1607.5 2413,-1539.5 2665,-1539.5 2665,-1607.5\" stroke=\"#000000\"/>\n<text fill=\"#000000\" font-family=\"Times,serif\" font-size=\"14.00\" text-anchor=\"middle\" x=\"2539\" y=\"-1592.3\">gini = 0.0</text>\n<text fill=\"#000000\" font-family=\"Times,serif\" font-size=\"14.00\" text-anchor=\"middle\" x=\"2539\" y=\"-1577.3\">samples = 1903</text>\n<text fill=\"#000000\" font-family=\"Times,serif\" font-size=\"14.00\" text-anchor=\"middle\" x=\"2539\" y=\"-1562.3\">value = [0, 0, 0, 0, 0, 0, 1903, 0, 0, 0, 0]</text>\n<text fill=\"#000000\" font-family=\"Times,serif\" font-size=\"14.00\" text-anchor=\"middle\" x=\"2539\" y=\"-1547.3\">class = b'remoteForwarding'</text>\n</g>\n<!-- 70&#45;&gt;72 -->\n<g class=\"edge\" id=\"edge72\">\n<title>70-&gt;72</title>\n<path d=\"M2373.8369,-1650.8796C2400.8387,-1638.2291 2430.3779,-1624.3899 2456.9141,-1611.9576\" fill=\"none\" stroke=\"#000000\"/>\n<polygon fill=\"#000000\" points=\"2458.5954,-1615.035 2466.166,-1607.623 2455.6256,-1608.6962 2458.5954,-1615.035\" stroke=\"#000000\"/>\n</g>\n</g>\n</svg>"
          },
          "metadata": {
            "tags": []
          }
        }
      ]
    },
    {
      "cell_type": "code",
      "metadata": {
        "colab_type": "code",
        "id": "R6PkgaaKe8HF",
        "outputId": "2867c619-ae55-485f-a88e-273637c5a1ea",
        "colab": {
          "base_uri": "https://localhost:8080/",
          "height": 1000
        }
      },
      "source": [
        "# DTC Entropy\n",
        "graph = Source(tree.export_graphviz(clf_entropy.fit(X_train, y_train), out_file=None, filled = True, class_names=labels))\n",
        "display(SVG(graph.pipe(format='svg')))"
      ],
      "execution_count": 22,
      "outputs": [
        {
          "output_type": "display_data",
          "data": {
            "text/plain": [
              "<IPython.core.display.SVG object>"
            ],
            "image/svg+xml": "<svg height=\"1385pt\" viewBox=\"0.00 0.00 2620.50 1385.00\" width=\"2621pt\" xmlns=\"http://www.w3.org/2000/svg\" xmlns:xlink=\"http://www.w3.org/1999/xlink\">\n<g class=\"graph\" id=\"graph0\" transform=\"scale(1 1) rotate(0) translate(4 1381)\">\n<title>Tree</title>\n<polygon fill=\"#ffffff\" points=\"-4,4 -4,-1381 2616.5,-1381 2616.5,4 -4,4\" stroke=\"transparent\"/>\n<!-- 0 -->\n<g class=\"node\" id=\"node1\">\n<title>0</title>\n<polygon fill=\"#47e7a4\" points=\"1409,-1377 1075,-1377 1075,-1294 1409,-1294 1409,-1377\" stroke=\"#000000\"/>\n<text fill=\"#000000\" font-family=\"Times,serif\" font-size=\"14.00\" text-anchor=\"middle\" x=\"1242\" y=\"-1361.8\">X[1] &lt;= 0.171</text>\n<text fill=\"#000000\" font-family=\"Times,serif\" font-size=\"14.00\" text-anchor=\"middle\" x=\"1242\" y=\"-1346.8\">entropy = 0.451</text>\n<text fill=\"#000000\" font-family=\"Times,serif\" font-size=\"14.00\" text-anchor=\"middle\" x=\"1242\" y=\"-1331.8\">samples = 40000</text>\n<text fill=\"#000000\" font-family=\"Times,serif\" font-size=\"14.00\" text-anchor=\"middle\" x=\"1242\" y=\"-1316.8\">value = [1, 105, 114, 497, 37264, 71, 1944, 1, 1, 1, 1]</text>\n<text fill=\"#000000\" font-family=\"Times,serif\" font-size=\"14.00\" text-anchor=\"middle\" x=\"1242\" y=\"-1301.8\">class = b'lime'</text>\n</g>\n<!-- 1 -->\n<g class=\"node\" id=\"node2\">\n<title>1</title>\n<polygon fill=\"#3de69f\" points=\"1245.5,-1258 934.5,-1258 934.5,-1175 1245.5,-1175 1245.5,-1258\" stroke=\"#000000\"/>\n<text fill=\"#000000\" font-family=\"Times,serif\" font-size=\"14.00\" text-anchor=\"middle\" x=\"1090\" y=\"-1242.8\">X[0] &lt;= 0.058</text>\n<text fill=\"#000000\" font-family=\"Times,serif\" font-size=\"14.00\" text-anchor=\"middle\" x=\"1090\" y=\"-1227.8\">entropy = 0.172</text>\n<text fill=\"#000000\" font-family=\"Times,serif\" font-size=\"14.00\" text-anchor=\"middle\" x=\"1090\" y=\"-1212.8\">samples = 38027</text>\n<text fill=\"#000000\" font-family=\"Times,serif\" font-size=\"14.00\" text-anchor=\"middle\" x=\"1090\" y=\"-1197.8\">value = [1, 105, 114, 497, 37264, 1, 41, 1, 1, 1, 1]</text>\n<text fill=\"#000000\" font-family=\"Times,serif\" font-size=\"14.00\" text-anchor=\"middle\" x=\"1090\" y=\"-1182.8\">class = b'lime'</text>\n</g>\n<!-- 0&#45;&gt;1 -->\n<g class=\"edge\" id=\"edge1\">\n<title>0-&gt;1</title>\n<path d=\"M1188.8378,-1293.8796C1176.6885,-1284.368 1163.6808,-1274.1843 1151.224,-1264.432\" fill=\"none\" stroke=\"#000000\"/>\n<polygon fill=\"#000000\" points=\"1153.1638,-1261.5055 1143.1322,-1258.0969 1148.8486,-1267.0173 1153.1638,-1261.5055\" stroke=\"#000000\"/>\n<text fill=\"#000000\" font-family=\"Times,serif\" font-size=\"14.00\" text-anchor=\"middle\" x=\"1146.1542\" y=\"-1279.2136\">True</text>\n</g>\n<!-- 48 -->\n<g class=\"node\" id=\"node49\">\n<title>48</title>\n<polygon fill=\"#4074e6\" points=\"1524,-1258 1264,-1258 1264,-1175 1524,-1175 1524,-1258\" stroke=\"#000000\"/>\n<text fill=\"#000000\" font-family=\"Times,serif\" font-size=\"14.00\" text-anchor=\"middle\" x=\"1394\" y=\"-1242.8\">X[11] &lt;= 0.014</text>\n<text fill=\"#000000\" font-family=\"Times,serif\" font-size=\"14.00\" text-anchor=\"middle\" x=\"1394\" y=\"-1227.8\">entropy = 0.221</text>\n<text fill=\"#000000\" font-family=\"Times,serif\" font-size=\"14.00\" text-anchor=\"middle\" x=\"1394\" y=\"-1212.8\">samples = 1973</text>\n<text fill=\"#000000\" font-family=\"Times,serif\" font-size=\"14.00\" text-anchor=\"middle\" x=\"1394\" y=\"-1197.8\">value = [0, 0, 0, 0, 0, 70, 1903, 0, 0, 0, 0]</text>\n<text fill=\"#000000\" font-family=\"Times,serif\" font-size=\"14.00\" text-anchor=\"middle\" x=\"1394\" y=\"-1182.8\">class = b'remoteForwarding'</text>\n</g>\n<!-- 0&#45;&gt;48 -->\n<g class=\"edge\" id=\"edge48\">\n<title>0-&gt;48</title>\n<path d=\"M1295.1622,-1293.8796C1307.3115,-1284.368 1320.3192,-1274.1843 1332.776,-1264.432\" fill=\"none\" stroke=\"#000000\"/>\n<polygon fill=\"#000000\" points=\"1335.1514,-1267.0173 1340.8678,-1258.0969 1330.8362,-1261.5055 1335.1514,-1267.0173\" stroke=\"#000000\"/>\n<text fill=\"#000000\" font-family=\"Times,serif\" font-size=\"14.00\" text-anchor=\"middle\" x=\"1337.8458\" y=\"-1279.2136\">False</text>\n</g>\n<!-- 2 -->\n<g class=\"node\" id=\"node3\">\n<title>2</title>\n<polygon fill=\"#52e8a9\" points=\"952,-1139 648,-1139 648,-1056 952,-1056 952,-1139\" stroke=\"#000000\"/>\n<text fill=\"#000000\" font-family=\"Times,serif\" font-size=\"14.00\" text-anchor=\"middle\" x=\"800\" y=\"-1123.8\">X[1] &lt;= 0.003</text>\n<text fill=\"#000000\" font-family=\"Times,serif\" font-size=\"14.00\" text-anchor=\"middle\" x=\"800\" y=\"-1108.8\">entropy = 0.696</text>\n<text fill=\"#000000\" font-family=\"Times,serif\" font-size=\"14.00\" text-anchor=\"middle\" x=\"800\" y=\"-1093.8\">samples = 6539</text>\n<text fill=\"#000000\" font-family=\"Times,serif\" font-size=\"14.00\" text-anchor=\"middle\" x=\"800\" y=\"-1078.8\">value = [1, 105, 114, 497, 5776, 1, 41, 1, 1, 1, 1]</text>\n<text fill=\"#000000\" font-family=\"Times,serif\" font-size=\"14.00\" text-anchor=\"middle\" x=\"800\" y=\"-1063.8\">class = b'lime'</text>\n</g>\n<!-- 1&#45;&gt;2 -->\n<g class=\"edge\" id=\"edge2\">\n<title>1-&gt;2</title>\n<path d=\"M988.5721,-1174.8796C963.4057,-1164.5527 936.3088,-1153.4336 910.7225,-1142.9344\" fill=\"none\" stroke=\"#000000\"/>\n<polygon fill=\"#000000\" points=\"911.9508,-1139.6553 901.3707,-1139.0969 909.2933,-1146.1312 911.9508,-1139.6553\" stroke=\"#000000\"/>\n</g>\n<!-- 47 -->\n<g class=\"node\" id=\"node48\">\n<title>47</title>\n<polygon fill=\"#39e59d\" points=\"1230,-1131.5 970,-1131.5 970,-1063.5 1230,-1063.5 1230,-1131.5\" stroke=\"#000000\"/>\n<text fill=\"#000000\" font-family=\"Times,serif\" font-size=\"14.00\" text-anchor=\"middle\" x=\"1100\" y=\"-1116.3\">entropy = 0.0</text>\n<text fill=\"#000000\" font-family=\"Times,serif\" font-size=\"14.00\" text-anchor=\"middle\" x=\"1100\" y=\"-1101.3\">samples = 31488</text>\n<text fill=\"#000000\" font-family=\"Times,serif\" font-size=\"14.00\" text-anchor=\"middle\" x=\"1100\" y=\"-1086.3\">value = [0, 0, 0, 0, 31488, 0, 0, 0, 0, 0, 0]</text>\n<text fill=\"#000000\" font-family=\"Times,serif\" font-size=\"14.00\" text-anchor=\"middle\" x=\"1100\" y=\"-1071.3\">class = b'lime'</text>\n</g>\n<!-- 1&#45;&gt;47 -->\n<g class=\"edge\" id=\"edge47\">\n<title>1-&gt;47</title>\n<path d=\"M1093.4975,-1174.8796C1094.3938,-1164.2134 1095.3612,-1152.7021 1096.2688,-1141.9015\" fill=\"none\" stroke=\"#000000\"/>\n<polygon fill=\"#000000\" points=\"1099.7666,-1142.0729 1097.1164,-1131.8149 1092.7912,-1141.4867 1099.7666,-1142.0729\" stroke=\"#000000\"/>\n</g>\n<!-- 3 -->\n<g class=\"node\" id=\"node4\">\n<title>3</title>\n<polygon fill=\"#3ee6a0\" points=\"785.5,-1020 518.5,-1020 518.5,-937 785.5,-937 785.5,-1020\" stroke=\"#000000\"/>\n<text fill=\"#000000\" font-family=\"Times,serif\" font-size=\"14.00\" text-anchor=\"middle\" x=\"652\" y=\"-1004.8\">X[12] &lt;= 0.0</text>\n<text fill=\"#000000\" font-family=\"Times,serif\" font-size=\"14.00\" text-anchor=\"middle\" x=\"652\" y=\"-989.8\">entropy = 0.184</text>\n<text fill=\"#000000\" font-family=\"Times,serif\" font-size=\"14.00\" text-anchor=\"middle\" x=\"652\" y=\"-974.8\">samples = 4302</text>\n<text fill=\"#000000\" font-family=\"Times,serif\" font-size=\"14.00\" text-anchor=\"middle\" x=\"652\" y=\"-959.8\">value = [1, 105, 0, 6, 4190, 0, 0, 0, 0, 0, 0]</text>\n<text fill=\"#000000\" font-family=\"Times,serif\" font-size=\"14.00\" text-anchor=\"middle\" x=\"652\" y=\"-944.8\">class = b'lime'</text>\n</g>\n<!-- 2&#45;&gt;3 -->\n<g class=\"edge\" id=\"edge3\">\n<title>2-&gt;3</title>\n<path d=\"M748.2368,-1055.8796C736.4072,-1046.368 723.7419,-1036.1843 711.6129,-1026.432\" fill=\"none\" stroke=\"#000000\"/>\n<polygon fill=\"#000000\" points=\"713.7204,-1023.6355 703.734,-1020.0969 709.3341,-1029.0908 713.7204,-1023.6355\" stroke=\"#000000\"/>\n</g>\n<!-- 14 -->\n<g class=\"node\" id=\"node15\">\n<title>14</title>\n<polygon fill=\"#83efc2\" points=\"1092.5,-1020 803.5,-1020 803.5,-937 1092.5,-937 1092.5,-1020\" stroke=\"#000000\"/>\n<text fill=\"#000000\" font-family=\"Times,serif\" font-size=\"14.00\" text-anchor=\"middle\" x=\"948\" y=\"-1004.8\">X[2] &lt;= 0.009</text>\n<text fill=\"#000000\" font-family=\"Times,serif\" font-size=\"14.00\" text-anchor=\"middle\" x=\"948\" y=\"-989.8\">entropy = 1.181</text>\n<text fill=\"#000000\" font-family=\"Times,serif\" font-size=\"14.00\" text-anchor=\"middle\" x=\"948\" y=\"-974.8\">samples = 2237</text>\n<text fill=\"#000000\" font-family=\"Times,serif\" font-size=\"14.00\" text-anchor=\"middle\" x=\"948\" y=\"-959.8\">value = [0, 0, 114, 491, 1586, 1, 41, 1, 1, 1, 1]</text>\n<text fill=\"#000000\" font-family=\"Times,serif\" font-size=\"14.00\" text-anchor=\"middle\" x=\"948\" y=\"-944.8\">class = b'lime'</text>\n</g>\n<!-- 2&#45;&gt;14 -->\n<g class=\"edge\" id=\"edge14\">\n<title>2-&gt;14</title>\n<path d=\"M851.7632,-1055.8796C863.5928,-1046.368 876.2581,-1036.1843 888.3871,-1026.432\" fill=\"none\" stroke=\"#000000\"/>\n<polygon fill=\"#000000\" points=\"890.6659,-1029.0908 896.266,-1020.0969 886.2796,-1023.6355 890.6659,-1029.0908\" stroke=\"#000000\"/>\n</g>\n<!-- 4 -->\n<g class=\"node\" id=\"node5\">\n<title>4</title>\n<polygon fill=\"#39e59d\" points=\"514,-901 262,-901 262,-818 514,-818 514,-901\" stroke=\"#000000\"/>\n<text fill=\"#000000\" font-family=\"Times,serif\" font-size=\"14.00\" text-anchor=\"middle\" x=\"388\" y=\"-885.8\">X[16] &lt;= 0.04</text>\n<text fill=\"#000000\" font-family=\"Times,serif\" font-size=\"14.00\" text-anchor=\"middle\" x=\"388\" y=\"-870.8\">entropy = 0.016</text>\n<text fill=\"#000000\" font-family=\"Times,serif\" font-size=\"14.00\" text-anchor=\"middle\" x=\"388\" y=\"-855.8\">samples = 4143</text>\n<text fill=\"#000000\" font-family=\"Times,serif\" font-size=\"14.00\" text-anchor=\"middle\" x=\"388\" y=\"-840.8\">value = [0, 0, 0, 6, 4137, 0, 0, 0, 0, 0, 0]</text>\n<text fill=\"#000000\" font-family=\"Times,serif\" font-size=\"14.00\" text-anchor=\"middle\" x=\"388\" y=\"-825.8\">class = b'lime'</text>\n</g>\n<!-- 3&#45;&gt;4 -->\n<g class=\"edge\" id=\"edge4\">\n<title>3-&gt;4</title>\n<path d=\"M559.6656,-936.8796C536.9565,-926.6433 512.5207,-915.6286 489.4089,-905.2108\" fill=\"none\" stroke=\"#000000\"/>\n<polygon fill=\"#000000\" points=\"490.8372,-902.0155 480.2823,-901.0969 487.9606,-908.3972 490.8372,-902.0155\" stroke=\"#000000\"/>\n</g>\n<!-- 9 -->\n<g class=\"node\" id=\"node10\">\n<title>9</title>\n<polygon fill=\"#f2ee9e\" points=\"784,-901 532,-901 532,-818 784,-818 784,-901\" stroke=\"#000000\"/>\n<text fill=\"#000000\" font-family=\"Times,serif\" font-size=\"14.00\" text-anchor=\"middle\" x=\"658\" y=\"-885.8\">X[20] &lt;= 0.0</text>\n<text fill=\"#000000\" font-family=\"Times,serif\" font-size=\"14.00\" text-anchor=\"middle\" x=\"658\" y=\"-870.8\">entropy = 0.97</text>\n<text fill=\"#000000\" font-family=\"Times,serif\" font-size=\"14.00\" text-anchor=\"middle\" x=\"658\" y=\"-855.8\">samples = 159</text>\n<text fill=\"#000000\" font-family=\"Times,serif\" font-size=\"14.00\" text-anchor=\"middle\" x=\"658\" y=\"-840.8\">value = [1, 105, 0, 0, 53, 0, 0, 0, 0, 0, 0]</text>\n<text fill=\"#000000\" font-family=\"Times,serif\" font-size=\"14.00\" text-anchor=\"middle\" x=\"658\" y=\"-825.8\">class = b'FTP'</text>\n</g>\n<!-- 3&#45;&gt;9 -->\n<g class=\"edge\" id=\"edge9\">\n<title>3-&gt;9</title>\n<path d=\"M654.0985,-936.8796C654.5117,-928.6838 654.9501,-919.9891 655.3781,-911.5013\" fill=\"none\" stroke=\"#000000\"/>\n<polygon fill=\"#000000\" points=\"658.8844,-911.4617 655.8925,-901.2981 651.8933,-911.1091 658.8844,-911.4617\" stroke=\"#000000\"/>\n</g>\n<!-- 5 -->\n<g class=\"node\" id=\"node6\">\n<title>5</title>\n<polygon fill=\"#39e59d\" points=\"252,-774.5 0,-774.5 0,-706.5 252,-706.5 252,-774.5\" stroke=\"#000000\"/>\n<text fill=\"#000000\" font-family=\"Times,serif\" font-size=\"14.00\" text-anchor=\"middle\" x=\"126\" y=\"-759.3\">entropy = 0.0</text>\n<text fill=\"#000000\" font-family=\"Times,serif\" font-size=\"14.00\" text-anchor=\"middle\" x=\"126\" y=\"-744.3\">samples = 3675</text>\n<text fill=\"#000000\" font-family=\"Times,serif\" font-size=\"14.00\" text-anchor=\"middle\" x=\"126\" y=\"-729.3\">value = [0, 0, 0, 0, 3675, 0, 0, 0, 0, 0, 0]</text>\n<text fill=\"#000000\" font-family=\"Times,serif\" font-size=\"14.00\" text-anchor=\"middle\" x=\"126\" y=\"-714.3\">class = b'lime'</text>\n</g>\n<!-- 4&#45;&gt;5 -->\n<g class=\"edge\" id=\"edge5\">\n<title>4-&gt;5</title>\n<path d=\"M296.3651,-817.8796C268.3912,-805.1739 237.7771,-791.269 210.3129,-778.7948\" fill=\"none\" stroke=\"#000000\"/>\n<polygon fill=\"#000000\" points=\"211.6803,-775.5718 201.128,-774.623 208.7855,-781.9452 211.6803,-775.5718\" stroke=\"#000000\"/>\n</g>\n<!-- 6 -->\n<g class=\"node\" id=\"node7\">\n<title>6</title>\n<polygon fill=\"#3ce59e\" points=\"515.5,-782 270.5,-782 270.5,-699 515.5,-699 515.5,-782\" stroke=\"#000000\"/>\n<text fill=\"#000000\" font-family=\"Times,serif\" font-size=\"14.00\" text-anchor=\"middle\" x=\"393\" y=\"-766.8\">X[2] &lt;= 0.015</text>\n<text fill=\"#000000\" font-family=\"Times,serif\" font-size=\"14.00\" text-anchor=\"middle\" x=\"393\" y=\"-751.8\">entropy = 0.099</text>\n<text fill=\"#000000\" font-family=\"Times,serif\" font-size=\"14.00\" text-anchor=\"middle\" x=\"393\" y=\"-736.8\">samples = 468</text>\n<text fill=\"#000000\" font-family=\"Times,serif\" font-size=\"14.00\" text-anchor=\"middle\" x=\"393\" y=\"-721.8\">value = [0, 0, 0, 6, 462, 0, 0, 0, 0, 0, 0]</text>\n<text fill=\"#000000\" font-family=\"Times,serif\" font-size=\"14.00\" text-anchor=\"middle\" x=\"393\" y=\"-706.8\">class = b'lime'</text>\n</g>\n<!-- 4&#45;&gt;6 -->\n<g class=\"edge\" id=\"edge6\">\n<title>4-&gt;6</title>\n<path d=\"M389.7488,-817.8796C390.0931,-809.6838 390.4584,-800.9891 390.8151,-792.5013\" fill=\"none\" stroke=\"#000000\"/>\n<polygon fill=\"#000000\" points=\"394.3208,-792.4362 391.2438,-782.2981 387.327,-792.1423 394.3208,-792.4362\" stroke=\"#000000\"/>\n</g>\n<!-- 7 -->\n<g class=\"node\" id=\"node8\">\n<title>7</title>\n<polygon fill=\"#39e541\" points=\"253,-655.5 23,-655.5 23,-587.5 253,-587.5 253,-655.5\" stroke=\"#000000\"/>\n<text fill=\"#000000\" font-family=\"Times,serif\" font-size=\"14.00\" text-anchor=\"middle\" x=\"138\" y=\"-640.3\">entropy = 0.0</text>\n<text fill=\"#000000\" font-family=\"Times,serif\" font-size=\"14.00\" text-anchor=\"middle\" x=\"138\" y=\"-625.3\">samples = 6</text>\n<text fill=\"#000000\" font-family=\"Times,serif\" font-size=\"14.00\" text-anchor=\"middle\" x=\"138\" y=\"-610.3\">value = [0, 0, 0, 6, 0, 0, 0, 0, 0, 0, 0]</text>\n<text fill=\"#000000\" font-family=\"Times,serif\" font-size=\"14.00\" text-anchor=\"middle\" x=\"138\" y=\"-595.3\">class = b'DNS'</text>\n</g>\n<!-- 6&#45;&gt;7 -->\n<g class=\"edge\" id=\"edge7\">\n<title>6-&gt;7</title>\n<path d=\"M303.8134,-698.8796C276.7052,-686.2291 247.0498,-672.3899 220.4091,-659.9576\" fill=\"none\" stroke=\"#000000\"/>\n<polygon fill=\"#000000\" points=\"221.6627,-656.6803 211.1208,-655.623 218.7025,-663.0236 221.6627,-656.6803\" stroke=\"#000000\"/>\n</g>\n<!-- 8 -->\n<g class=\"node\" id=\"node9\">\n<title>8</title>\n<polygon fill=\"#39e59d\" points=\"516.5,-655.5 271.5,-655.5 271.5,-587.5 516.5,-587.5 516.5,-655.5\" stroke=\"#000000\"/>\n<text fill=\"#000000\" font-family=\"Times,serif\" font-size=\"14.00\" text-anchor=\"middle\" x=\"394\" y=\"-640.3\">entropy = 0.0</text>\n<text fill=\"#000000\" font-family=\"Times,serif\" font-size=\"14.00\" text-anchor=\"middle\" x=\"394\" y=\"-625.3\">samples = 462</text>\n<text fill=\"#000000\" font-family=\"Times,serif\" font-size=\"14.00\" text-anchor=\"middle\" x=\"394\" y=\"-610.3\">value = [0, 0, 0, 0, 462, 0, 0, 0, 0, 0, 0]</text>\n<text fill=\"#000000\" font-family=\"Times,serif\" font-size=\"14.00\" text-anchor=\"middle\" x=\"394\" y=\"-595.3\">class = b'lime'</text>\n</g>\n<!-- 6&#45;&gt;8 -->\n<g class=\"edge\" id=\"edge8\">\n<title>6-&gt;8</title>\n<path d=\"M393.3498,-698.8796C393.4394,-688.2134 393.5361,-676.7021 393.6269,-665.9015\" fill=\"none\" stroke=\"#000000\"/>\n<polygon fill=\"#000000\" points=\"397.1274,-665.844 393.7116,-655.8149 390.1276,-665.7851 397.1274,-665.844\" stroke=\"#000000\"/>\n</g>\n<!-- 10 -->\n<g class=\"node\" id=\"node11\">\n<title>10</title>\n<polygon fill=\"#39e59d\" points=\"773.5,-774.5 536.5,-774.5 536.5,-706.5 773.5,-706.5 773.5,-774.5\" stroke=\"#000000\"/>\n<text fill=\"#000000\" font-family=\"Times,serif\" font-size=\"14.00\" text-anchor=\"middle\" x=\"655\" y=\"-759.3\">entropy = 0.0</text>\n<text fill=\"#000000\" font-family=\"Times,serif\" font-size=\"14.00\" text-anchor=\"middle\" x=\"655\" y=\"-744.3\">samples = 53</text>\n<text fill=\"#000000\" font-family=\"Times,serif\" font-size=\"14.00\" text-anchor=\"middle\" x=\"655\" y=\"-729.3\">value = [0, 0, 0, 0, 53, 0, 0, 0, 0, 0, 0]</text>\n<text fill=\"#000000\" font-family=\"Times,serif\" font-size=\"14.00\" text-anchor=\"middle\" x=\"655\" y=\"-714.3\">class = b'lime'</text>\n</g>\n<!-- 9&#45;&gt;10 -->\n<g class=\"edge\" id=\"edge10\">\n<title>9-&gt;10</title>\n<path d=\"M656.9507,-817.8796C656.6818,-807.2134 656.3916,-795.7021 656.1194,-784.9015\" fill=\"none\" stroke=\"#000000\"/>\n<polygon fill=\"#000000\" points=\"659.6161,-784.7235 655.8651,-774.8149 652.6183,-784.9 659.6161,-784.7235\" stroke=\"#000000\"/>\n</g>\n<!-- 11 -->\n<g class=\"node\" id=\"node12\">\n<title>11</title>\n<polygon fill=\"#e5dc3b\" points=\"1036.5,-782 791.5,-782 791.5,-699 1036.5,-699 1036.5,-782\" stroke=\"#000000\"/>\n<text fill=\"#000000\" font-family=\"Times,serif\" font-size=\"14.00\" text-anchor=\"middle\" x=\"914\" y=\"-766.8\">X[3] &lt;= 0.0</text>\n<text fill=\"#000000\" font-family=\"Times,serif\" font-size=\"14.00\" text-anchor=\"middle\" x=\"914\" y=\"-751.8\">entropy = 0.077</text>\n<text fill=\"#000000\" font-family=\"Times,serif\" font-size=\"14.00\" text-anchor=\"middle\" x=\"914\" y=\"-736.8\">samples = 106</text>\n<text fill=\"#000000\" font-family=\"Times,serif\" font-size=\"14.00\" text-anchor=\"middle\" x=\"914\" y=\"-721.8\">value = [1, 105, 0, 0, 0, 0, 0, 0, 0, 0, 0]</text>\n<text fill=\"#000000\" font-family=\"Times,serif\" font-size=\"14.00\" text-anchor=\"middle\" x=\"914\" y=\"-706.8\">class = b'FTP'</text>\n</g>\n<!-- 9&#45;&gt;11 -->\n<g class=\"edge\" id=\"edge11\">\n<title>9-&gt;11</title>\n<path d=\"M747.5364,-817.8796C769.4599,-807.6886 793.043,-796.7261 815.3665,-786.3492\" fill=\"none\" stroke=\"#000000\"/>\n<polygon fill=\"#000000\" points=\"816.9214,-789.4861 824.5142,-782.0969 813.9706,-783.1384 816.9214,-789.4861\" stroke=\"#000000\"/>\n</g>\n<!-- 12 -->\n<g class=\"node\" id=\"node13\">\n<title>12</title>\n<polygon fill=\"#e58139\" points=\"799,-655.5 569,-655.5 569,-587.5 799,-587.5 799,-655.5\" stroke=\"#000000\"/>\n<text fill=\"#000000\" font-family=\"Times,serif\" font-size=\"14.00\" text-anchor=\"middle\" x=\"684\" y=\"-640.3\">entropy = 0.0</text>\n<text fill=\"#000000\" font-family=\"Times,serif\" font-size=\"14.00\" text-anchor=\"middle\" x=\"684\" y=\"-625.3\">samples = 1</text>\n<text fill=\"#000000\" font-family=\"Times,serif\" font-size=\"14.00\" text-anchor=\"middle\" x=\"684\" y=\"-610.3\">value = [1, 0, 0, 0, 0, 0, 0, 0, 0, 0, 0]</text>\n<text fill=\"#000000\" font-family=\"Times,serif\" font-size=\"14.00\" text-anchor=\"middle\" x=\"684\" y=\"-595.3\">class = b'TELNET'</text>\n</g>\n<!-- 11&#45;&gt;12 -->\n<g class=\"edge\" id=\"edge12\">\n<title>11-&gt;12</title>\n<path d=\"M833.5572,-698.8796C809.3202,-686.3396 782.8257,-672.6315 758.9599,-660.2836\" fill=\"none\" stroke=\"#000000\"/>\n<polygon fill=\"#000000\" points=\"760.4421,-657.1098 749.9521,-655.623 757.2254,-663.3269 760.4421,-657.1098\" stroke=\"#000000\"/>\n</g>\n<!-- 13 -->\n<g class=\"node\" id=\"node14\">\n<title>13</title>\n<polygon fill=\"#e5dc39\" points=\"1062.5,-655.5 817.5,-655.5 817.5,-587.5 1062.5,-587.5 1062.5,-655.5\" stroke=\"#000000\"/>\n<text fill=\"#000000\" font-family=\"Times,serif\" font-size=\"14.00\" text-anchor=\"middle\" x=\"940\" y=\"-640.3\">entropy = 0.0</text>\n<text fill=\"#000000\" font-family=\"Times,serif\" font-size=\"14.00\" text-anchor=\"middle\" x=\"940\" y=\"-625.3\">samples = 105</text>\n<text fill=\"#000000\" font-family=\"Times,serif\" font-size=\"14.00\" text-anchor=\"middle\" x=\"940\" y=\"-610.3\">value = [0, 105, 0, 0, 0, 0, 0, 0, 0, 0, 0]</text>\n<text fill=\"#000000\" font-family=\"Times,serif\" font-size=\"14.00\" text-anchor=\"middle\" x=\"940\" y=\"-595.3\">class = b'FTP'</text>\n</g>\n<!-- 11&#45;&gt;13 -->\n<g class=\"edge\" id=\"edge13\">\n<title>11-&gt;13</title>\n<path d=\"M923.0935,-698.8796C925.424,-688.2134 927.939,-676.7021 930.2988,-665.9015\" fill=\"none\" stroke=\"#000000\"/>\n<polygon fill=\"#000000\" points=\"933.7874,-666.3316 932.5026,-655.8149 926.9487,-664.8374 933.7874,-666.3316\" stroke=\"#000000\"/>\n</g>\n<!-- 15 -->\n<g class=\"node\" id=\"node16\">\n<title>15</title>\n<polygon fill=\"#39e541\" points=\"1067.5,-893.5 822.5,-893.5 822.5,-825.5 1067.5,-825.5 1067.5,-893.5\" stroke=\"#000000\"/>\n<text fill=\"#000000\" font-family=\"Times,serif\" font-size=\"14.00\" text-anchor=\"middle\" x=\"945\" y=\"-878.3\">entropy = 0.0</text>\n<text fill=\"#000000\" font-family=\"Times,serif\" font-size=\"14.00\" text-anchor=\"middle\" x=\"945\" y=\"-863.3\">samples = 491</text>\n<text fill=\"#000000\" font-family=\"Times,serif\" font-size=\"14.00\" text-anchor=\"middle\" x=\"945\" y=\"-848.3\">value = [0, 0, 0, 491, 0, 0, 0, 0, 0, 0, 0]</text>\n<text fill=\"#000000\" font-family=\"Times,serif\" font-size=\"14.00\" text-anchor=\"middle\" x=\"945\" y=\"-833.3\">class = b'DNS'</text>\n</g>\n<!-- 14&#45;&gt;15 -->\n<g class=\"edge\" id=\"edge15\">\n<title>14-&gt;15</title>\n<path d=\"M946.9507,-936.8796C946.6818,-926.2134 946.3916,-914.7021 946.1194,-903.9015\" fill=\"none\" stroke=\"#000000\"/>\n<polygon fill=\"#000000\" points=\"949.6161,-903.7235 945.8651,-893.8149 942.6183,-903.9 949.6161,-903.7235\" stroke=\"#000000\"/>\n</g>\n<!-- 16 -->\n<g class=\"node\" id=\"node17\">\n<title>16</title>\n<polygon fill=\"#4ce8a7\" points=\"1360,-901 1086,-901 1086,-818 1360,-818 1360,-901\" stroke=\"#000000\"/>\n<text fill=\"#000000\" font-family=\"Times,serif\" font-size=\"14.00\" text-anchor=\"middle\" x=\"1223\" y=\"-885.8\">X[8] &lt;= 0.0</text>\n<text fill=\"#000000\" font-family=\"Times,serif\" font-size=\"14.00\" text-anchor=\"middle\" x=\"1223\" y=\"-870.8\">entropy = 0.541</text>\n<text fill=\"#000000\" font-family=\"Times,serif\" font-size=\"14.00\" text-anchor=\"middle\" x=\"1223\" y=\"-855.8\">samples = 1746</text>\n<text fill=\"#000000\" font-family=\"Times,serif\" font-size=\"14.00\" text-anchor=\"middle\" x=\"1223\" y=\"-840.8\">value = [0, 0, 114, 0, 1586, 1, 41, 1, 1, 1, 1]</text>\n<text fill=\"#000000\" font-family=\"Times,serif\" font-size=\"14.00\" text-anchor=\"middle\" x=\"1223\" y=\"-825.8\">class = b'lime'</text>\n</g>\n<!-- 14&#45;&gt;16 -->\n<g class=\"edge\" id=\"edge16\">\n<title>14-&gt;16</title>\n<path d=\"M1044.1817,-936.8796C1067.9417,-926.598 1093.5163,-915.5311 1117.6852,-905.0726\" fill=\"none\" stroke=\"#000000\"/>\n<polygon fill=\"#000000\" points=\"1119.0851,-908.2805 1126.8727,-901.0969 1116.3051,-901.8562 1119.0851,-908.2805\" stroke=\"#000000\"/>\n</g>\n<!-- 17 -->\n<g class=\"node\" id=\"node18\">\n<title>17</title>\n<polygon fill=\"#9cf2ce\" points=\"1354,-782 1088,-782 1088,-699 1354,-699 1354,-782\" stroke=\"#000000\"/>\n<text fill=\"#000000\" font-family=\"Times,serif\" font-size=\"14.00\" text-anchor=\"middle\" x=\"1221\" y=\"-766.8\">X[12] &lt;= 0.0</text>\n<text fill=\"#000000\" font-family=\"Times,serif\" font-size=\"14.00\" text-anchor=\"middle\" x=\"1221\" y=\"-751.8\">entropy = 1.346</text>\n<text fill=\"#000000\" font-family=\"Times,serif\" font-size=\"14.00\" text-anchor=\"middle\" x=\"1221\" y=\"-736.8\">samples = 435</text>\n<text fill=\"#000000\" font-family=\"Times,serif\" font-size=\"14.00\" text-anchor=\"middle\" x=\"1221\" y=\"-721.8\">value = [0, 0, 114, 0, 275, 1, 41, 1, 1, 1, 1]</text>\n<text fill=\"#000000\" font-family=\"Times,serif\" font-size=\"14.00\" text-anchor=\"middle\" x=\"1221\" y=\"-706.8\">class = b'lime'</text>\n</g>\n<!-- 16&#45;&gt;17 -->\n<g class=\"edge\" id=\"edge17\">\n<title>16-&gt;17</title>\n<path d=\"M1222.3005,-817.8796C1222.1628,-809.6838 1222.0166,-800.9891 1221.874,-792.5013\" fill=\"none\" stroke=\"#000000\"/>\n<polygon fill=\"#000000\" points=\"1225.3701,-792.2378 1221.7025,-782.2981 1218.3711,-792.3555 1225.3701,-792.2378\" stroke=\"#000000\"/>\n</g>\n<!-- 46 -->\n<g class=\"node\" id=\"node47\">\n<title>46</title>\n<polygon fill=\"#39e59d\" points=\"1623.5,-774.5 1372.5,-774.5 1372.5,-706.5 1623.5,-706.5 1623.5,-774.5\" stroke=\"#000000\"/>\n<text fill=\"#000000\" font-family=\"Times,serif\" font-size=\"14.00\" text-anchor=\"middle\" x=\"1498\" y=\"-759.3\">entropy = 0.0</text>\n<text fill=\"#000000\" font-family=\"Times,serif\" font-size=\"14.00\" text-anchor=\"middle\" x=\"1498\" y=\"-744.3\">samples = 1311</text>\n<text fill=\"#000000\" font-family=\"Times,serif\" font-size=\"14.00\" text-anchor=\"middle\" x=\"1498\" y=\"-729.3\">value = [0, 0, 0, 0, 1311, 0, 0, 0, 0, 0, 0]</text>\n<text fill=\"#000000\" font-family=\"Times,serif\" font-size=\"14.00\" text-anchor=\"middle\" x=\"1498\" y=\"-714.3\">class = b'lime'</text>\n</g>\n<!-- 16&#45;&gt;46 -->\n<g class=\"edge\" id=\"edge46\">\n<title>16-&gt;46</title>\n<path d=\"M1319.1817,-817.8796C1348.6713,-805.1186 1380.9561,-791.1481 1409.8795,-778.6322\" fill=\"none\" stroke=\"#000000\"/>\n<polygon fill=\"#000000\" points=\"1411.3567,-781.8066 1419.1442,-774.623 1408.5766,-775.3823 1411.3567,-781.8066\" stroke=\"#000000\"/>\n</g>\n<!-- 18 -->\n<g class=\"node\" id=\"node19\">\n<title>18</title>\n<polygon fill=\"#3ee6a0\" points=\"1342.5,-663 1097.5,-663 1097.5,-580 1342.5,-580 1342.5,-663\" stroke=\"#000000\"/>\n<text fill=\"#000000\" font-family=\"Times,serif\" font-size=\"14.00\" text-anchor=\"middle\" x=\"1220\" y=\"-647.8\">X[15] &lt;= 0.043</text>\n<text fill=\"#000000\" font-family=\"Times,serif\" font-size=\"14.00\" text-anchor=\"middle\" x=\"1220\" y=\"-632.8\">entropy = 0.216</text>\n<text fill=\"#000000\" font-family=\"Times,serif\" font-size=\"14.00\" text-anchor=\"middle\" x=\"1220\" y=\"-617.8\">samples = 237</text>\n<text fill=\"#000000\" font-family=\"Times,serif\" font-size=\"14.00\" text-anchor=\"middle\" x=\"1220\" y=\"-602.8\">value = [0, 0, 3, 0, 231, 0, 1, 1, 1, 0, 0]</text>\n<text fill=\"#000000\" font-family=\"Times,serif\" font-size=\"14.00\" text-anchor=\"middle\" x=\"1220\" y=\"-587.8\">class = b'lime'</text>\n</g>\n<!-- 17&#45;&gt;18 -->\n<g class=\"edge\" id=\"edge18\">\n<title>17-&gt;18</title>\n<path d=\"M1220.6502,-698.8796C1220.5814,-690.6838 1220.5083,-681.9891 1220.437,-673.5013\" fill=\"none\" stroke=\"#000000\"/>\n<polygon fill=\"#000000\" points=\"1223.9352,-673.2683 1220.3512,-663.2981 1216.9355,-673.3272 1223.9352,-673.2683\" stroke=\"#000000\"/>\n</g>\n<!-- 29 -->\n<g class=\"node\" id=\"node30\">\n<title>29</title>\n<polygon fill=\"#cef4a9\" points=\"1619,-663 1361,-663 1361,-580 1619,-580 1619,-663\" stroke=\"#000000\"/>\n<text fill=\"#000000\" font-family=\"Times,serif\" font-size=\"14.00\" text-anchor=\"middle\" x=\"1490\" y=\"-647.8\">X[8] &lt;= 0.0</text>\n<text fill=\"#000000\" font-family=\"Times,serif\" font-size=\"14.00\" text-anchor=\"middle\" x=\"1490\" y=\"-632.8\">entropy = 1.532</text>\n<text fill=\"#000000\" font-family=\"Times,serif\" font-size=\"14.00\" text-anchor=\"middle\" x=\"1490\" y=\"-617.8\">samples = 198</text>\n<text fill=\"#000000\" font-family=\"Times,serif\" font-size=\"14.00\" text-anchor=\"middle\" x=\"1490\" y=\"-602.8\">value = [0, 0, 111, 0, 44, 1, 40, 0, 0, 1, 1]</text>\n<text fill=\"#000000\" font-family=\"Times,serif\" font-size=\"14.00\" text-anchor=\"middle\" x=\"1490\" y=\"-587.8\">class = b'HTTP'</text>\n</g>\n<!-- 17&#45;&gt;29 -->\n<g class=\"edge\" id=\"edge29\">\n<title>17-&gt;29</title>\n<path d=\"M1315.0831,-698.8796C1338.2224,-688.6433 1363.121,-677.6286 1386.6705,-667.2108\" fill=\"none\" stroke=\"#000000\"/>\n<polygon fill=\"#000000\" points=\"1388.2408,-670.3434 1395.97,-663.0969 1385.4089,-663.9418 1388.2408,-670.3434\" stroke=\"#000000\"/>\n</g>\n<!-- 19 -->\n<g class=\"node\" id=\"node20\">\n<title>19</title>\n<polygon fill=\"#daf6bd\" points=\"1082,-544 852,-544 852,-461 1082,-461 1082,-544\" stroke=\"#000000\"/>\n<text fill=\"#000000\" font-family=\"Times,serif\" font-size=\"14.00\" text-anchor=\"middle\" x=\"967\" y=\"-528.8\">X[21] &lt;= 0.0</text>\n<text fill=\"#000000\" font-family=\"Times,serif\" font-size=\"14.00\" text-anchor=\"middle\" x=\"967\" y=\"-513.8\">entropy = 2.128</text>\n<text fill=\"#000000\" font-family=\"Times,serif\" font-size=\"14.00\" text-anchor=\"middle\" x=\"967\" y=\"-498.8\">samples = 7</text>\n<text fill=\"#000000\" font-family=\"Times,serif\" font-size=\"14.00\" text-anchor=\"middle\" x=\"967\" y=\"-483.8\">value = [0, 0, 3, 0, 1, 0, 1, 1, 1, 0, 0]</text>\n<text fill=\"#000000\" font-family=\"Times,serif\" font-size=\"14.00\" text-anchor=\"middle\" x=\"967\" y=\"-468.8\">class = b'HTTP'</text>\n</g>\n<!-- 18&#45;&gt;19 -->\n<g class=\"edge\" id=\"edge19\">\n<title>18-&gt;19</title>\n<path d=\"M1131.5129,-579.8796C1109.9426,-569.7339 1086.7467,-558.8235 1064.7719,-548.4876\" fill=\"none\" stroke=\"#000000\"/>\n<polygon fill=\"#000000\" points=\"1065.9759,-545.1861 1055.4372,-544.0969 1062.9965,-551.5204 1065.9759,-545.1861\" stroke=\"#000000\"/>\n</g>\n<!-- 28 -->\n<g class=\"node\" id=\"node29\">\n<title>28</title>\n<polygon fill=\"#39e59d\" points=\"1345.5,-536.5 1100.5,-536.5 1100.5,-468.5 1345.5,-468.5 1345.5,-536.5\" stroke=\"#000000\"/>\n<text fill=\"#000000\" font-family=\"Times,serif\" font-size=\"14.00\" text-anchor=\"middle\" x=\"1223\" y=\"-521.3\">entropy = 0.0</text>\n<text fill=\"#000000\" font-family=\"Times,serif\" font-size=\"14.00\" text-anchor=\"middle\" x=\"1223\" y=\"-506.3\">samples = 230</text>\n<text fill=\"#000000\" font-family=\"Times,serif\" font-size=\"14.00\" text-anchor=\"middle\" x=\"1223\" y=\"-491.3\">value = [0, 0, 0, 0, 230, 0, 0, 0, 0, 0, 0]</text>\n<text fill=\"#000000\" font-family=\"Times,serif\" font-size=\"14.00\" text-anchor=\"middle\" x=\"1223\" y=\"-476.3\">class = b'lime'</text>\n</g>\n<!-- 18&#45;&gt;28 -->\n<g class=\"edge\" id=\"edge28\">\n<title>18-&gt;28</title>\n<path d=\"M1221.0493,-579.8796C1221.3182,-569.2134 1221.6084,-557.7021 1221.8806,-546.9015\" fill=\"none\" stroke=\"#000000\"/>\n<polygon fill=\"#000000\" points=\"1225.3817,-546.9 1222.1349,-536.8149 1218.3839,-546.7235 1225.3817,-546.9\" stroke=\"#000000\"/>\n</g>\n<!-- 20 -->\n<g class=\"node\" id=\"node21\">\n<title>20</title>\n<polygon fill=\"#8fe539\" points=\"835,-417.5 605,-417.5 605,-349.5 835,-349.5 835,-417.5\" stroke=\"#000000\"/>\n<text fill=\"#000000\" font-family=\"Times,serif\" font-size=\"14.00\" text-anchor=\"middle\" x=\"720\" y=\"-402.3\">entropy = 0.0</text>\n<text fill=\"#000000\" font-family=\"Times,serif\" font-size=\"14.00\" text-anchor=\"middle\" x=\"720\" y=\"-387.3\">samples = 3</text>\n<text fill=\"#000000\" font-family=\"Times,serif\" font-size=\"14.00\" text-anchor=\"middle\" x=\"720\" y=\"-372.3\">value = [0, 0, 3, 0, 0, 0, 0, 0, 0, 0, 0]</text>\n<text fill=\"#000000\" font-family=\"Times,serif\" font-size=\"14.00\" text-anchor=\"middle\" x=\"720\" y=\"-357.3\">class = b'HTTP'</text>\n</g>\n<!-- 19&#45;&gt;20 -->\n<g class=\"edge\" id=\"edge20\">\n<title>19-&gt;20</title>\n<path d=\"M880.6114,-460.8796C854.4683,-448.2843 825.8794,-434.5107 800.1619,-422.1205\" fill=\"none\" stroke=\"#000000\"/>\n<polygon fill=\"#000000\" points=\"801.3549,-418.8103 790.8268,-417.623 798.3166,-425.1166 801.3549,-418.8103\" stroke=\"#000000\"/>\n</g>\n<!-- 21 -->\n<g class=\"node\" id=\"node22\">\n<title>21</title>\n<polygon fill=\"#ffffff\" points=\"1083,-425 853,-425 853,-342 1083,-342 1083,-425\" stroke=\"#000000\"/>\n<text fill=\"#000000\" font-family=\"Times,serif\" font-size=\"14.00\" text-anchor=\"middle\" x=\"968\" y=\"-409.8\">X[8] &lt;= 0.0</text>\n<text fill=\"#000000\" font-family=\"Times,serif\" font-size=\"14.00\" text-anchor=\"middle\" x=\"968\" y=\"-394.8\">entropy = 2.0</text>\n<text fill=\"#000000\" font-family=\"Times,serif\" font-size=\"14.00\" text-anchor=\"middle\" x=\"968\" y=\"-379.8\">samples = 4</text>\n<text fill=\"#000000\" font-family=\"Times,serif\" font-size=\"14.00\" text-anchor=\"middle\" x=\"968\" y=\"-364.8\">value = [0, 0, 0, 0, 1, 0, 1, 1, 1, 0, 0]</text>\n<text fill=\"#000000\" font-family=\"Times,serif\" font-size=\"14.00\" text-anchor=\"middle\" x=\"968\" y=\"-349.8\">class = b'lime'</text>\n</g>\n<!-- 19&#45;&gt;21 -->\n<g class=\"edge\" id=\"edge21\">\n<title>19-&gt;21</title>\n<path d=\"M967.3498,-460.8796C967.4186,-452.6838 967.4917,-443.9891 967.563,-435.5013\" fill=\"none\" stroke=\"#000000\"/>\n<polygon fill=\"#000000\" points=\"971.0645,-435.3272 967.6488,-425.2981 964.0648,-435.2683 971.0645,-435.3272\" stroke=\"#000000\"/>\n</g>\n<!-- 22 -->\n<g class=\"node\" id=\"node23\">\n<title>22</title>\n<polygon fill=\"#ffffff\" points=\"836,-306 606,-306 606,-223 836,-223 836,-306\" stroke=\"#000000\"/>\n<text fill=\"#000000\" font-family=\"Times,serif\" font-size=\"14.00\" text-anchor=\"middle\" x=\"721\" y=\"-290.8\">X[15] &lt;= 0.023</text>\n<text fill=\"#000000\" font-family=\"Times,serif\" font-size=\"14.00\" text-anchor=\"middle\" x=\"721\" y=\"-275.8\">entropy = 1.0</text>\n<text fill=\"#000000\" font-family=\"Times,serif\" font-size=\"14.00\" text-anchor=\"middle\" x=\"721\" y=\"-260.8\">samples = 2</text>\n<text fill=\"#000000\" font-family=\"Times,serif\" font-size=\"14.00\" text-anchor=\"middle\" x=\"721\" y=\"-245.8\">value = [0, 0, 0, 0, 0, 0, 0, 1, 1, 0, 0]</text>\n<text fill=\"#000000\" font-family=\"Times,serif\" font-size=\"14.00\" text-anchor=\"middle\" x=\"721\" y=\"-230.8\">class = b'scp'</text>\n</g>\n<!-- 21&#45;&gt;22 -->\n<g class=\"edge\" id=\"edge22\">\n<title>21-&gt;22</title>\n<path d=\"M881.6114,-341.8796C860.5526,-331.7339 837.9068,-320.8235 816.4532,-310.4876\" fill=\"none\" stroke=\"#000000\"/>\n<polygon fill=\"#000000\" points=\"817.8679,-307.2842 807.3398,-306.0969 814.8297,-313.5905 817.8679,-307.2842\" stroke=\"#000000\"/>\n</g>\n<!-- 25 -->\n<g class=\"node\" id=\"node26\">\n<title>25</title>\n<polygon fill=\"#ffffff\" points=\"1084,-306 854,-306 854,-223 1084,-223 1084,-306\" stroke=\"#000000\"/>\n<text fill=\"#000000\" font-family=\"Times,serif\" font-size=\"14.00\" text-anchor=\"middle\" x=\"969\" y=\"-290.8\">X[9] &lt;= 0.009</text>\n<text fill=\"#000000\" font-family=\"Times,serif\" font-size=\"14.00\" text-anchor=\"middle\" x=\"969\" y=\"-275.8\">entropy = 1.0</text>\n<text fill=\"#000000\" font-family=\"Times,serif\" font-size=\"14.00\" text-anchor=\"middle\" x=\"969\" y=\"-260.8\">samples = 2</text>\n<text fill=\"#000000\" font-family=\"Times,serif\" font-size=\"14.00\" text-anchor=\"middle\" x=\"969\" y=\"-245.8\">value = [0, 0, 0, 0, 1, 0, 1, 0, 0, 0, 0]</text>\n<text fill=\"#000000\" font-family=\"Times,serif\" font-size=\"14.00\" text-anchor=\"middle\" x=\"969\" y=\"-230.8\">class = b'lime'</text>\n</g>\n<!-- 21&#45;&gt;25 -->\n<g class=\"edge\" id=\"edge25\">\n<title>21-&gt;25</title>\n<path d=\"M968.3498,-341.8796C968.4186,-333.6838 968.4917,-324.9891 968.563,-316.5013\" fill=\"none\" stroke=\"#000000\"/>\n<polygon fill=\"#000000\" points=\"972.0645,-316.3272 968.6488,-306.2981 965.0648,-316.2683 972.0645,-316.3272\" stroke=\"#000000\"/>\n</g>\n<!-- 23 -->\n<g class=\"node\" id=\"node24\">\n<title>23</title>\n<polygon fill=\"#6139e5\" points=\"588,-179.5 358,-179.5 358,-111.5 588,-111.5 588,-179.5\" stroke=\"#000000\"/>\n<text fill=\"#000000\" font-family=\"Times,serif\" font-size=\"14.00\" text-anchor=\"middle\" x=\"473\" y=\"-164.3\">entropy = 0.0</text>\n<text fill=\"#000000\" font-family=\"Times,serif\" font-size=\"14.00\" text-anchor=\"middle\" x=\"473\" y=\"-149.3\">samples = 1</text>\n<text fill=\"#000000\" font-family=\"Times,serif\" font-size=\"14.00\" text-anchor=\"middle\" x=\"473\" y=\"-134.3\">value = [0, 0, 0, 0, 0, 0, 0, 1, 0, 0, 0]</text>\n<text fill=\"#000000\" font-family=\"Times,serif\" font-size=\"14.00\" text-anchor=\"middle\" x=\"473\" y=\"-119.3\">class = b'scp'</text>\n</g>\n<!-- 22&#45;&gt;23 -->\n<g class=\"edge\" id=\"edge23\">\n<title>22-&gt;23</title>\n<path d=\"M634.2616,-222.8796C607.8976,-210.2291 579.0562,-196.3899 553.1469,-183.9576\" fill=\"none\" stroke=\"#000000\"/>\n<polygon fill=\"#000000\" points=\"554.6435,-180.7937 544.1136,-179.623 551.6152,-187.1048 554.6435,-180.7937\" stroke=\"#000000\"/>\n</g>\n<!-- 24 -->\n<g class=\"node\" id=\"node25\">\n<title>24</title>\n<polygon fill=\"#bd39e5\" points=\"836,-179.5 606,-179.5 606,-111.5 836,-111.5 836,-179.5\" stroke=\"#000000\"/>\n<text fill=\"#000000\" font-family=\"Times,serif\" font-size=\"14.00\" text-anchor=\"middle\" x=\"721\" y=\"-164.3\">entropy = 0.0</text>\n<text fill=\"#000000\" font-family=\"Times,serif\" font-size=\"14.00\" text-anchor=\"middle\" x=\"721\" y=\"-149.3\">samples = 1</text>\n<text fill=\"#000000\" font-family=\"Times,serif\" font-size=\"14.00\" text-anchor=\"middle\" x=\"721\" y=\"-134.3\">value = [0, 0, 0, 0, 0, 0, 0, 0, 1, 0, 0]</text>\n<text fill=\"#000000\" font-family=\"Times,serif\" font-size=\"14.00\" text-anchor=\"middle\" x=\"721\" y=\"-119.3\">class = b'sftp'</text>\n</g>\n<!-- 22&#45;&gt;24 -->\n<g class=\"edge\" id=\"edge24\">\n<title>22-&gt;24</title>\n<path d=\"M721,-222.8796C721,-212.2134 721,-200.7021 721,-189.9015\" fill=\"none\" stroke=\"#000000\"/>\n<polygon fill=\"#000000\" points=\"724.5001,-189.8149 721,-179.8149 717.5001,-189.815 724.5001,-189.8149\" stroke=\"#000000\"/>\n</g>\n<!-- 26 -->\n<g class=\"node\" id=\"node27\">\n<title>26</title>\n<polygon fill=\"#39e59d\" points=\"1084,-179.5 854,-179.5 854,-111.5 1084,-111.5 1084,-179.5\" stroke=\"#000000\"/>\n<text fill=\"#000000\" font-family=\"Times,serif\" font-size=\"14.00\" text-anchor=\"middle\" x=\"969\" y=\"-164.3\">entropy = 0.0</text>\n<text fill=\"#000000\" font-family=\"Times,serif\" font-size=\"14.00\" text-anchor=\"middle\" x=\"969\" y=\"-149.3\">samples = 1</text>\n<text fill=\"#000000\" font-family=\"Times,serif\" font-size=\"14.00\" text-anchor=\"middle\" x=\"969\" y=\"-134.3\">value = [0, 0, 0, 0, 1, 0, 0, 0, 0, 0, 0]</text>\n<text fill=\"#000000\" font-family=\"Times,serif\" font-size=\"14.00\" text-anchor=\"middle\" x=\"969\" y=\"-119.3\">class = b'lime'</text>\n</g>\n<!-- 25&#45;&gt;26 -->\n<g class=\"edge\" id=\"edge26\">\n<title>25-&gt;26</title>\n<path d=\"M969,-222.8796C969,-212.2134 969,-200.7021 969,-189.9015\" fill=\"none\" stroke=\"#000000\"/>\n<polygon fill=\"#000000\" points=\"972.5001,-189.8149 969,-179.8149 965.5001,-189.815 972.5001,-189.8149\" stroke=\"#000000\"/>\n</g>\n<!-- 27 -->\n<g class=\"node\" id=\"node28\">\n<title>27</title>\n<polygon fill=\"#396fe5\" points=\"1332,-179.5 1102,-179.5 1102,-111.5 1332,-111.5 1332,-179.5\" stroke=\"#000000\"/>\n<text fill=\"#000000\" font-family=\"Times,serif\" font-size=\"14.00\" text-anchor=\"middle\" x=\"1217\" y=\"-164.3\">entropy = 0.0</text>\n<text fill=\"#000000\" font-family=\"Times,serif\" font-size=\"14.00\" text-anchor=\"middle\" x=\"1217\" y=\"-149.3\">samples = 1</text>\n<text fill=\"#000000\" font-family=\"Times,serif\" font-size=\"14.00\" text-anchor=\"middle\" x=\"1217\" y=\"-134.3\">value = [0, 0, 0, 0, 0, 0, 1, 0, 0, 0, 0]</text>\n<text fill=\"#000000\" font-family=\"Times,serif\" font-size=\"14.00\" text-anchor=\"middle\" x=\"1217\" y=\"-119.3\">class = b'remoteForwarding'</text>\n</g>\n<!-- 25&#45;&gt;27 -->\n<g class=\"edge\" id=\"edge27\">\n<title>25-&gt;27</title>\n<path d=\"M1055.7384,-222.8796C1082.1024,-210.2291 1110.9438,-196.3899 1136.8531,-183.9576\" fill=\"none\" stroke=\"#000000\"/>\n<polygon fill=\"#000000\" points=\"1138.3848,-187.1048 1145.8864,-179.623 1135.3565,-180.7937 1138.3848,-187.1048\" stroke=\"#000000\"/>\n</g>\n<!-- 30 -->\n<g class=\"node\" id=\"node31\">\n<title>30</title>\n<polygon fill=\"#396fe5\" points=\"1603.5,-536.5 1366.5,-536.5 1366.5,-468.5 1603.5,-468.5 1603.5,-536.5\" stroke=\"#000000\"/>\n<text fill=\"#000000\" font-family=\"Times,serif\" font-size=\"14.00\" text-anchor=\"middle\" x=\"1485\" y=\"-521.3\">entropy = 0.0</text>\n<text fill=\"#000000\" font-family=\"Times,serif\" font-size=\"14.00\" text-anchor=\"middle\" x=\"1485\" y=\"-506.3\">samples = 39</text>\n<text fill=\"#000000\" font-family=\"Times,serif\" font-size=\"14.00\" text-anchor=\"middle\" x=\"1485\" y=\"-491.3\">value = [0, 0, 0, 0, 0, 0, 39, 0, 0, 0, 0]</text>\n<text fill=\"#000000\" font-family=\"Times,serif\" font-size=\"14.00\" text-anchor=\"middle\" x=\"1485\" y=\"-476.3\">class = b'remoteForwarding'</text>\n</g>\n<!-- 29&#45;&gt;30 -->\n<g class=\"edge\" id=\"edge30\">\n<title>29-&gt;30</title>\n<path d=\"M1488.2512,-579.8796C1487.8031,-569.2134 1487.3194,-557.7021 1486.8656,-546.9015\" fill=\"none\" stroke=\"#000000\"/>\n<polygon fill=\"#000000\" points=\"1490.3586,-546.6592 1486.4418,-536.8149 1483.3648,-546.9531 1490.3586,-546.6592\" stroke=\"#000000\"/>\n</g>\n<!-- 31 -->\n<g class=\"node\" id=\"node32\">\n<title>31</title>\n<polygon fill=\"#bef08c\" points=\"1872.5,-544 1621.5,-544 1621.5,-461 1872.5,-461 1872.5,-544\" stroke=\"#000000\"/>\n<text fill=\"#000000\" font-family=\"Times,serif\" font-size=\"14.00\" text-anchor=\"middle\" x=\"1747\" y=\"-528.8\">X[5] &lt;= 0.292</text>\n<text fill=\"#000000\" font-family=\"Times,serif\" font-size=\"14.00\" text-anchor=\"middle\" x=\"1747\" y=\"-513.8\">entropy = 1.059</text>\n<text fill=\"#000000\" font-family=\"Times,serif\" font-size=\"14.00\" text-anchor=\"middle\" x=\"1747\" y=\"-498.8\">samples = 159</text>\n<text fill=\"#000000\" font-family=\"Times,serif\" font-size=\"14.00\" text-anchor=\"middle\" x=\"1747\" y=\"-483.8\">value = [0, 0, 111, 0, 44, 1, 1, 0, 0, 1, 1]</text>\n<text fill=\"#000000\" font-family=\"Times,serif\" font-size=\"14.00\" text-anchor=\"middle\" x=\"1747\" y=\"-468.8\">class = b'HTTP'</text>\n</g>\n<!-- 29&#45;&gt;31 -->\n<g class=\"edge\" id=\"edge31\">\n<title>29-&gt;31</title>\n<path d=\"M1579.8861,-579.8796C1601.8953,-569.6886 1625.5705,-558.7261 1647.9812,-548.3492\" fill=\"none\" stroke=\"#000000\"/>\n<polygon fill=\"#000000\" points=\"1649.5608,-551.4748 1657.1646,-544.0969 1646.6196,-545.1227 1649.5608,-551.4748\" stroke=\"#000000\"/>\n</g>\n<!-- 32 -->\n<g class=\"node\" id=\"node33\">\n<title>32</title>\n<polygon fill=\"#83efc2\" points=\"1868.5,-425 1623.5,-425 1623.5,-342 1868.5,-342 1868.5,-425\" stroke=\"#000000\"/>\n<text fill=\"#000000\" font-family=\"Times,serif\" font-size=\"14.00\" text-anchor=\"middle\" x=\"1746\" y=\"-409.8\">X[15] &lt;= 0.052</text>\n<text fill=\"#000000\" font-family=\"Times,serif\" font-size=\"14.00\" text-anchor=\"middle\" x=\"1746\" y=\"-394.8\">entropy = 1.22</text>\n<text fill=\"#000000\" font-family=\"Times,serif\" font-size=\"14.00\" text-anchor=\"middle\" x=\"1746\" y=\"-379.8\">samples = 62</text>\n<text fill=\"#000000\" font-family=\"Times,serif\" font-size=\"14.00\" text-anchor=\"middle\" x=\"1746\" y=\"-364.8\">value = [0, 0, 14, 0, 44, 1, 1, 0, 0, 1, 1]</text>\n<text fill=\"#000000\" font-family=\"Times,serif\" font-size=\"14.00\" text-anchor=\"middle\" x=\"1746\" y=\"-349.8\">class = b'lime'</text>\n</g>\n<!-- 31&#45;&gt;32 -->\n<g class=\"edge\" id=\"edge32\">\n<title>31-&gt;32</title>\n<path d=\"M1746.6502,-460.8796C1746.5814,-452.6838 1746.5083,-443.9891 1746.437,-435.5013\" fill=\"none\" stroke=\"#000000\"/>\n<polygon fill=\"#000000\" points=\"1749.9352,-435.2683 1746.3512,-425.2981 1742.9355,-435.3272 1749.9352,-435.2683\" stroke=\"#000000\"/>\n</g>\n<!-- 45 -->\n<g class=\"node\" id=\"node46\">\n<title>45</title>\n<polygon fill=\"#8fe539\" points=\"2123.5,-417.5 1886.5,-417.5 1886.5,-349.5 2123.5,-349.5 2123.5,-417.5\" stroke=\"#000000\"/>\n<text fill=\"#000000\" font-family=\"Times,serif\" font-size=\"14.00\" text-anchor=\"middle\" x=\"2005\" y=\"-402.3\">entropy = 0.0</text>\n<text fill=\"#000000\" font-family=\"Times,serif\" font-size=\"14.00\" text-anchor=\"middle\" x=\"2005\" y=\"-387.3\">samples = 97</text>\n<text fill=\"#000000\" font-family=\"Times,serif\" font-size=\"14.00\" text-anchor=\"middle\" x=\"2005\" y=\"-372.3\">value = [0, 0, 97, 0, 0, 0, 0, 0, 0, 0, 0]</text>\n<text fill=\"#000000\" font-family=\"Times,serif\" font-size=\"14.00\" text-anchor=\"middle\" x=\"2005\" y=\"-357.3\">class = b'HTTP'</text>\n</g>\n<!-- 31&#45;&gt;45 -->\n<g class=\"edge\" id=\"edge45\">\n<title>31-&gt;45</title>\n<path d=\"M1837.2359,-460.8796C1864.663,-448.2291 1894.6673,-434.3899 1921.6214,-421.9576\" fill=\"none\" stroke=\"#000000\"/>\n<polygon fill=\"#000000\" points=\"1923.4043,-424.9897 1931.019,-417.623 1920.4724,-418.6332 1923.4043,-424.9897\" stroke=\"#000000\"/>\n</g>\n<!-- 33 -->\n<g class=\"node\" id=\"node34\">\n<title>33</title>\n<polygon fill=\"#9ee853\" points=\"1854.5,-306 1617.5,-306 1617.5,-223 1854.5,-223 1854.5,-306\" stroke=\"#000000\"/>\n<text fill=\"#000000\" font-family=\"Times,serif\" font-size=\"14.00\" text-anchor=\"middle\" x=\"1736\" y=\"-290.8\">X[3] &lt;= 0.032</text>\n<text fill=\"#000000\" font-family=\"Times,serif\" font-size=\"14.00\" text-anchor=\"middle\" x=\"1736\" y=\"-275.8\">entropy = 0.669</text>\n<text fill=\"#000000\" font-family=\"Times,serif\" font-size=\"14.00\" text-anchor=\"middle\" x=\"1736\" y=\"-260.8\">samples = 16</text>\n<text fill=\"#000000\" font-family=\"Times,serif\" font-size=\"14.00\" text-anchor=\"middle\" x=\"1736\" y=\"-245.8\">value = [0, 0, 14, 0, 1, 1, 0, 0, 0, 0, 0]</text>\n<text fill=\"#000000\" font-family=\"Times,serif\" font-size=\"14.00\" text-anchor=\"middle\" x=\"1736\" y=\"-230.8\">class = b'HTTP'</text>\n</g>\n<!-- 32&#45;&gt;33 -->\n<g class=\"edge\" id=\"edge33\">\n<title>32-&gt;33</title>\n<path d=\"M1742.5025,-341.8796C1741.8138,-333.6838 1741.0831,-324.9891 1740.3699,-316.5013\" fill=\"none\" stroke=\"#000000\"/>\n<polygon fill=\"#000000\" points=\"1743.8376,-315.9698 1739.5124,-306.2981 1736.8622,-316.5561 1743.8376,-315.9698\" stroke=\"#000000\"/>\n</g>\n<!-- 38 -->\n<g class=\"node\" id=\"node39\">\n<title>38</title>\n<polygon fill=\"#46e7a4\" points=\"2109.5,-306 1872.5,-306 1872.5,-223 2109.5,-223 2109.5,-306\" stroke=\"#000000\"/>\n<text fill=\"#000000\" font-family=\"Times,serif\" font-size=\"14.00\" text-anchor=\"middle\" x=\"1991\" y=\"-290.8\">X[12] &lt;= 0.0</text>\n<text fill=\"#000000\" font-family=\"Times,serif\" font-size=\"14.00\" text-anchor=\"middle\" x=\"1991\" y=\"-275.8\">entropy = 0.451</text>\n<text fill=\"#000000\" font-family=\"Times,serif\" font-size=\"14.00\" text-anchor=\"middle\" x=\"1991\" y=\"-260.8\">samples = 46</text>\n<text fill=\"#000000\" font-family=\"Times,serif\" font-size=\"14.00\" text-anchor=\"middle\" x=\"1991\" y=\"-245.8\">value = [0, 0, 0, 0, 43, 0, 1, 0, 0, 1, 1]</text>\n<text fill=\"#000000\" font-family=\"Times,serif\" font-size=\"14.00\" text-anchor=\"middle\" x=\"1991\" y=\"-230.8\">class = b'lime'</text>\n</g>\n<!-- 32&#45;&gt;38 -->\n<g class=\"edge\" id=\"edge38\">\n<title>32-&gt;38</title>\n<path d=\"M1831.6891,-341.8796C1852.5774,-331.7339 1875.0398,-320.8235 1896.3197,-310.4876\" fill=\"none\" stroke=\"#000000\"/>\n<polygon fill=\"#000000\" points=\"1897.8934,-313.6143 1905.3593,-306.0969 1894.835,-307.3177 1897.8934,-313.6143\" stroke=\"#000000\"/>\n</g>\n<!-- 34 -->\n<g class=\"node\" id=\"node35\">\n<title>34</title>\n<polygon fill=\"#ffffff\" points=\"1601,-187 1371,-187 1371,-104 1601,-104 1601,-187\" stroke=\"#000000\"/>\n<text fill=\"#000000\" font-family=\"Times,serif\" font-size=\"14.00\" text-anchor=\"middle\" x=\"1486\" y=\"-171.8\">X[20] &lt;= 0.0</text>\n<text fill=\"#000000\" font-family=\"Times,serif\" font-size=\"14.00\" text-anchor=\"middle\" x=\"1486\" y=\"-156.8\">entropy = 1.0</text>\n<text fill=\"#000000\" font-family=\"Times,serif\" font-size=\"14.00\" text-anchor=\"middle\" x=\"1486\" y=\"-141.8\">samples = 2</text>\n<text fill=\"#000000\" font-family=\"Times,serif\" font-size=\"14.00\" text-anchor=\"middle\" x=\"1486\" y=\"-126.8\">value = [0, 0, 0, 0, 1, 1, 0, 0, 0, 0, 0]</text>\n<text fill=\"#000000\" font-family=\"Times,serif\" font-size=\"14.00\" text-anchor=\"middle\" x=\"1486\" y=\"-111.8\">class = b'lime'</text>\n</g>\n<!-- 33&#45;&gt;34 -->\n<g class=\"edge\" id=\"edge34\">\n<title>33-&gt;34</title>\n<path d=\"M1648.5621,-222.8796C1627.2476,-212.7339 1604.3267,-201.8235 1582.6125,-191.4876\" fill=\"none\" stroke=\"#000000\"/>\n<polygon fill=\"#000000\" points=\"1583.9221,-188.2347 1573.3885,-187.0969 1580.9135,-194.5552 1583.9221,-188.2347\" stroke=\"#000000\"/>\n</g>\n<!-- 37 -->\n<g class=\"node\" id=\"node38\">\n<title>37</title>\n<polygon fill=\"#8fe539\" points=\"1856.5,-179.5 1619.5,-179.5 1619.5,-111.5 1856.5,-111.5 1856.5,-179.5\" stroke=\"#000000\"/>\n<text fill=\"#000000\" font-family=\"Times,serif\" font-size=\"14.00\" text-anchor=\"middle\" x=\"1738\" y=\"-164.3\">entropy = 0.0</text>\n<text fill=\"#000000\" font-family=\"Times,serif\" font-size=\"14.00\" text-anchor=\"middle\" x=\"1738\" y=\"-149.3\">samples = 14</text>\n<text fill=\"#000000\" font-family=\"Times,serif\" font-size=\"14.00\" text-anchor=\"middle\" x=\"1738\" y=\"-134.3\">value = [0, 0, 14, 0, 0, 0, 0, 0, 0, 0, 0]</text>\n<text fill=\"#000000\" font-family=\"Times,serif\" font-size=\"14.00\" text-anchor=\"middle\" x=\"1738\" y=\"-119.3\">class = b'HTTP'</text>\n</g>\n<!-- 33&#45;&gt;37 -->\n<g class=\"edge\" id=\"edge37\">\n<title>33-&gt;37</title>\n<path d=\"M1736.6995,-222.8796C1736.8788,-212.2134 1737.0722,-200.7021 1737.2538,-189.9015\" fill=\"none\" stroke=\"#000000\"/>\n<polygon fill=\"#000000\" points=\"1740.7546,-189.8724 1737.4233,-179.8149 1733.7556,-189.7547 1740.7546,-189.8724\" stroke=\"#000000\"/>\n</g>\n<!-- 35 -->\n<g class=\"node\" id=\"node36\">\n<title>35</title>\n<polygon fill=\"#39e59d\" points=\"1357,-68 1127,-68 1127,0 1357,0 1357,-68\" stroke=\"#000000\"/>\n<text fill=\"#000000\" font-family=\"Times,serif\" font-size=\"14.00\" text-anchor=\"middle\" x=\"1242\" y=\"-52.8\">entropy = 0.0</text>\n<text fill=\"#000000\" font-family=\"Times,serif\" font-size=\"14.00\" text-anchor=\"middle\" x=\"1242\" y=\"-37.8\">samples = 1</text>\n<text fill=\"#000000\" font-family=\"Times,serif\" font-size=\"14.00\" text-anchor=\"middle\" x=\"1242\" y=\"-22.8\">value = [0, 0, 0, 0, 1, 0, 0, 0, 0, 0, 0]</text>\n<text fill=\"#000000\" font-family=\"Times,serif\" font-size=\"14.00\" text-anchor=\"middle\" x=\"1242\" y=\"-7.8\">class = b'lime'</text>\n</g>\n<!-- 34&#45;&gt;35 -->\n<g class=\"edge\" id=\"edge35\">\n<title>34-&gt;35</title>\n<path d=\"M1395.1434,-103.9815C1372.398,-93.5876 1348.1047,-82.4864 1325.7238,-72.259\" fill=\"none\" stroke=\"#000000\"/>\n<polygon fill=\"#000000\" points=\"1327.141,-69.0586 1316.591,-68.0856 1324.2316,-75.4253 1327.141,-69.0586\" stroke=\"#000000\"/>\n</g>\n<!-- 36 -->\n<g class=\"node\" id=\"node37\">\n<title>36</title>\n<polygon fill=\"#39cee5\" points=\"1605,-68 1375,-68 1375,0 1605,0 1605,-68\" stroke=\"#000000\"/>\n<text fill=\"#000000\" font-family=\"Times,serif\" font-size=\"14.00\" text-anchor=\"middle\" x=\"1490\" y=\"-52.8\">entropy = 0.0</text>\n<text fill=\"#000000\" font-family=\"Times,serif\" font-size=\"14.00\" text-anchor=\"middle\" x=\"1490\" y=\"-37.8\">samples = 1</text>\n<text fill=\"#000000\" font-family=\"Times,serif\" font-size=\"14.00\" text-anchor=\"middle\" x=\"1490\" y=\"-22.8\">value = [0, 0, 0, 0, 0, 1, 0, 0, 0, 0, 0]</text>\n<text fill=\"#000000\" font-family=\"Times,serif\" font-size=\"14.00\" text-anchor=\"middle\" x=\"1490\" y=\"-7.8\">class = b'localForwarding'</text>\n</g>\n<!-- 34&#45;&gt;36 -->\n<g class=\"edge\" id=\"edge36\">\n<title>34-&gt;36</title>\n<path d=\"M1487.4895,-103.9815C1487.7895,-95.618 1488.106,-86.7965 1488.4093,-78.3409\" fill=\"none\" stroke=\"#000000\"/>\n<polygon fill=\"#000000\" points=\"1491.91,-78.3828 1488.7708,-68.2637 1484.9145,-78.1317 1491.91,-78.3828\" stroke=\"#000000\"/>\n</g>\n<!-- 39 -->\n<g class=\"node\" id=\"node40\">\n<title>39</title>\n<polygon fill=\"#ffffff\" points=\"2106,-187 1876,-187 1876,-104 2106,-104 2106,-187\" stroke=\"#000000\"/>\n<text fill=\"#000000\" font-family=\"Times,serif\" font-size=\"14.00\" text-anchor=\"middle\" x=\"1991\" y=\"-171.8\">X[18] &lt;= 0.0</text>\n<text fill=\"#000000\" font-family=\"Times,serif\" font-size=\"14.00\" text-anchor=\"middle\" x=\"1991\" y=\"-156.8\">entropy = 1.0</text>\n<text fill=\"#000000\" font-family=\"Times,serif\" font-size=\"14.00\" text-anchor=\"middle\" x=\"1991\" y=\"-141.8\">samples = 2</text>\n<text fill=\"#000000\" font-family=\"Times,serif\" font-size=\"14.00\" text-anchor=\"middle\" x=\"1991\" y=\"-126.8\">value = [0, 0, 0, 0, 0, 0, 0, 0, 0, 1, 1]</text>\n<text fill=\"#000000\" font-family=\"Times,serif\" font-size=\"14.00\" text-anchor=\"middle\" x=\"1991\" y=\"-111.8\">class = b'x11'</text>\n</g>\n<!-- 38&#45;&gt;39 -->\n<g class=\"edge\" id=\"edge39\">\n<title>38-&gt;39</title>\n<path d=\"M1991,-222.8796C1991,-214.6838 1991,-205.9891 1991,-197.5013\" fill=\"none\" stroke=\"#000000\"/>\n<polygon fill=\"#000000\" points=\"1994.5001,-197.298 1991,-187.2981 1987.5001,-197.2981 1994.5001,-197.298\" stroke=\"#000000\"/>\n</g>\n<!-- 42 -->\n<g class=\"node\" id=\"node43\">\n<title>42</title>\n<polygon fill=\"#3ee69f\" points=\"2361.5,-187 2124.5,-187 2124.5,-104 2361.5,-104 2361.5,-187\" stroke=\"#000000\"/>\n<text fill=\"#000000\" font-family=\"Times,serif\" font-size=\"14.00\" text-anchor=\"middle\" x=\"2243\" y=\"-171.8\">X[20] &lt;= 0.0</text>\n<text fill=\"#000000\" font-family=\"Times,serif\" font-size=\"14.00\" text-anchor=\"middle\" x=\"2243\" y=\"-156.8\">entropy = 0.156</text>\n<text fill=\"#000000\" font-family=\"Times,serif\" font-size=\"14.00\" text-anchor=\"middle\" x=\"2243\" y=\"-141.8\">samples = 44</text>\n<text fill=\"#000000\" font-family=\"Times,serif\" font-size=\"14.00\" text-anchor=\"middle\" x=\"2243\" y=\"-126.8\">value = [0, 0, 0, 0, 43, 0, 1, 0, 0, 0, 0]</text>\n<text fill=\"#000000\" font-family=\"Times,serif\" font-size=\"14.00\" text-anchor=\"middle\" x=\"2243\" y=\"-111.8\">class = b'lime'</text>\n</g>\n<!-- 38&#45;&gt;42 -->\n<g class=\"edge\" id=\"edge42\">\n<title>38-&gt;42</title>\n<path d=\"M2079.1374,-222.8796C2100.6224,-212.7339 2123.7267,-201.8235 2145.6146,-191.4876\" fill=\"none\" stroke=\"#000000\"/>\n<polygon fill=\"#000000\" points=\"2147.3644,-194.5319 2154.9124,-187.0969 2144.3754,-188.2022 2147.3644,-194.5319\" stroke=\"#000000\"/>\n</g>\n<!-- 40 -->\n<g class=\"node\" id=\"node41\">\n<title>40</title>\n<polygon fill=\"#e53950\" points=\"1859,-68 1629,-68 1629,0 1859,0 1859,-68\" stroke=\"#000000\"/>\n<text fill=\"#000000\" font-family=\"Times,serif\" font-size=\"14.00\" text-anchor=\"middle\" x=\"1744\" y=\"-52.8\">entropy = 0.0</text>\n<text fill=\"#000000\" font-family=\"Times,serif\" font-size=\"14.00\" text-anchor=\"middle\" x=\"1744\" y=\"-37.8\">samples = 1</text>\n<text fill=\"#000000\" font-family=\"Times,serif\" font-size=\"14.00\" text-anchor=\"middle\" x=\"1744\" y=\"-22.8\">value = [0, 0, 0, 0, 0, 0, 0, 0, 0, 0, 1]</text>\n<text fill=\"#000000\" font-family=\"Times,serif\" font-size=\"14.00\" text-anchor=\"middle\" x=\"1744\" y=\"-7.8\">class = b'shell'</text>\n</g>\n<!-- 39&#45;&gt;40 -->\n<g class=\"edge\" id=\"edge40\">\n<title>39-&gt;40</title>\n<path d=\"M1899.0263,-103.9815C1876.0012,-93.5876 1851.4093,-82.4864 1828.7532,-72.259\" fill=\"none\" stroke=\"#000000\"/>\n<polygon fill=\"#000000\" points=\"1830.0625,-69.01 1819.5081,-68.0856 1827.1824,-75.3901 1830.0625,-69.01\" stroke=\"#000000\"/>\n</g>\n<!-- 41 -->\n<g class=\"node\" id=\"node42\">\n<title>41</title>\n<polygon fill=\"#e539ae\" points=\"2107,-68 1877,-68 1877,0 2107,0 2107,-68\" stroke=\"#000000\"/>\n<text fill=\"#000000\" font-family=\"Times,serif\" font-size=\"14.00\" text-anchor=\"middle\" x=\"1992\" y=\"-52.8\">entropy = 0.0</text>\n<text fill=\"#000000\" font-family=\"Times,serif\" font-size=\"14.00\" text-anchor=\"middle\" x=\"1992\" y=\"-37.8\">samples = 1</text>\n<text fill=\"#000000\" font-family=\"Times,serif\" font-size=\"14.00\" text-anchor=\"middle\" x=\"1992\" y=\"-22.8\">value = [0, 0, 0, 0, 0, 0, 0, 0, 0, 1, 0]</text>\n<text fill=\"#000000\" font-family=\"Times,serif\" font-size=\"14.00\" text-anchor=\"middle\" x=\"1992\" y=\"-7.8\">class = b'x11'</text>\n</g>\n<!-- 39&#45;&gt;41 -->\n<g class=\"edge\" id=\"edge41\">\n<title>39-&gt;41</title>\n<path d=\"M1991.3724,-103.9815C1991.4474,-95.618 1991.5265,-86.7965 1991.6023,-78.3409\" fill=\"none\" stroke=\"#000000\"/>\n<polygon fill=\"#000000\" points=\"1995.1028,-78.2947 1991.6927,-68.2637 1988.1031,-78.2318 1995.1028,-78.2947\" stroke=\"#000000\"/>\n</g>\n<!-- 43 -->\n<g class=\"node\" id=\"node44\">\n<title>43</title>\n<polygon fill=\"#396fe5\" points=\"2357,-68 2127,-68 2127,0 2357,0 2357,-68\" stroke=\"#000000\"/>\n<text fill=\"#000000\" font-family=\"Times,serif\" font-size=\"14.00\" text-anchor=\"middle\" x=\"2242\" y=\"-52.8\">entropy = 0.0</text>\n<text fill=\"#000000\" font-family=\"Times,serif\" font-size=\"14.00\" text-anchor=\"middle\" x=\"2242\" y=\"-37.8\">samples = 1</text>\n<text fill=\"#000000\" font-family=\"Times,serif\" font-size=\"14.00\" text-anchor=\"middle\" x=\"2242\" y=\"-22.8\">value = [0, 0, 0, 0, 0, 0, 1, 0, 0, 0, 0]</text>\n<text fill=\"#000000\" font-family=\"Times,serif\" font-size=\"14.00\" text-anchor=\"middle\" x=\"2242\" y=\"-7.8\">class = b'remoteForwarding'</text>\n</g>\n<!-- 42&#45;&gt;43 -->\n<g class=\"edge\" id=\"edge43\">\n<title>42-&gt;43</title>\n<path d=\"M2242.6276,-103.9815C2242.5526,-95.618 2242.4735,-86.7965 2242.3977,-78.3409\" fill=\"none\" stroke=\"#000000\"/>\n<polygon fill=\"#000000\" points=\"2245.8969,-78.2318 2242.3073,-68.2637 2238.8972,-78.2947 2245.8969,-78.2318\" stroke=\"#000000\"/>\n</g>\n<!-- 44 -->\n<g class=\"node\" id=\"node45\">\n<title>44</title>\n<polygon fill=\"#39e59d\" points=\"2612.5,-68 2375.5,-68 2375.5,0 2612.5,0 2612.5,-68\" stroke=\"#000000\"/>\n<text fill=\"#000000\" font-family=\"Times,serif\" font-size=\"14.00\" text-anchor=\"middle\" x=\"2494\" y=\"-52.8\">entropy = 0.0</text>\n<text fill=\"#000000\" font-family=\"Times,serif\" font-size=\"14.00\" text-anchor=\"middle\" x=\"2494\" y=\"-37.8\">samples = 43</text>\n<text fill=\"#000000\" font-family=\"Times,serif\" font-size=\"14.00\" text-anchor=\"middle\" x=\"2494\" y=\"-22.8\">value = [0, 0, 0, 0, 43, 0, 0, 0, 0, 0, 0]</text>\n<text fill=\"#000000\" font-family=\"Times,serif\" font-size=\"14.00\" text-anchor=\"middle\" x=\"2494\" y=\"-7.8\">class = b'lime'</text>\n</g>\n<!-- 42&#45;&gt;44 -->\n<g class=\"edge\" id=\"edge44\">\n<title>42-&gt;44</title>\n<path d=\"M2336.4631,-103.9815C2359.8611,-93.5876 2384.8513,-82.4864 2407.8743,-72.259\" fill=\"none\" stroke=\"#000000\"/>\n<polygon fill=\"#000000\" points=\"2409.5512,-75.344 2417.2691,-68.0856 2406.7093,-68.9468 2409.5512,-75.344\" stroke=\"#000000\"/>\n</g>\n<!-- 49 -->\n<g class=\"node\" id=\"node50\">\n<title>49</title>\n<polygon fill=\"#39cee5\" points=\"1503.5,-1131.5 1266.5,-1131.5 1266.5,-1063.5 1503.5,-1063.5 1503.5,-1131.5\" stroke=\"#000000\"/>\n<text fill=\"#000000\" font-family=\"Times,serif\" font-size=\"14.00\" text-anchor=\"middle\" x=\"1385\" y=\"-1116.3\">entropy = 0.0</text>\n<text fill=\"#000000\" font-family=\"Times,serif\" font-size=\"14.00\" text-anchor=\"middle\" x=\"1385\" y=\"-1101.3\">samples = 70</text>\n<text fill=\"#000000\" font-family=\"Times,serif\" font-size=\"14.00\" text-anchor=\"middle\" x=\"1385\" y=\"-1086.3\">value = [0, 0, 0, 0, 0, 70, 0, 0, 0, 0, 0]</text>\n<text fill=\"#000000\" font-family=\"Times,serif\" font-size=\"14.00\" text-anchor=\"middle\" x=\"1385\" y=\"-1071.3\">class = b'localForwarding'</text>\n</g>\n<!-- 48&#45;&gt;49 -->\n<g class=\"edge\" id=\"edge49\">\n<title>48-&gt;49</title>\n<path d=\"M1390.8522,-1174.8796C1390.0455,-1164.2134 1389.1749,-1152.7021 1388.3581,-1141.9015\" fill=\"none\" stroke=\"#000000\"/>\n<polygon fill=\"#000000\" points=\"1391.8395,-1141.5225 1387.5952,-1131.8149 1384.8595,-1142.0504 1391.8395,-1141.5225\" stroke=\"#000000\"/>\n</g>\n<!-- 50 -->\n<g class=\"node\" id=\"node51\">\n<title>50</title>\n<polygon fill=\"#396fe5\" points=\"1774,-1131.5 1522,-1131.5 1522,-1063.5 1774,-1063.5 1774,-1131.5\" stroke=\"#000000\"/>\n<text fill=\"#000000\" font-family=\"Times,serif\" font-size=\"14.00\" text-anchor=\"middle\" x=\"1648\" y=\"-1116.3\">entropy = 0.0</text>\n<text fill=\"#000000\" font-family=\"Times,serif\" font-size=\"14.00\" text-anchor=\"middle\" x=\"1648\" y=\"-1101.3\">samples = 1903</text>\n<text fill=\"#000000\" font-family=\"Times,serif\" font-size=\"14.00\" text-anchor=\"middle\" x=\"1648\" y=\"-1086.3\">value = [0, 0, 0, 0, 0, 0, 1903, 0, 0, 0, 0]</text>\n<text fill=\"#000000\" font-family=\"Times,serif\" font-size=\"14.00\" text-anchor=\"middle\" x=\"1648\" y=\"-1071.3\">class = b'remoteForwarding'</text>\n</g>\n<!-- 48&#45;&gt;50 -->\n<g class=\"edge\" id=\"edge50\">\n<title>48-&gt;50</title>\n<path d=\"M1482.8369,-1174.8796C1509.8387,-1162.2291 1539.3779,-1148.3899 1565.9141,-1135.9576\" fill=\"none\" stroke=\"#000000\"/>\n<polygon fill=\"#000000\" points=\"1567.5954,-1139.035 1575.166,-1131.623 1564.6256,-1132.6962 1567.5954,-1139.035\" stroke=\"#000000\"/>\n</g>\n</g>\n</svg>"
          },
          "metadata": {
            "tags": []
          }
        }
      ]
    },
    {
      "cell_type": "code",
      "metadata": {
        "id": "km6qF4jJlPTG",
        "colab_type": "code",
        "colab": {}
      },
      "source": [
        ""
      ],
      "execution_count": 0,
      "outputs": []
    }
  ]
}
