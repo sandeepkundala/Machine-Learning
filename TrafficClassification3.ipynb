{
  "nbformat": 4,
  "nbformat_minor": 0,
  "metadata": {
    "colab": {
      "name": "Untitled2.ipynb",
      "version": "0.3.2",
      "provenance": [],
      "collapsed_sections": [],
      "include_colab_link": true
    },
    "kernelspec": {
      "name": "python3",
      "display_name": "Python 3"
    }
  },
  "cells": [
    {
      "cell_type": "markdown",
      "metadata": {
        "id": "view-in-github",
        "colab_type": "text"
      },
      "source": [
        "<a href=\"https://colab.research.google.com/github/sandeepkundala/Machine-Learning/blob/master/TrafficClassification3.ipynb\" target=\"_parent\"><img src=\"https://colab.research.google.com/assets/colab-badge.svg\" alt=\"Open In Colab\"/></a>"
      ]
    },
    {
      "cell_type": "code",
      "metadata": {
        "id": "iV5WaMG4PN7n",
        "colab_type": "code",
        "outputId": "989f1f63-caa3-437f-dbdb-1ce3cbba50ed",
        "colab": {
          "base_uri": "https://localhost:8080/",
          "height": 183
        }
      },
      "source": [
        "import sys\n",
        "!{sys.executable} -m pip install pandas\n",
        "!{sys.executable} -m pip install scikit-learn\n",
        "\n",
        "# import all necessary packages\n",
        "import matplotlib.pyplot as plt # plotting\n",
        "import pandas as pd # data processing, CSV file I/O (e.g. pd.read_csv)\n",
        "from sklearn.model_selection import train_test_split\n",
        "from sklearn import metrics"
      ],
      "execution_count": 1,
      "outputs": [
        {
          "output_type": "stream",
          "text": [
            "Requirement already satisfied: pandas in /usr/local/lib/python3.6/dist-packages (0.24.2)\n",
            "Requirement already satisfied: pytz>=2011k in /usr/local/lib/python3.6/dist-packages (from pandas) (2018.9)\n",
            "Requirement already satisfied: python-dateutil>=2.5.0 in /usr/local/lib/python3.6/dist-packages (from pandas) (2.5.3)\n",
            "Requirement already satisfied: numpy>=1.12.0 in /usr/local/lib/python3.6/dist-packages (from pandas) (1.16.4)\n",
            "Requirement already satisfied: six>=1.5 in /usr/local/lib/python3.6/dist-packages (from python-dateutil>=2.5.0->pandas) (1.12.0)\n",
            "Requirement already satisfied: scikit-learn in /usr/local/lib/python3.6/dist-packages (0.21.3)\n",
            "Requirement already satisfied: numpy>=1.11.0 in /usr/local/lib/python3.6/dist-packages (from scikit-learn) (1.16.4)\n",
            "Requirement already satisfied: scipy>=0.17.0 in /usr/local/lib/python3.6/dist-packages (from scikit-learn) (1.3.1)\n",
            "Requirement already satisfied: joblib>=0.11 in /usr/local/lib/python3.6/dist-packages (from scikit-learn) (0.13.2)\n"
          ],
          "name": "stdout"
        }
      ]
    },
    {
      "cell_type": "code",
      "metadata": {
        "id": "amaQg8t1Br9P",
        "colab_type": "code",
        "colab": {
          "base_uri": "https://localhost:8080/",
          "height": 54
        },
        "outputId": "ef676afe-e0d6-458f-e7ad-fedab527f847"
      },
      "source": [
        "!pip install -U -q PyDrive\n",
        "from pydrive.auth import GoogleAuth\n",
        "from pydrive.drive import GoogleDrive\n",
        "from google.colab import auth\n",
        "from oauth2client.client import GoogleCredentials\n",
        "\n",
        "# Authenticate and create the PyDrive client.\n",
        "auth.authenticate_user()\n",
        "gauth = GoogleAuth()\n",
        "gauth.credentials = GoogleCredentials.get_application_default()\n",
        "drive = GoogleDrive(gauth)"
      ],
      "execution_count": 2,
      "outputs": [
        {
          "output_type": "stream",
          "text": [
            "\u001b[?25l\r\u001b[K     |▎                               | 10kB 12.5MB/s eta 0:00:01\r\u001b[K     |▋                               | 20kB 1.8MB/s eta 0:00:01\r\u001b[K     |█                               | 30kB 2.6MB/s eta 0:00:01\r\u001b[K     |█▎                              | 40kB 1.4MB/s eta 0:00:01\r\u001b[K     |█▋                              | 51kB 1.7MB/s eta 0:00:01\r\u001b[K     |██                              | 61kB 2.1MB/s eta 0:00:01\r\u001b[K     |██▎                             | 71kB 2.4MB/s eta 0:00:01\r\u001b[K     |██▋                             | 81kB 2.7MB/s eta 0:00:01\r\u001b[K     |███                             | 92kB 3.1MB/s eta 0:00:01\r\u001b[K     |███▎                            | 102kB 2.5MB/s eta 0:00:01\r\u001b[K     |███▋                            | 112kB 2.5MB/s eta 0:00:01\r\u001b[K     |████                            | 122kB 2.5MB/s eta 0:00:01\r\u001b[K     |████▎                           | 133kB 2.5MB/s eta 0:00:01\r\u001b[K     |████▋                           | 143kB 2.5MB/s eta 0:00:01\r\u001b[K     |█████                           | 153kB 2.5MB/s eta 0:00:01\r\u001b[K     |█████▎                          | 163kB 2.5MB/s eta 0:00:01\r\u001b[K     |█████▋                          | 174kB 2.5MB/s eta 0:00:01\r\u001b[K     |██████                          | 184kB 2.5MB/s eta 0:00:01\r\u001b[K     |██████▎                         | 194kB 2.5MB/s eta 0:00:01\r\u001b[K     |██████▋                         | 204kB 2.5MB/s eta 0:00:01\r\u001b[K     |███████                         | 215kB 2.5MB/s eta 0:00:01\r\u001b[K     |███████▎                        | 225kB 2.5MB/s eta 0:00:01\r\u001b[K     |███████▋                        | 235kB 2.5MB/s eta 0:00:01\r\u001b[K     |████████                        | 245kB 2.5MB/s eta 0:00:01\r\u001b[K     |████████▎                       | 256kB 2.5MB/s eta 0:00:01\r\u001b[K     |████████▋                       | 266kB 2.5MB/s eta 0:00:01\r\u001b[K     |█████████                       | 276kB 2.5MB/s eta 0:00:01\r\u001b[K     |█████████▎                      | 286kB 2.5MB/s eta 0:00:01\r\u001b[K     |█████████▋                      | 296kB 2.5MB/s eta 0:00:01\r\u001b[K     |██████████                      | 307kB 2.5MB/s eta 0:00:01\r\u001b[K     |██████████▎                     | 317kB 2.5MB/s eta 0:00:01\r\u001b[K     |██████████▋                     | 327kB 2.5MB/s eta 0:00:01\r\u001b[K     |███████████                     | 337kB 2.5MB/s eta 0:00:01\r\u001b[K     |███████████▎                    | 348kB 2.5MB/s eta 0:00:01\r\u001b[K     |███████████▋                    | 358kB 2.5MB/s eta 0:00:01\r\u001b[K     |████████████                    | 368kB 2.5MB/s eta 0:00:01\r\u001b[K     |████████████▎                   | 378kB 2.5MB/s eta 0:00:01\r\u001b[K     |████████████▋                   | 389kB 2.5MB/s eta 0:00:01\r\u001b[K     |█████████████                   | 399kB 2.5MB/s eta 0:00:01\r\u001b[K     |█████████████▎                  | 409kB 2.5MB/s eta 0:00:01\r\u001b[K     |█████████████▋                  | 419kB 2.5MB/s eta 0:00:01\r\u001b[K     |██████████████                  | 430kB 2.5MB/s eta 0:00:01\r\u001b[K     |██████████████▎                 | 440kB 2.5MB/s eta 0:00:01\r\u001b[K     |██████████████▋                 | 450kB 2.5MB/s eta 0:00:01\r\u001b[K     |███████████████                 | 460kB 2.5MB/s eta 0:00:01\r\u001b[K     |███████████████▎                | 471kB 2.5MB/s eta 0:00:01\r\u001b[K     |███████████████▋                | 481kB 2.5MB/s eta 0:00:01\r\u001b[K     |████████████████                | 491kB 2.5MB/s eta 0:00:01\r\u001b[K     |████████████████▎               | 501kB 2.5MB/s eta 0:00:01\r\u001b[K     |████████████████▋               | 512kB 2.5MB/s eta 0:00:01\r\u001b[K     |█████████████████               | 522kB 2.5MB/s eta 0:00:01\r\u001b[K     |█████████████████▎              | 532kB 2.5MB/s eta 0:00:01\r\u001b[K     |█████████████████▋              | 542kB 2.5MB/s eta 0:00:01\r\u001b[K     |██████████████████              | 552kB 2.5MB/s eta 0:00:01\r\u001b[K     |██████████████████▎             | 563kB 2.5MB/s eta 0:00:01\r\u001b[K     |██████████████████▋             | 573kB 2.5MB/s eta 0:00:01\r\u001b[K     |███████████████████             | 583kB 2.5MB/s eta 0:00:01\r\u001b[K     |███████████████████▎            | 593kB 2.5MB/s eta 0:00:01\r\u001b[K     |███████████████████▋            | 604kB 2.5MB/s eta 0:00:01\r\u001b[K     |████████████████████            | 614kB 2.5MB/s eta 0:00:01\r\u001b[K     |████████████████████▎           | 624kB 2.5MB/s eta 0:00:01\r\u001b[K     |████████████████████▋           | 634kB 2.5MB/s eta 0:00:01\r\u001b[K     |█████████████████████           | 645kB 2.5MB/s eta 0:00:01\r\u001b[K     |█████████████████████▎          | 655kB 2.5MB/s eta 0:00:01\r\u001b[K     |█████████████████████▋          | 665kB 2.5MB/s eta 0:00:01\r\u001b[K     |██████████████████████          | 675kB 2.5MB/s eta 0:00:01\r\u001b[K     |██████████████████████▎         | 686kB 2.5MB/s eta 0:00:01\r\u001b[K     |██████████████████████▋         | 696kB 2.5MB/s eta 0:00:01\r\u001b[K     |███████████████████████         | 706kB 2.5MB/s eta 0:00:01\r\u001b[K     |███████████████████████▎        | 716kB 2.5MB/s eta 0:00:01\r\u001b[K     |███████████████████████▋        | 727kB 2.5MB/s eta 0:00:01\r\u001b[K     |████████████████████████        | 737kB 2.5MB/s eta 0:00:01\r\u001b[K     |████████████████████████▎       | 747kB 2.5MB/s eta 0:00:01\r\u001b[K     |████████████████████████▋       | 757kB 2.5MB/s eta 0:00:01\r\u001b[K     |████████████████████████▉       | 768kB 2.5MB/s eta 0:00:01\r\u001b[K     |█████████████████████████▏      | 778kB 2.5MB/s eta 0:00:01\r\u001b[K     |█████████████████████████▌      | 788kB 2.5MB/s eta 0:00:01\r\u001b[K     |█████████████████████████▉      | 798kB 2.5MB/s eta 0:00:01\r\u001b[K     |██████████████████████████▏     | 808kB 2.5MB/s eta 0:00:01\r\u001b[K     |██████████████████████████▌     | 819kB 2.5MB/s eta 0:00:01\r\u001b[K     |██████████████████████████▉     | 829kB 2.5MB/s eta 0:00:01\r\u001b[K     |███████████████████████████▏    | 839kB 2.5MB/s eta 0:00:01\r\u001b[K     |███████████████████████████▌    | 849kB 2.5MB/s eta 0:00:01\r\u001b[K     |███████████████████████████▉    | 860kB 2.5MB/s eta 0:00:01\r\u001b[K     |████████████████████████████▏   | 870kB 2.5MB/s eta 0:00:01\r\u001b[K     |████████████████████████████▌   | 880kB 2.5MB/s eta 0:00:01\r\u001b[K     |████████████████████████████▉   | 890kB 2.5MB/s eta 0:00:01\r\u001b[K     |█████████████████████████████▏  | 901kB 2.5MB/s eta 0:00:01\r\u001b[K     |█████████████████████████████▌  | 911kB 2.5MB/s eta 0:00:01\r\u001b[K     |█████████████████████████████▉  | 921kB 2.5MB/s eta 0:00:01\r\u001b[K     |██████████████████████████████▏ | 931kB 2.5MB/s eta 0:00:01\r\u001b[K     |██████████████████████████████▌ | 942kB 2.5MB/s eta 0:00:01\r\u001b[K     |██████████████████████████████▉ | 952kB 2.5MB/s eta 0:00:01\r\u001b[K     |███████████████████████████████▏| 962kB 2.5MB/s eta 0:00:01\r\u001b[K     |███████████████████████████████▌| 972kB 2.5MB/s eta 0:00:01\r\u001b[K     |███████████████████████████████▉| 983kB 2.5MB/s eta 0:00:01\r\u001b[K     |████████████████████████████████| 993kB 2.5MB/s \n",
            "\u001b[?25h  Building wheel for PyDrive (setup.py) ... \u001b[?25l\u001b[?25hdone\n"
          ],
          "name": "stdout"
        }
      ]
    },
    {
      "cell_type": "code",
      "metadata": {
        "id": "zyuwgpC2Hfb3",
        "colab_type": "code",
        "outputId": "7fd83bfc-9ef5-4761-c88e-b1ce765e3fc0",
        "colab": {
          "base_uri": "https://localhost:8080/",
          "height": 35
        }
      },
      "source": [
        "link = 'https://drive.google.com/open?id=1ts1QJMNy6vuuVAu-Lq-n_lAcVzFb93FN'\n",
        "fluff, id = link.split('=')\n",
        "print(id)"
      ],
      "execution_count": 3,
      "outputs": [
        {
          "output_type": "stream",
          "text": [
            "1ts1QJMNy6vuuVAu-Lq-n_lAcVzFb93FN\n"
          ],
          "name": "stdout"
        }
      ]
    },
    {
      "cell_type": "code",
      "metadata": {
        "id": "o4sXRWHoOaEA",
        "colab_type": "code",
        "colab": {}
      },
      "source": [
        "downloaded = drive.CreateFile({'id':id}) \n",
        "downloaded.GetContentFile('NIMS-normalized.arff')"
      ],
      "execution_count": 0,
      "outputs": []
    },
    {
      "cell_type": "code",
      "metadata": {
        "id": "TaYgxEYNOjOw",
        "colab_type": "code",
        "colab": {}
      },
      "source": [
        "from scipy.io import arff\n",
        "\n",
        "data = arff.loadarff('NIMS-normalized.arff')\n",
        "df = pd.DataFrame(data[0])"
      ],
      "execution_count": 0,
      "outputs": []
    },
    {
      "cell_type": "code",
      "metadata": {
        "id": "4OOFtWcEVwnn",
        "colab_type": "code",
        "outputId": "e6981a81-66b8-420e-9ab8-299c2ea5f9ea",
        "colab": {
          "base_uri": "https://localhost:8080/",
          "height": 226
        }
      },
      "source": [
        "df = df[:50000]\n",
        "labels = []\n",
        "for i in df['class'].unique().tolist():\n",
        "    labels.append(str(i))\n",
        "df.drop(['class'], axis = 1)\n",
        "df['Class_Factor'] = df['class'].factorize()[0]\n",
        "df.head()"
      ],
      "execution_count": 6,
      "outputs": [
        {
          "output_type": "execute_result",
          "data": {
            "text/html": [
              "<div>\n",
              "<style scoped>\n",
              "    .dataframe tbody tr th:only-of-type {\n",
              "        vertical-align: middle;\n",
              "    }\n",
              "\n",
              "    .dataframe tbody tr th {\n",
              "        vertical-align: top;\n",
              "    }\n",
              "\n",
              "    .dataframe thead th {\n",
              "        text-align: right;\n",
              "    }\n",
              "</style>\n",
              "<table border=\"1\" class=\"dataframe\">\n",
              "  <thead>\n",
              "    <tr style=\"text-align: right;\">\n",
              "      <th></th>\n",
              "      <th>min_fpktl</th>\n",
              "      <th>mean_fpktl</th>\n",
              "      <th>max_fpktl</th>\n",
              "      <th>std_fpktl</th>\n",
              "      <th>min_bpktl</th>\n",
              "      <th>mean_bpktl</th>\n",
              "      <th>max_bpktl</th>\n",
              "      <th>std_bpktl</th>\n",
              "      <th>min_fiat</th>\n",
              "      <th>mean_fiat</th>\n",
              "      <th>max_fiat</th>\n",
              "      <th>std_fiat</th>\n",
              "      <th>min_biat</th>\n",
              "      <th>mean_biat</th>\n",
              "      <th>max_biat</th>\n",
              "      <th>std_biat</th>\n",
              "      <th>duration</th>\n",
              "      <th>proto</th>\n",
              "      <th>total_fpackets</th>\n",
              "      <th>total_fvolume</th>\n",
              "      <th>total_bpackets</th>\n",
              "      <th>total_bvolume</th>\n",
              "      <th>class</th>\n",
              "      <th>Class_Factor</th>\n",
              "    </tr>\n",
              "  </thead>\n",
              "  <tbody>\n",
              "    <tr>\n",
              "      <th>0</th>\n",
              "      <td>0.000000</td>\n",
              "      <td>0.000593</td>\n",
              "      <td>0.000122</td>\n",
              "      <td>0.000367</td>\n",
              "      <td>0.064062</td>\n",
              "      <td>0.032667</td>\n",
              "      <td>0.045582</td>\n",
              "      <td>0.018614</td>\n",
              "      <td>0.000212</td>\n",
              "      <td>0.022841</td>\n",
              "      <td>0.024289</td>\n",
              "      <td>0.034299</td>\n",
              "      <td>0.000106</td>\n",
              "      <td>0.011792</td>\n",
              "      <td>0.002833</td>\n",
              "      <td>0.011884</td>\n",
              "      <td>0.002152</td>\n",
              "      <td>0.0</td>\n",
              "      <td>0.000012</td>\n",
              "      <td>0.000000</td>\n",
              "      <td>0.000032</td>\n",
              "      <td>0.000002</td>\n",
              "      <td>b'TELNET'</td>\n",
              "      <td>0</td>\n",
              "    </tr>\n",
              "    <tr>\n",
              "      <th>1</th>\n",
              "      <td>0.000000</td>\n",
              "      <td>0.000711</td>\n",
              "      <td>0.000488</td>\n",
              "      <td>0.000490</td>\n",
              "      <td>0.064062</td>\n",
              "      <td>0.040667</td>\n",
              "      <td>0.039584</td>\n",
              "      <td>0.017580</td>\n",
              "      <td>0.000191</td>\n",
              "      <td>0.012860</td>\n",
              "      <td>0.021976</td>\n",
              "      <td>0.032089</td>\n",
              "      <td>0.000124</td>\n",
              "      <td>0.009288</td>\n",
              "      <td>0.006224</td>\n",
              "      <td>0.019656</td>\n",
              "      <td>0.000071</td>\n",
              "      <td>0.0</td>\n",
              "      <td>0.000012</td>\n",
              "      <td>0.000000</td>\n",
              "      <td>0.000034</td>\n",
              "      <td>0.000003</td>\n",
              "      <td>b'FTP'</td>\n",
              "      <td>1</td>\n",
              "    </tr>\n",
              "    <tr>\n",
              "      <th>2</th>\n",
              "      <td>0.020202</td>\n",
              "      <td>0.022048</td>\n",
              "      <td>0.025140</td>\n",
              "      <td>0.025340</td>\n",
              "      <td>0.082812</td>\n",
              "      <td>0.594000</td>\n",
              "      <td>0.600160</td>\n",
              "      <td>0.627715</td>\n",
              "      <td>0.000089</td>\n",
              "      <td>0.010255</td>\n",
              "      <td>0.015281</td>\n",
              "      <td>0.022949</td>\n",
              "      <td>0.000347</td>\n",
              "      <td>0.009130</td>\n",
              "      <td>0.004354</td>\n",
              "      <td>0.016111</td>\n",
              "      <td>0.002042</td>\n",
              "      <td>0.0</td>\n",
              "      <td>0.000015</td>\n",
              "      <td>0.000002</td>\n",
              "      <td>0.000030</td>\n",
              "      <td>0.000039</td>\n",
              "      <td>b'HTTP'</td>\n",
              "      <td>2</td>\n",
              "    </tr>\n",
              "    <tr>\n",
              "      <th>3</th>\n",
              "      <td>0.026936</td>\n",
              "      <td>0.002608</td>\n",
              "      <td>0.000976</td>\n",
              "      <td>0.000490</td>\n",
              "      <td>0.120313</td>\n",
              "      <td>0.114000</td>\n",
              "      <td>0.085566</td>\n",
              "      <td>0.066184</td>\n",
              "      <td>0.138378</td>\n",
              "      <td>0.138378</td>\n",
              "      <td>0.038563</td>\n",
              "      <td>0.000000</td>\n",
              "      <td>0.003322</td>\n",
              "      <td>0.003322</td>\n",
              "      <td>0.000276</td>\n",
              "      <td>0.000000</td>\n",
              "      <td>0.023441</td>\n",
              "      <td>1.0</td>\n",
              "      <td>0.000003</td>\n",
              "      <td>0.000000</td>\n",
              "      <td>0.000009</td>\n",
              "      <td>0.000002</td>\n",
              "      <td>b'DNS'</td>\n",
              "      <td>3</td>\n",
              "    </tr>\n",
              "    <tr>\n",
              "      <th>4</th>\n",
              "      <td>0.102694</td>\n",
              "      <td>0.007231</td>\n",
              "      <td>0.003234</td>\n",
              "      <td>0.000000</td>\n",
              "      <td>0.306250</td>\n",
              "      <td>0.275333</td>\n",
              "      <td>0.253898</td>\n",
              "      <td>0.118925</td>\n",
              "      <td>0.000899</td>\n",
              "      <td>0.038567</td>\n",
              "      <td>0.070267</td>\n",
              "      <td>0.126904</td>\n",
              "      <td>0.001102</td>\n",
              "      <td>0.037950</td>\n",
              "      <td>0.020662</td>\n",
              "      <td>0.093575</td>\n",
              "      <td>0.078102</td>\n",
              "      <td>1.0</td>\n",
              "      <td>0.000022</td>\n",
              "      <td>0.000002</td>\n",
              "      <td>0.000045</td>\n",
              "      <td>0.000027</td>\n",
              "      <td>b'lime'</td>\n",
              "      <td>4</td>\n",
              "    </tr>\n",
              "  </tbody>\n",
              "</table>\n",
              "</div>"
            ],
            "text/plain": [
              "   min_fpktl  mean_fpktl  max_fpktl  ...  total_bvolume      class  Class_Factor\n",
              "0   0.000000    0.000593   0.000122  ...       0.000002  b'TELNET'             0\n",
              "1   0.000000    0.000711   0.000488  ...       0.000003     b'FTP'             1\n",
              "2   0.020202    0.022048   0.025140  ...       0.000039    b'HTTP'             2\n",
              "3   0.026936    0.002608   0.000976  ...       0.000002     b'DNS'             3\n",
              "4   0.102694    0.007231   0.003234  ...       0.000027    b'lime'             4\n",
              "\n",
              "[5 rows x 24 columns]"
            ]
          },
          "metadata": {
            "tags": []
          },
          "execution_count": 6
        }
      ]
    },
    {
      "cell_type": "code",
      "metadata": {
        "id": "DujYco_xWOjt",
        "colab_type": "code",
        "outputId": "f7476ad2-4cc9-4332-984c-f7f5279d1bac",
        "colab": {
          "base_uri": "https://localhost:8080/",
          "height": 479
        }
      },
      "source": [
        "corr_matrix = abs(df.corr(method='pearson'))\n",
        "y=corr_matrix['Class_Factor'].sort_values(ascending=False)\n",
        "print('Correlation between column X and column \\'Class Factor\\'\\n',y)"
      ],
      "execution_count": 7,
      "outputs": [
        {
          "output_type": "stream",
          "text": [
            "Correlation between column X and column 'Class Factor'\n",
            " Class_Factor      1.000000\n",
            "max_fpktl         0.874487\n",
            "std_fpktl         0.874335\n",
            "mean_fpktl        0.874326\n",
            "total_fvolume     0.680311\n",
            "duration          0.553554\n",
            "proto             0.498867\n",
            "max_biat          0.460839\n",
            "total_bpackets    0.449449\n",
            "std_biat          0.369923\n",
            "max_fiat          0.353472\n",
            "total_fpackets    0.352143\n",
            "total_bvolume     0.301724\n",
            "max_bpktl         0.291694\n",
            "std_fiat          0.263235\n",
            "min_fpktl         0.150464\n",
            "mean_biat         0.130406\n",
            "mean_bpktl        0.072702\n",
            "min_biat          0.065878\n",
            "std_bpktl         0.041545\n",
            "min_fiat          0.031310\n",
            "min_bpktl         0.023323\n",
            "mean_fiat         0.001940\n",
            "Name: Class_Factor, dtype: float64\n"
          ],
          "name": "stdout"
        }
      ]
    },
    {
      "cell_type": "code",
      "metadata": {
        "id": "PJ54tg6XWc79",
        "colab_type": "code",
        "outputId": "8ae098fe-6979-4694-a427-550ce1134291",
        "colab": {
          "base_uri": "https://localhost:8080/",
          "height": 54
        }
      },
      "source": [
        "colNames = df.columns.values\n",
        "X = df.reindex(columns=colNames[:22])\n",
        "Y = df['Class_Factor']\n",
        "X_train, X_test, y_train, y_test, indices_train, indices_test = train_test_split(X, Y, df.index, test_size=0.2, random_state=0)\n",
        "print('Data size of training set:',len(X_train))\n",
        "print('Data size of testing set:',len(X_test))"
      ],
      "execution_count": 8,
      "outputs": [
        {
          "output_type": "stream",
          "text": [
            "Data size of training set: 40000\n",
            "Data size of testing set: 10000\n"
          ],
          "name": "stdout"
        }
      ]
    },
    {
      "cell_type": "code",
      "metadata": {
        "id": "lyEtUvEnO5dX",
        "colab_type": "code",
        "colab": {
          "base_uri": "https://localhost:8080/",
          "height": 388
        },
        "outputId": "1747b8f0-dfdc-42fc-c853-27511cb4bb95"
      },
      "source": [
        "import tensorflow as tf\n",
        "feature_columns = [tf.contrib.layers.real_valued_column(\"\", dimension=22)]\n",
        "classifier = tf.contrib.learn.DNNClassifier(feature_columns=feature_columns, hidden_units=[50,100,50],n_classes=11)\n"
      ],
      "execution_count": 9,
      "outputs": [
        {
          "output_type": "stream",
          "text": [
            "WARNING: Logging before flag parsing goes to stderr.\n",
            "W0819 05:15:49.999992 140210137405312 lazy_loader.py:50] \n",
            "The TensorFlow contrib module will not be included in TensorFlow 2.0.\n",
            "For more information, please see:\n",
            "  * https://github.com/tensorflow/community/blob/master/rfcs/20180907-contrib-sunset.md\n",
            "  * https://github.com/tensorflow/addons\n",
            "  * https://github.com/tensorflow/io (for I/O related ops)\n",
            "If you depend on functionality not listed there, please file an issue.\n",
            "\n",
            "W0819 05:15:50.001672 140210137405312 deprecation.py:323] From /usr/local/lib/python3.6/dist-packages/tensorflow/contrib/learn/python/learn/estimators/dnn.py:378: multi_class_head (from tensorflow.contrib.learn.python.learn.estimators.head) is deprecated and will be removed in a future version.\n",
            "Instructions for updating:\n",
            "Please switch to tf.contrib.estimator.*_head.\n",
            "W0819 05:15:50.005105 140210137405312 deprecation.py:323] From /usr/local/lib/python3.6/dist-packages/tensorflow/contrib/learn/python/learn/estimators/estimator.py:1179: BaseEstimator.__init__ (from tensorflow.contrib.learn.python.learn.estimators.estimator) is deprecated and will be removed in a future version.\n",
            "Instructions for updating:\n",
            "Please replace uses of any Estimator from tf.contrib.learn with an Estimator from tf.estimator.*\n",
            "W0819 05:15:50.010213 140210137405312 deprecation.py:323] From /usr/local/lib/python3.6/dist-packages/tensorflow/contrib/learn/python/learn/estimators/estimator.py:427: RunConfig.__init__ (from tensorflow.contrib.learn.python.learn.estimators.run_config) is deprecated and will be removed in a future version.\n",
            "Instructions for updating:\n",
            "When switching to tf.estimator.Estimator, use tf.estimator.RunConfig instead.\n",
            "W0819 05:15:50.012434 140210137405312 estimator.py:453] Using temporary folder as model directory: /tmp/tmp7y2z3rhz\n"
          ],
          "name": "stderr"
        }
      ]
    },
    {
      "cell_type": "code",
      "metadata": {
        "id": "cZKbfO2RP7My",
        "colab_type": "code",
        "colab": {
          "base_uri": "https://localhost:8080/",
          "height": 277
        },
        "outputId": "1f5f00ad-4f1e-4e0d-d6d3-28cd59ff6155"
      },
      "source": [
        "def get_train_inputs():\n",
        "    x = tf.constant(X_train)\n",
        "    y = tf.constant(y_train)\n",
        "    return x,y\n",
        "\n",
        "def get_test_inputs():\n",
        "    x = tf.constant(X_test)\n",
        "    y = tf.constant(y_test)\n",
        "    return x, y\n",
        "# Fit model.\n",
        "classifier.fit(input_fn=get_train_inputs, steps=2000)\n"
      ],
      "execution_count": 10,
      "outputs": [
        {
          "output_type": "stream",
          "text": [
            "W0819 05:15:50.092205 140210137405312 deprecation.py:323] From /usr/local/lib/python3.6/dist-packages/tensorflow/python/training/training_util.py:236: Variable.initialized_value (from tensorflow.python.ops.variables) is deprecated and will be removed in a future version.\n",
            "Instructions for updating:\n",
            "Use Variable.read_value. Variables in 2.X are initialized automatically both in eager and graph (inside tf.defun) contexts.\n",
            "W0819 05:15:50.780234 140210137405312 deprecation.py:506] From /usr/local/lib/python3.6/dist-packages/tensorflow/python/training/adagrad.py:76: calling Constant.__init__ (from tensorflow.python.ops.init_ops) with dtype is deprecated and will be removed in a future version.\n",
            "Instructions for updating:\n",
            "Call initializer instance with the dtype argument instead of passing it to the constructor\n",
            "W0819 05:15:50.925914 140210137405312 deprecation.py:323] From /usr/local/lib/python3.6/dist-packages/tensorflow/contrib/learn/python/learn/estimators/head.py:678: ModelFnOps.__new__ (from tensorflow.contrib.learn.python.learn.estimators.model_fn) is deprecated and will be removed in a future version.\n",
            "Instructions for updating:\n",
            "When switching to tf.estimator.Estimator, use tf.estimator.EstimatorSpec. You can use the `estimator_spec` method to create an equivalent one.\n",
            "W0819 05:15:51.080111 140210137405312 deprecation.py:323] From /usr/local/lib/python3.6/dist-packages/tensorflow/python/ops/array_ops.py:1354: add_dispatch_support.<locals>.wrapper (from tensorflow.python.ops.array_ops) is deprecated and will be removed in a future version.\n",
            "Instructions for updating:\n",
            "Use tf.where in 2.0, which has the same broadcast rule as np.where\n"
          ],
          "name": "stderr"
        },
        {
          "output_type": "execute_result",
          "data": {
            "text/plain": [
              "DNNClassifier(params={'head': <tensorflow.contrib.learn.python.learn.estimators.head._MultiClassHead object at 0x7f85088ee898>, 'hidden_units': [50, 100, 50], 'feature_columns': (_RealValuedColumn(column_name='', dimension=22, default_value=None, dtype=tf.float32, normalizer=None),), 'optimizer': None, 'activation_fn': <function relu at 0x7f8504981598>, 'dropout': None, 'gradient_clip_norm': None, 'embedding_lr_multipliers': None, 'input_layer_min_slice_size': None})"
            ]
          },
          "metadata": {
            "tags": []
          },
          "execution_count": 10
        }
      ]
    },
    {
      "cell_type": "code",
      "metadata": {
        "id": "ciyQ0NbbSo1h",
        "colab_type": "code",
        "colab": {
          "base_uri": "https://localhost:8080/",
          "height": 148
        },
        "outputId": "3f54a61f-712b-4eef-8d23-444452f9957c"
      },
      "source": [
        "# Evaluate accuracy.\n",
        "accuracy_score = classifier.evaluate(input_fn=get_test_inputs,steps=1)[\"accuracy\"]\n",
        "\n",
        "print(\"\\nTest Accuracy: {0:f}%\\n\".format(accuracy_score*100))"
      ],
      "execution_count": 11,
      "outputs": [
        {
          "output_type": "stream",
          "text": [
            "W0819 05:19:41.565090 140210137405312 deprecation.py:323] From /usr/local/lib/python3.6/dist-packages/tensorflow/python/training/saver.py:1276: checkpoint_exists (from tensorflow.python.training.checkpoint_management) is deprecated and will be removed in a future version.\n",
            "Instructions for updating:\n",
            "Use standard file APIs to check for files with this prefix.\n"
          ],
          "name": "stderr"
        },
        {
          "output_type": "stream",
          "text": [
            "\n",
            "Test Accuracy: 97.780001%\n",
            "\n"
          ],
          "name": "stdout"
        }
      ]
    },
    {
      "cell_type": "code",
      "metadata": {
        "id": "hwJD4avkNaWC",
        "colab_type": "code",
        "outputId": "cc96c446-71ee-4fe4-dd68-2e9129272a15",
        "colab": {
          "base_uri": "https://localhost:8080/",
          "height": 35
        }
      },
      "source": [
        "#NN Classifier : DenseNet\n",
        "from keras.models import Sequential\n",
        "from keras.layers import Flatten, Conv1D, MaxPooling1D, Dropout, Dense\n",
        "from keras.wrappers.scikit_learn import KerasRegressor\n",
        "from sklearn.model_selection import cross_val_score"
      ],
      "execution_count": 12,
      "outputs": [
        {
          "output_type": "stream",
          "text": [
            "Using TensorFlow backend.\n"
          ],
          "name": "stderr"
        }
      ]
    },
    {
      "cell_type": "code",
      "metadata": {
        "id": "gUOWT3AJI71w",
        "colab_type": "code",
        "outputId": "4eed166b-0d86-4558-a097-129b2a595798",
        "colab": {
          "base_uri": "https://localhost:8080/",
          "height": 388
        }
      },
      "source": [
        "# Define model\n",
        "model = Sequential()\n",
        "model.add(Dense(100, input_dim=22, activation= \"relu\"))\n",
        "model.add(Dense(50, activation= \"relu\"))\n",
        "model.add(Dense(1))\n",
        "model.summary() #Print model Summary"
      ],
      "execution_count": 13,
      "outputs": [
        {
          "output_type": "stream",
          "text": [
            "W0819 05:19:41.914918 140210137405312 deprecation_wrapper.py:119] From /usr/local/lib/python3.6/dist-packages/keras/backend/tensorflow_backend.py:74: The name tf.get_default_graph is deprecated. Please use tf.compat.v1.get_default_graph instead.\n",
            "\n",
            "W0819 05:19:41.918972 140210137405312 deprecation_wrapper.py:119] From /usr/local/lib/python3.6/dist-packages/keras/backend/tensorflow_backend.py:517: The name tf.placeholder is deprecated. Please use tf.compat.v1.placeholder instead.\n",
            "\n",
            "W0819 05:19:41.923650 140210137405312 deprecation_wrapper.py:119] From /usr/local/lib/python3.6/dist-packages/keras/backend/tensorflow_backend.py:4138: The name tf.random_uniform is deprecated. Please use tf.random.uniform instead.\n",
            "\n"
          ],
          "name": "stderr"
        },
        {
          "output_type": "stream",
          "text": [
            "_________________________________________________________________\n",
            "Layer (type)                 Output Shape              Param #   \n",
            "=================================================================\n",
            "dense_1 (Dense)              (None, 100)               2300      \n",
            "_________________________________________________________________\n",
            "dense_2 (Dense)              (None, 50)                5050      \n",
            "_________________________________________________________________\n",
            "dense_3 (Dense)              (None, 1)                 51        \n",
            "=================================================================\n",
            "Total params: 7,401\n",
            "Trainable params: 7,401\n",
            "Non-trainable params: 0\n",
            "_________________________________________________________________\n"
          ],
          "name": "stdout"
        }
      ]
    },
    {
      "cell_type": "code",
      "metadata": {
        "id": "gfKrkb9iuyye",
        "colab_type": "code",
        "colab": {
          "base_uri": "https://localhost:8080/",
          "height": 74
        },
        "outputId": "cbebcd58-90e2-4f3f-9995-4688b51aba64"
      },
      "source": [
        "# Compile model\n",
        "model.compile(loss= \"mean_squared_error\" , optimizer=\"adam\", metrics=[\"accuracy\"])\n",
        "             "
      ],
      "execution_count": 14,
      "outputs": [
        {
          "output_type": "stream",
          "text": [
            "W0819 05:19:41.982524 140210137405312 deprecation_wrapper.py:119] From /usr/local/lib/python3.6/dist-packages/keras/optimizers.py:790: The name tf.train.Optimizer is deprecated. Please use tf.compat.v1.train.Optimizer instead.\n",
            "\n"
          ],
          "name": "stderr"
        }
      ]
    },
    {
      "cell_type": "code",
      "metadata": {
        "id": "nhVfaXTZwooa",
        "colab_type": "code",
        "outputId": "2a69a037-a160-496a-f51a-6ce977dc3c97",
        "colab": {
          "base_uri": "https://localhost:8080/",
          "height": 481
        }
      },
      "source": [
        "# Fit Model\n",
        "model.fit(X_train, y_train, epochs=10)\n",
        "pred=model.predict(X_test)"
      ],
      "execution_count": 15,
      "outputs": [
        {
          "output_type": "stream",
          "text": [
            "W0819 05:19:42.305750 140210137405312 deprecation_wrapper.py:119] From /usr/local/lib/python3.6/dist-packages/keras/backend/tensorflow_backend.py:986: The name tf.assign_add is deprecated. Please use tf.compat.v1.assign_add instead.\n",
            "\n",
            "W0819 05:19:42.402404 140210137405312 deprecation_wrapper.py:119] From /usr/local/lib/python3.6/dist-packages/keras/backend/tensorflow_backend.py:973: The name tf.assign is deprecated. Please use tf.compat.v1.assign instead.\n",
            "\n"
          ],
          "name": "stderr"
        },
        {
          "output_type": "stream",
          "text": [
            "Epoch 1/10\n",
            "40000/40000 [==============================] - 2s 44us/step - loss: 0.3260 - acc: 0.9265\n",
            "Epoch 2/10\n",
            "40000/40000 [==============================] - 1s 37us/step - loss: 0.0272 - acc: 0.9784\n",
            "Epoch 3/10\n",
            "40000/40000 [==============================] - 1s 37us/step - loss: 0.0211 - acc: 0.9836\n",
            "Epoch 4/10\n",
            "40000/40000 [==============================] - 2s 38us/step - loss: 0.0182 - acc: 0.9863\n",
            "Epoch 5/10\n",
            "40000/40000 [==============================] - 2s 40us/step - loss: 0.0159 - acc: 0.9874\n",
            "Epoch 6/10\n",
            "40000/40000 [==============================] - 2s 39us/step - loss: 0.0144 - acc: 0.9894\n",
            "Epoch 7/10\n",
            "40000/40000 [==============================] - 2s 38us/step - loss: 0.0134 - acc: 0.9903\n",
            "Epoch 8/10\n",
            "40000/40000 [==============================] - 2s 39us/step - loss: 0.0129 - acc: 0.9909\n",
            "Epoch 9/10\n",
            "40000/40000 [==============================] - 2s 39us/step - loss: 0.0120 - acc: 0.9910\n",
            "Epoch 10/10\n",
            "40000/40000 [==============================] - 2s 38us/step - loss: 0.0116 - acc: 0.9913\n"
          ],
          "name": "stdout"
        }
      ]
    },
    {
      "cell_type": "code",
      "metadata": {
        "id": "_4FFFlx-yJF_",
        "colab_type": "code",
        "outputId": "3b32f840-1971-4dfa-ab8c-3b9167941854",
        "colab": {
          "base_uri": "https://localhost:8080/",
          "height": 35
        }
      },
      "source": [
        "scores = model.evaluate(X_test, y_test, verbose=0)\n",
        "print(\"%s: %.2f%%\" % (model.metrics_names[1], scores[1]*100))"
      ],
      "execution_count": 16,
      "outputs": [
        {
          "output_type": "stream",
          "text": [
            "acc: 99.25%\n"
          ],
          "name": "stdout"
        }
      ]
    },
    {
      "cell_type": "markdown",
      "metadata": {
        "id": "hKImn4s5Gtl2",
        "colab_type": "text"
      },
      "source": [
        ""
      ]
    }
  ]
}