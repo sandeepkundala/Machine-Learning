{
  "nbformat": 4,
  "nbformat_minor": 0,
  "metadata": {
    "colab": {
      "name": "Untitled2.ipynb",
      "version": "0.3.2",
      "provenance": [],
      "collapsed_sections": [],
      "include_colab_link": true
    },
    "kernelspec": {
      "name": "python3",
      "display_name": "Python 3"
    }
  },
  "cells": [
    {
      "cell_type": "markdown",
      "metadata": {
        "id": "view-in-github",
        "colab_type": "text"
      },
      "source": [
        "<a href=\"https://colab.research.google.com/github/sandeepkundala/Machine-Learning/blob/master/TrafficClassification3.ipynb\" target=\"_parent\"><img src=\"https://colab.research.google.com/assets/colab-badge.svg\" alt=\"Open In Colab\"/></a>"
      ]
    },
    {
      "cell_type": "code",
      "metadata": {
        "id": "iV5WaMG4PN7n",
        "colab_type": "code",
        "outputId": "e1361a88-e327-4224-de7c-c17a9b77dc3e",
        "colab": {
          "base_uri": "https://localhost:8080/",
          "height": 374
        }
      },
      "source": [
        "import sys\n",
        "!{sys.executable} -m pip install matplotlib\n",
        "!{sys.executable} -m pip install pandas\n",
        "!{sys.executable} -m pip install scikit-learn\n",
        "!{sys.executable} -m pip install graphviz\n",
        "!{sys.executable} -m pip install xgboost\n",
        "\n",
        "# import all necessary packages\n",
        "import matplotlib.pyplot as plt # plotting\n",
        "import pandas as pd # data processing, CSV file I/O (e.g. pd.read_csv)\n",
        "from sklearn.model_selection import train_test_split\n",
        "from sklearn import metrics\n",
        "from sklearn.neighbors import KNeighborsClassifier"
      ],
      "execution_count": 1,
      "outputs": [
        {
          "output_type": "stream",
          "text": [
            "Requirement already satisfied: matplotlib in /usr/local/lib/python3.6/dist-packages (3.0.3)\n",
            "Requirement already satisfied: pyparsing!=2.0.4,!=2.1.2,!=2.1.6,>=2.0.1 in /usr/local/lib/python3.6/dist-packages (from matplotlib) (2.4.2)\n",
            "Requirement already satisfied: kiwisolver>=1.0.1 in /usr/local/lib/python3.6/dist-packages (from matplotlib) (1.1.0)\n",
            "Requirement already satisfied: cycler>=0.10 in /usr/local/lib/python3.6/dist-packages (from matplotlib) (0.10.0)\n",
            "Requirement already satisfied: numpy>=1.10.0 in /usr/local/lib/python3.6/dist-packages (from matplotlib) (1.16.4)\n",
            "Requirement already satisfied: python-dateutil>=2.1 in /usr/local/lib/python3.6/dist-packages (from matplotlib) (2.5.3)\n",
            "Requirement already satisfied: setuptools in /usr/local/lib/python3.6/dist-packages (from kiwisolver>=1.0.1->matplotlib) (41.0.1)\n",
            "Requirement already satisfied: six in /usr/local/lib/python3.6/dist-packages (from cycler>=0.10->matplotlib) (1.12.0)\n",
            "Requirement already satisfied: pandas in /usr/local/lib/python3.6/dist-packages (0.24.2)\n",
            "Requirement already satisfied: pytz>=2011k in /usr/local/lib/python3.6/dist-packages (from pandas) (2018.9)\n",
            "Requirement already satisfied: python-dateutil>=2.5.0 in /usr/local/lib/python3.6/dist-packages (from pandas) (2.5.3)\n",
            "Requirement already satisfied: numpy>=1.12.0 in /usr/local/lib/python3.6/dist-packages (from pandas) (1.16.4)\n",
            "Requirement already satisfied: six>=1.5 in /usr/local/lib/python3.6/dist-packages (from python-dateutil>=2.5.0->pandas) (1.12.0)\n",
            "Requirement already satisfied: scikit-learn in /usr/local/lib/python3.6/dist-packages (0.21.3)\n",
            "Requirement already satisfied: joblib>=0.11 in /usr/local/lib/python3.6/dist-packages (from scikit-learn) (0.13.2)\n",
            "Requirement already satisfied: numpy>=1.11.0 in /usr/local/lib/python3.6/dist-packages (from scikit-learn) (1.16.4)\n",
            "Requirement already satisfied: scipy>=0.17.0 in /usr/local/lib/python3.6/dist-packages (from scikit-learn) (1.3.1)\n",
            "Requirement already satisfied: graphviz in /usr/local/lib/python3.6/dist-packages (0.10.1)\n",
            "Requirement already satisfied: xgboost in /usr/local/lib/python3.6/dist-packages (0.90)\n",
            "Requirement already satisfied: numpy in /usr/local/lib/python3.6/dist-packages (from xgboost) (1.16.4)\n",
            "Requirement already satisfied: scipy in /usr/local/lib/python3.6/dist-packages (from xgboost) (1.3.1)\n"
          ],
          "name": "stdout"
        }
      ]
    },
    {
      "cell_type": "code",
      "metadata": {
        "id": "amaQg8t1Br9P",
        "colab_type": "code",
        "colab": {}
      },
      "source": [
        "!pip install -U -q PyDrive\n",
        "from pydrive.auth import GoogleAuth\n",
        "from pydrive.drive import GoogleDrive\n",
        "from google.colab import auth\n",
        "from oauth2client.client import GoogleCredentials\n",
        "\n",
        "# Authenticate and create the PyDrive client.\n",
        "auth.authenticate_user()\n",
        "gauth = GoogleAuth()\n",
        "gauth.credentials = GoogleCredentials.get_application_default()\n",
        "drive = GoogleDrive(gauth)"
      ],
      "execution_count": 0,
      "outputs": []
    },
    {
      "cell_type": "code",
      "metadata": {
        "id": "zyuwgpC2Hfb3",
        "colab_type": "code",
        "outputId": "983abc2d-d211-499c-c5f1-a1fdcea006bc",
        "colab": {
          "base_uri": "https://localhost:8080/",
          "height": 34
        }
      },
      "source": [
        "link = 'https://drive.google.com/open?id=1ts1QJMNy6vuuVAu-Lq-n_lAcVzFb93FN'\n",
        "fluff, id = link.split('=')\n",
        "print(id)"
      ],
      "execution_count": 3,
      "outputs": [
        {
          "output_type": "stream",
          "text": [
            "1ts1QJMNy6vuuVAu-Lq-n_lAcVzFb93FN\n"
          ],
          "name": "stdout"
        }
      ]
    },
    {
      "cell_type": "code",
      "metadata": {
        "id": "o4sXRWHoOaEA",
        "colab_type": "code",
        "colab": {}
      },
      "source": [
        "downloaded = drive.CreateFile({'id':id}) \n",
        "downloaded.GetContentFile('NIMS-normalized.arff')"
      ],
      "execution_count": 0,
      "outputs": []
    },
    {
      "cell_type": "code",
      "metadata": {
        "id": "TaYgxEYNOjOw",
        "colab_type": "code",
        "colab": {}
      },
      "source": [
        "from scipy.io import arff\n",
        "\n",
        "data = arff.loadarff('NIMS-normalized.arff')\n",
        "df = pd.DataFrame(data[0])"
      ],
      "execution_count": 0,
      "outputs": []
    },
    {
      "cell_type": "code",
      "metadata": {
        "id": "4OOFtWcEVwnn",
        "colab_type": "code",
        "outputId": "4e4db73f-bd6e-4a36-c0ff-ed961168ea02",
        "colab": {
          "base_uri": "https://localhost:8080/",
          "height": 224
        }
      },
      "source": [
        "df = df[:50000]\n",
        "labels = []\n",
        "for i in df['class'].unique().tolist():\n",
        "    labels.append(str(i))\n",
        "df.drop(['class'], axis = 1)\n",
        "df['Class_Factor'] = df['class'].factorize()[0]\n",
        "df.head()"
      ],
      "execution_count": 6,
      "outputs": [
        {
          "output_type": "execute_result",
          "data": {
            "text/html": [
              "<div>\n",
              "<style scoped>\n",
              "    .dataframe tbody tr th:only-of-type {\n",
              "        vertical-align: middle;\n",
              "    }\n",
              "\n",
              "    .dataframe tbody tr th {\n",
              "        vertical-align: top;\n",
              "    }\n",
              "\n",
              "    .dataframe thead th {\n",
              "        text-align: right;\n",
              "    }\n",
              "</style>\n",
              "<table border=\"1\" class=\"dataframe\">\n",
              "  <thead>\n",
              "    <tr style=\"text-align: right;\">\n",
              "      <th></th>\n",
              "      <th>min_fpktl</th>\n",
              "      <th>mean_fpktl</th>\n",
              "      <th>max_fpktl</th>\n",
              "      <th>std_fpktl</th>\n",
              "      <th>min_bpktl</th>\n",
              "      <th>mean_bpktl</th>\n",
              "      <th>max_bpktl</th>\n",
              "      <th>std_bpktl</th>\n",
              "      <th>min_fiat</th>\n",
              "      <th>mean_fiat</th>\n",
              "      <th>max_fiat</th>\n",
              "      <th>std_fiat</th>\n",
              "      <th>min_biat</th>\n",
              "      <th>mean_biat</th>\n",
              "      <th>max_biat</th>\n",
              "      <th>std_biat</th>\n",
              "      <th>duration</th>\n",
              "      <th>proto</th>\n",
              "      <th>total_fpackets</th>\n",
              "      <th>total_fvolume</th>\n",
              "      <th>total_bpackets</th>\n",
              "      <th>total_bvolume</th>\n",
              "      <th>class</th>\n",
              "      <th>Class_Factor</th>\n",
              "    </tr>\n",
              "  </thead>\n",
              "  <tbody>\n",
              "    <tr>\n",
              "      <th>0</th>\n",
              "      <td>0.000000</td>\n",
              "      <td>0.000593</td>\n",
              "      <td>0.000122</td>\n",
              "      <td>0.000367</td>\n",
              "      <td>0.064062</td>\n",
              "      <td>0.032667</td>\n",
              "      <td>0.045582</td>\n",
              "      <td>0.018614</td>\n",
              "      <td>0.000212</td>\n",
              "      <td>0.022841</td>\n",
              "      <td>0.024289</td>\n",
              "      <td>0.034299</td>\n",
              "      <td>0.000106</td>\n",
              "      <td>0.011792</td>\n",
              "      <td>0.002833</td>\n",
              "      <td>0.011884</td>\n",
              "      <td>0.002152</td>\n",
              "      <td>0.0</td>\n",
              "      <td>0.000012</td>\n",
              "      <td>0.000000</td>\n",
              "      <td>0.000032</td>\n",
              "      <td>0.000002</td>\n",
              "      <td>b'TELNET'</td>\n",
              "      <td>0</td>\n",
              "    </tr>\n",
              "    <tr>\n",
              "      <th>1</th>\n",
              "      <td>0.000000</td>\n",
              "      <td>0.000711</td>\n",
              "      <td>0.000488</td>\n",
              "      <td>0.000490</td>\n",
              "      <td>0.064062</td>\n",
              "      <td>0.040667</td>\n",
              "      <td>0.039584</td>\n",
              "      <td>0.017580</td>\n",
              "      <td>0.000191</td>\n",
              "      <td>0.012860</td>\n",
              "      <td>0.021976</td>\n",
              "      <td>0.032089</td>\n",
              "      <td>0.000124</td>\n",
              "      <td>0.009288</td>\n",
              "      <td>0.006224</td>\n",
              "      <td>0.019656</td>\n",
              "      <td>0.000071</td>\n",
              "      <td>0.0</td>\n",
              "      <td>0.000012</td>\n",
              "      <td>0.000000</td>\n",
              "      <td>0.000034</td>\n",
              "      <td>0.000003</td>\n",
              "      <td>b'FTP'</td>\n",
              "      <td>1</td>\n",
              "    </tr>\n",
              "    <tr>\n",
              "      <th>2</th>\n",
              "      <td>0.020202</td>\n",
              "      <td>0.022048</td>\n",
              "      <td>0.025140</td>\n",
              "      <td>0.025340</td>\n",
              "      <td>0.082812</td>\n",
              "      <td>0.594000</td>\n",
              "      <td>0.600160</td>\n",
              "      <td>0.627715</td>\n",
              "      <td>0.000089</td>\n",
              "      <td>0.010255</td>\n",
              "      <td>0.015281</td>\n",
              "      <td>0.022949</td>\n",
              "      <td>0.000347</td>\n",
              "      <td>0.009130</td>\n",
              "      <td>0.004354</td>\n",
              "      <td>0.016111</td>\n",
              "      <td>0.002042</td>\n",
              "      <td>0.0</td>\n",
              "      <td>0.000015</td>\n",
              "      <td>0.000002</td>\n",
              "      <td>0.000030</td>\n",
              "      <td>0.000039</td>\n",
              "      <td>b'HTTP'</td>\n",
              "      <td>2</td>\n",
              "    </tr>\n",
              "    <tr>\n",
              "      <th>3</th>\n",
              "      <td>0.026936</td>\n",
              "      <td>0.002608</td>\n",
              "      <td>0.000976</td>\n",
              "      <td>0.000490</td>\n",
              "      <td>0.120313</td>\n",
              "      <td>0.114000</td>\n",
              "      <td>0.085566</td>\n",
              "      <td>0.066184</td>\n",
              "      <td>0.138378</td>\n",
              "      <td>0.138378</td>\n",
              "      <td>0.038563</td>\n",
              "      <td>0.000000</td>\n",
              "      <td>0.003322</td>\n",
              "      <td>0.003322</td>\n",
              "      <td>0.000276</td>\n",
              "      <td>0.000000</td>\n",
              "      <td>0.023441</td>\n",
              "      <td>1.0</td>\n",
              "      <td>0.000003</td>\n",
              "      <td>0.000000</td>\n",
              "      <td>0.000009</td>\n",
              "      <td>0.000002</td>\n",
              "      <td>b'DNS'</td>\n",
              "      <td>3</td>\n",
              "    </tr>\n",
              "    <tr>\n",
              "      <th>4</th>\n",
              "      <td>0.102694</td>\n",
              "      <td>0.007231</td>\n",
              "      <td>0.003234</td>\n",
              "      <td>0.000000</td>\n",
              "      <td>0.306250</td>\n",
              "      <td>0.275333</td>\n",
              "      <td>0.253898</td>\n",
              "      <td>0.118925</td>\n",
              "      <td>0.000899</td>\n",
              "      <td>0.038567</td>\n",
              "      <td>0.070267</td>\n",
              "      <td>0.126904</td>\n",
              "      <td>0.001102</td>\n",
              "      <td>0.037950</td>\n",
              "      <td>0.020662</td>\n",
              "      <td>0.093575</td>\n",
              "      <td>0.078102</td>\n",
              "      <td>1.0</td>\n",
              "      <td>0.000022</td>\n",
              "      <td>0.000002</td>\n",
              "      <td>0.000045</td>\n",
              "      <td>0.000027</td>\n",
              "      <td>b'lime'</td>\n",
              "      <td>4</td>\n",
              "    </tr>\n",
              "  </tbody>\n",
              "</table>\n",
              "</div>"
            ],
            "text/plain": [
              "   min_fpktl  mean_fpktl  max_fpktl  ...  total_bvolume      class  Class_Factor\n",
              "0   0.000000    0.000593   0.000122  ...       0.000002  b'TELNET'             0\n",
              "1   0.000000    0.000711   0.000488  ...       0.000003     b'FTP'             1\n",
              "2   0.020202    0.022048   0.025140  ...       0.000039    b'HTTP'             2\n",
              "3   0.026936    0.002608   0.000976  ...       0.000002     b'DNS'             3\n",
              "4   0.102694    0.007231   0.003234  ...       0.000027    b'lime'             4\n",
              "\n",
              "[5 rows x 24 columns]"
            ]
          },
          "metadata": {
            "tags": []
          },
          "execution_count": 6
        }
      ]
    },
    {
      "cell_type": "code",
      "metadata": {
        "id": "DujYco_xWOjt",
        "colab_type": "code",
        "outputId": "f315b1a8-2170-4549-b69d-999a136ff5d7",
        "colab": {
          "base_uri": "https://localhost:8080/",
          "height": 442
        }
      },
      "source": [
        "corr_matrix = abs(df.corr(method='pearson'))\n",
        "y=corr_matrix['Class_Factor'].sort_values(ascending=False)\n",
        "print('Correlation between column X and column \\'Class Factor\\'\\n',y)"
      ],
      "execution_count": 7,
      "outputs": [
        {
          "output_type": "stream",
          "text": [
            "Correlation between column X and column 'Class Factor'\n",
            " Class_Factor      1.000000\n",
            "max_fpktl         0.874487\n",
            "std_fpktl         0.874335\n",
            "mean_fpktl        0.874326\n",
            "total_fvolume     0.680311\n",
            "duration          0.553554\n",
            "proto             0.498867\n",
            "max_biat          0.460839\n",
            "total_bpackets    0.449449\n",
            "std_biat          0.369923\n",
            "max_fiat          0.353472\n",
            "total_fpackets    0.352143\n",
            "total_bvolume     0.301724\n",
            "max_bpktl         0.291694\n",
            "std_fiat          0.263235\n",
            "min_fpktl         0.150464\n",
            "mean_biat         0.130406\n",
            "mean_bpktl        0.072702\n",
            "min_biat          0.065878\n",
            "std_bpktl         0.041545\n",
            "min_fiat          0.031310\n",
            "min_bpktl         0.023323\n",
            "mean_fiat         0.001940\n",
            "Name: Class_Factor, dtype: float64\n"
          ],
          "name": "stdout"
        }
      ]
    },
    {
      "cell_type": "code",
      "metadata": {
        "id": "PJ54tg6XWc79",
        "colab_type": "code",
        "outputId": "bda01d71-6003-4cab-9de2-eb83cb5cb67e",
        "colab": {
          "base_uri": "https://localhost:8080/",
          "height": 51
        }
      },
      "source": [
        "colNames = df.columns.values\n",
        "X = df.reindex(columns=colNames[:22])\n",
        "Y = df['Class_Factor']\n",
        "X_train, X_test, y_train, y_test, indices_train, indices_test = train_test_split(X, Y, df.index, test_size=0.2, random_state=0)\n",
        "print('Data size of training set:',len(X_train))\n",
        "print('Data size of testing set:',len(X_test))"
      ],
      "execution_count": 8,
      "outputs": [
        {
          "output_type": "stream",
          "text": [
            "Data size of training set: 40000\n",
            "Data size of testing set: 10000\n"
          ],
          "name": "stdout"
        }
      ]
    },
    {
      "cell_type": "code",
      "metadata": {
        "id": "hwJD4avkNaWC",
        "colab_type": "code",
        "colab": {
          "base_uri": "https://localhost:8080/",
          "height": 34
        },
        "outputId": "ecdd716e-3acd-4912-af6b-3d39a0a4596f"
      },
      "source": [
        "#NN Classifier \n",
        "from keras.models import Sequential\n",
        "from keras.layers import Flatten, Conv1D, MaxPooling1D, Dropout, Dense\n",
        "from keras.wrappers.scikit_learn import KerasRegressor\n",
        "from sklearn.model_selection import cross_val_score"
      ],
      "execution_count": 16,
      "outputs": [
        {
          "output_type": "stream",
          "text": [
            "Using TensorFlow backend.\n"
          ],
          "name": "stderr"
        }
      ]
    },
    {
      "cell_type": "code",
      "metadata": {
        "id": "gUOWT3AJI71w",
        "colab_type": "code",
        "outputId": "53238eda-06d5-4ce3-b563-334a77f494e7",
        "colab": {
          "base_uri": "https://localhost:8080/",
          "height": 377
        }
      },
      "source": [
        "# Define model\n",
        "model = Sequential()\n",
        "model.add(Dense(100, input_dim=22, activation= \"relu\"))\n",
        "model.add(Dense(50, activation= \"relu\"))\n",
        "model.add(Dense(1))\n",
        "model.summary() #Print model Summary"
      ],
      "execution_count": 17,
      "outputs": [
        {
          "output_type": "stream",
          "text": [
            "WARNING: Logging before flag parsing goes to stderr.\n",
            "W0817 23:02:25.804463 140255885637504 deprecation_wrapper.py:119] From /usr/local/lib/python3.6/dist-packages/keras/backend/tensorflow_backend.py:74: The name tf.get_default_graph is deprecated. Please use tf.compat.v1.get_default_graph instead.\n",
            "\n",
            "W0817 23:02:25.828742 140255885637504 deprecation_wrapper.py:119] From /usr/local/lib/python3.6/dist-packages/keras/backend/tensorflow_backend.py:517: The name tf.placeholder is deprecated. Please use tf.compat.v1.placeholder instead.\n",
            "\n",
            "W0817 23:02:25.831872 140255885637504 deprecation_wrapper.py:119] From /usr/local/lib/python3.6/dist-packages/keras/backend/tensorflow_backend.py:4138: The name tf.random_uniform is deprecated. Please use tf.random.uniform instead.\n",
            "\n"
          ],
          "name": "stderr"
        },
        {
          "output_type": "stream",
          "text": [
            "_________________________________________________________________\n",
            "Layer (type)                 Output Shape              Param #   \n",
            "=================================================================\n",
            "dense_1 (Dense)              (None, 100)               2300      \n",
            "_________________________________________________________________\n",
            "dense_2 (Dense)              (None, 50)                5050      \n",
            "_________________________________________________________________\n",
            "dense_3 (Dense)              (None, 1)                 51        \n",
            "=================================================================\n",
            "Total params: 7,401\n",
            "Trainable params: 7,401\n",
            "Non-trainable params: 0\n",
            "_________________________________________________________________\n"
          ],
          "name": "stdout"
        }
      ]
    },
    {
      "cell_type": "code",
      "metadata": {
        "id": "gfKrkb9iuyye",
        "colab_type": "code",
        "colab": {}
      },
      "source": [
        "# Compile model\n",
        "model.compile(loss= \"mean_squared_error\" , optimizer=\"adam\", metrics=[\"accuracy\"])\n",
        "             "
      ],
      "execution_count": 0,
      "outputs": []
    },
    {
      "cell_type": "code",
      "metadata": {
        "id": "nhVfaXTZwooa",
        "colab_type": "code",
        "colab": {
          "base_uri": "https://localhost:8080/",
          "height": 357
        },
        "outputId": "e6a06e2f-2371-4f74-ef20-76503b178e6d"
      },
      "source": [
        "# Fit Model\n",
        "model.fit(X_train, y_train, epochs=10)\n",
        "pred=model.predict(X_test)"
      ],
      "execution_count": 23,
      "outputs": [
        {
          "output_type": "stream",
          "text": [
            "Epoch 1/10\n",
            "40000/40000 [==============================] - 2s 52us/step - loss: 0.4930 - acc: 0.9166\n",
            "Epoch 2/10\n",
            "40000/40000 [==============================] - 2s 40us/step - loss: 0.0332 - acc: 0.9754\n",
            "Epoch 3/10\n",
            "40000/40000 [==============================] - 2s 39us/step - loss: 0.0264 - acc: 0.9798\n",
            "Epoch 4/10\n",
            "40000/40000 [==============================] - 2s 38us/step - loss: 0.0221 - acc: 0.9829\n",
            "Epoch 5/10\n",
            "40000/40000 [==============================] - 2s 38us/step - loss: 0.0191 - acc: 0.9850\n",
            "Epoch 6/10\n",
            "40000/40000 [==============================] - 2s 38us/step - loss: 0.0168 - acc: 0.9871\n",
            "Epoch 7/10\n",
            "40000/40000 [==============================] - 2s 39us/step - loss: 0.0151 - acc: 0.9879\n",
            "Epoch 8/10\n",
            "40000/40000 [==============================] - 2s 39us/step - loss: 0.0141 - acc: 0.9893\n",
            "Epoch 9/10\n",
            "40000/40000 [==============================] - 2s 39us/step - loss: 0.0129 - acc: 0.9906\n",
            "Epoch 10/10\n",
            "40000/40000 [==============================] - 2s 38us/step - loss: 0.0120 - acc: 0.9910\n"
          ],
          "name": "stdout"
        }
      ]
    },
    {
      "cell_type": "code",
      "metadata": {
        "id": "_4FFFlx-yJF_",
        "colab_type": "code",
        "colab": {
          "base_uri": "https://localhost:8080/",
          "height": 34
        },
        "outputId": "70998511-db94-4b2f-9092-864ef1b5eb29"
      },
      "source": [
        "scores = model.evaluate(X_test, y_test, verbose=0)\n",
        "print(\"%s: %.2f%%\" % (model.metrics_names[1], scores[1]*100))"
      ],
      "execution_count": 24,
      "outputs": [
        {
          "output_type": "stream",
          "text": [
            "acc: 99.16%\n"
          ],
          "name": "stdout"
        }
      ]
    },
    {
      "cell_type": "markdown",
      "metadata": {
        "id": "hKImn4s5Gtl2",
        "colab_type": "text"
      },
      "source": [
        ""
      ]
    }
  ]
}